{
 "cells": [
  {
   "cell_type": "markdown",
   "metadata": {},
   "source": [
    "# 771948_A23_T3A - Group Work Assignment #\n",
    "# Task 2 - Multi-label image-based digit classification problem #\n",
    "## Assignment by Chris Mintz 202369825 and Antonia Agunbiade 202375309 ##"
   ]
  },
  {
   "cell_type": "markdown",
   "metadata": {},
   "source": [
    "---\n",
    "### Additional notes from class chat ###\n",
    "#### 1. Labels from dataset will be folder names\n",
    "#### 2. Beware of the multi image model classifying into triplets instead of single digits. The output shape should be 1000 instead of 10\n",
    "#### 3. DO NOT recombine the split data. It has to be used as is as per TA Khadjia\n",
    "#### 4. From Khadjia: The provided splits into training, validation and testing were designed to simulate real-world scenarios. Teams must develop a baseline model using these splits and gthen improve upon this baseline through various techniques such as preprocessing and model architecture enhancements.\n",
    "---"
   ]
  },
  {
   "cell_type": "markdown",
   "metadata": {},
   "source": [
    "# Task 6 - Load and preprocess the dataset for multi-label image-based digit classification task\n",
    "\n",
    "## <b>References</b>\n",
    "\n",
    "Johns, Ray. (2024). PyTorch vs TensorFlow for your Python Deep Learning Project. Available at: https://realpython.com/pytorch-vs-tensorflow/. [Accessed Aug 5, 2024]"
   ]
  },
  {
   "cell_type": "code",
   "execution_count": 1,
   "metadata": {},
   "outputs": [],
   "source": [
    "# For this assignment we have chosen to use the TensorFlow over PyTorch as TensorFlow 2.0 has eager execution and the Keras APIs have more prefabricated components for us to use.\n",
    "import tensorflow as tf\n",
    "from tensorflow import keras\n",
    "# Needed for image pre-processing\n",
    "from PIL import Image\n",
    "import os\n",
    "# there is a lint problem access problem with the latest release of TensorFlow/Keras so we have to go direct to the root call\n",
    "from keras._tf_keras.keras.preprocessing.image import ImageDataGenerator\n",
    "from keras._tf_keras.keras.models import Sequential\n",
    "from keras._tf_keras.keras.layers import Conv2D, MaxPooling2D, Flatten, Dense, Activation, Dropout, Input\n",
    "# we want these for some visualizations\n",
    "import matplotlib.pyplot as plt\n",
    "import numpy as np\n",
    "# for progress bars\n",
    "from tqdm import tqdm\n",
    "\n",
    "# Change directory location as needed. This should be the root of the unzipped dataset and the initial folder visible shuold be \"triple_mnist\" \n",
    "# -------------------------------------------\n",
    "dataset_root_dir = 'z:'\n",
    "log_dir = dataset_root_dir + '\\\\logs'\n",
    "# -------------------------------------------\n",
    "\n",
    "# set this to true for overnight detailed training results\n",
    "# -------------------------------------------\n",
    "extreme_training = False\n",
    "# -------------------------------------------\n",
    "\n",
    "# Set the number of epochs to train for\n",
    "planned_epochs = 20\n",
    "if extreme_training is False:\n",
    "    planned_epochs = 5\n",
    "\n",
    "\n",
    "# Set the random seed for reproducibility\n",
    "tf.random.set_seed(42)\n",
    "\n",
    "# Define our data split directory locations\n",
    "training_dir = dataset_root_dir + '\\\\triple_mnist\\\\train'\n",
    "validate_dir = dataset_root_dir + '\\\\triple_mnist\\\\val'\n",
    "test_dir = dataset_root_dir + '\\\\triple_mnist\\\\test'\n",
    "\n",
    "# mode switch for label encoding tests\n",
    "# class_mode_default = 'categorical' # or sparse\n",
    "class_mode_default = 'sparse' # or categorical\n",
    "#loss_mode_default = 'categorical_crossentropy' # or sparse_categorical_crossentropy\n",
    "loss_mode_default = 'sparse_categorical_crossentropy' # or categorical_crossentropy\n",
    "\n",
    "\n",
    "# Define our image parameters\n",
    "image_height = 84\n",
    "image_width = 84\n",
    "batch_size = 64\n",
    "# these are grayscale images, so we will only have 1 channel and this will be enforced in the data loading process\n",
    "channels = 1\n",
    "# output classes will be 0 to 9 which = 10\n",
    "num_classes = 10\n",
    "\n",
    "# Data augmentation and preprocessing parameters to initialize the ImageDataGenerator\n",
    "# Transformations we are NOT using include: zoom_range, horizontal_flip, vertical_flip, fill_mode, channel_shift_range, brightness_range, zca_epsilon, zca_whitening\n",
    "# Note that we had the opportunity to use the \"preprocessing_function\" parameter to crop the images as needed but we chose to persist the cropped images to disk to prevent\n",
    "# this function from being called with each epoch. This is because the cropping function is computationally expensive and we only need to do it once.\n",
    "idg = ImageDataGenerator(\n",
    "    rescale=1./255,          # Normalize pixel values to [0, 1]\n",
    "    shear_range=0.2,         # Apply shear transformations\n",
    "    rotation_range=40,       # Randomly rotate images by up to 40 degrees\n",
    "    width_shift_range=0.2,   # Randomly shift images horizontally by up to 20% of the width\n",
    "    height_shift_range=0.2,   # Randomly shift images vertically by up to 20% of the height\n",
    ")"
   ]
  },
  {
   "cell_type": "markdown",
   "metadata": {},
   "source": [
    "## Pre-processing to get the triplet digit data into single values\n",
    "### The data came to us as a series of triplet hand written numbers meaning that in the 84 x 84 image there are three images. Upon inspection there is a clean divide between all digits despite them having random y placement in the frame. Our best approach is to take the file name, divide the image into three and then save out the single hand written digit to a new folder. To manage this in memory could be costly so we will check if the images exist on your disk, write them if necessary, but read them from pre-processesd state if they have already been cleaned in your local dataset. We will watch for images that get cropped but even that might be only a couple of pixels."
   ]
  },
  {
   "cell_type": "code",
   "execution_count": 2,
   "metadata": {},
   "outputs": [],
   "source": [
    "# --------------------------------------------------------------------------\n",
    "# this is the function that will crop a triplet digit image into three separate images and return them as a list of three images.\n",
    "# this function does not manage disk persistence, it is only for in-memory processing\n",
    "def crop_image(image):\n",
    "    image_return = []\n",
    "    x_cropsize = 28\n",
    "    y_cropsize = 84\n",
    "    x_croplength = x_cropsize/2\n",
    "    y_croplength = y_cropsize/2\n",
    "    # define the centers of the three cropped images and the crop size will go to the edge coords from there\n",
    "    x_centers = [14, 42, 70]\n",
    "    y_centers = [42, 42, 42]\n",
    "    # create the three cropped images\n",
    "    image_return = [None, None, None]\n",
    "    for i in range(3):\n",
    "        image_return[i] = image.crop((x_centers[i]-x_croplength, y_centers[i]-y_croplength, x_centers[i]+x_croplength, y_centers[i]+y_croplength))\n",
    "        \n",
    "    return image_return\n",
    "\n",
    "# --------------------------------------------------------------------------\n",
    "# this function lets us look at our images in the datasets\n",
    "# let's peek into the dataset by loading the first batch of num_to_show images\n",
    "def datset_peek(idg_show: ImageDataGenerator, num_to_show: int):\n",
    "\n",
    "        fig, ax = plt.subplots(1, num_to_show, figsize=(10, 10))\n",
    "        for i in range(num_to_show):\n",
    "            ax[i].imshow(np.squeeze(idg_show[0][0][i]), cmap='gray')\n",
    "            if class_mode_default == 'categorical':\n",
    "                # convert the one-hot encoded label back to the original label\n",
    "                ax[i].set_title(f'Lbl: {np.argmax(idg_show[0][1][i])}')\n",
    "            else:\n",
    "                 ax[i].set_title(f'Lbl: {int(idg_show[0][1][i])}')\n",
    "            ax[i].axis('off')\n",
    "        plt.show()"
   ]
  },
  {
   "cell_type": "code",
   "execution_count": 3,
   "metadata": {},
   "outputs": [],
   "source": [
    "#--------------------------------------------------------------------------\n",
    "def process_triplets(processing_path: str, preprocessing_completed_path: str, test_mode: bool = False) -> int:\n",
    "    # this function will process the triplet images in the processing_path and crop them into individual images and save them to the preprocessing_completed_path\n",
    "    \"\"\"\n",
    "    Parameters:\n",
    "    processing_path: the path to the folder containing the triplet MNIST images.\n",
    "    preprocessing_completed_path: the path to the folder where the cropped images will be saved. This path will be created for you in the process.\n",
    "    test_mode: if True, the function will only process the first folder in the processing_path. This is useful for initial testing of the function. Once done testing, delete the preprocessing folders and re-run with this flag removed. \n",
    "    Returns:\n",
    "    int: the number of files created in the preprocessing_completed_path\n",
    "    \"\"\"\n",
    "    # instead of looking to disk for each instance of the new file to find out the name, we're going to keep an in-memory index of the files we've created\n",
    "    cropped_index = [0,0,0,0,0,0,0,0,0,0]\n",
    "    files_created = 0 # running total of all triplet files loaded\n",
    "    all_folders = os.listdir(processing_path)\n",
    "    # Enumerate and load the directories\n",
    "    for index, image_folder in enumerate(tqdm(all_folders, desc=f'processing folders in the {processing_path} directory')):\n",
    "        triplet_images = [] # a list of the images in the current folder \n",
    "        # now go through each directory and get the images\n",
    "        curr_files = os.listdir(os.path.join(processing_path, image_folder))\n",
    "        for image_file in curr_files:\n",
    "            file_path = os.path.join(processing_path, image_folder, image_file)\n",
    "            try:\n",
    "                image = Image.open(file_path)\n",
    "                triplet_images.append(image)\n",
    "                ##print(f'folder index {index}: {image_file} loaded successfully from {file_path}.')\n",
    "            except PermissionError as e:\n",
    "                print(f'Permission denied, please launch your IDE as admin: {e}')\n",
    "            except Exception as e:\n",
    "                print(f'An error occurred: {e}')\n",
    "        # now we have all the images in the folder, let's crop them\n",
    "        crop_labels = list(image_folder)\n",
    "        # loop through current triplet_images and pass to the crop_image function\n",
    "        cropped_images = []\n",
    "        for image in triplet_images:\n",
    "            cropped_images = crop_image(image)\n",
    "            # now we need to save these images to disk\n",
    "            for i in range(3):\n",
    "                # if this is the first time we've written to this label, we need to create the folder\n",
    "                if int(cropped_index[int(crop_labels[i])]) == 0:\n",
    "                    os.makedirs(os.path.join(preprocessing_completed_path, crop_labels[i]), exist_ok=True)\n",
    "                cropped_images[i].save(os.path.join(preprocessing_completed_path, crop_labels[i], f'{cropped_index[int(crop_labels[i])]}_{crop_labels[i]}.png'))\n",
    "                # increment the index for the label for the next image\n",
    "                cropped_index[int(crop_labels[i])] += 1\n",
    "                files_created += 1\n",
    "        if test_mode:\n",
    "            break # iterate only the first folder\n",
    "    return files_created"
   ]
  },
  {
   "cell_type": "code",
   "execution_count": 4,
   "metadata": {},
   "outputs": [
    {
     "name": "stdout",
     "output_type": "stream",
     "text": [
      "Training preprocessed images exist\n",
      "Validation preprocessed images exist\n",
      "Test preprocessed images exist\n"
     ]
    }
   ],
   "source": [
    "# WARNING - this code commits 300,000 files to your file drive and will take a long time to run - you can monitor progress at the bottom of the cell\n",
    "# Check and see if the triplet images have been cropped and saved to your drive\n",
    "training_preprocessed_dir = dataset_root_dir + '\\\\triple_mnist\\\\train_preprocessed'\n",
    "validate_preprocessed_dir = dataset_root_dir + '\\\\triple_mnist\\\\val_preprocessed'\n",
    "test_preprocessed_dir = dataset_root_dir + '\\\\triple_mnist\\\\test_preprocessed'\n",
    "if os.path.exists(training_preprocessed_dir):\n",
    "    print('Training preprocessed images exist')\n",
    "else:\n",
    "    process_triplets(training_dir, training_preprocessed_dir)\n",
    "\n",
    "if os.path.exists(validate_preprocessed_dir):\n",
    "    print('Validation preprocessed images exist')\n",
    "else:\n",
    "    process_triplets(validate_dir, validate_preprocessed_dir)\n",
    "\n",
    "if os.path.exists(test_preprocessed_dir):\n",
    "    print('Test preprocessed images exist')\n",
    "else:\n",
    "    process_triplets(test_dir, test_preprocessed_dir)"
   ]
  },
  {
   "cell_type": "code",
   "execution_count": 5,
   "metadata": {},
   "outputs": [
    {
     "name": "stdout",
     "output_type": "stream",
     "text": [
      "generating training set\n",
      "Found 192000 images belonging to 10 classes.\n",
      "generating test set\n",
      "Found 60000 images belonging to 10 classes.\n",
      "generating validation set\n",
      "Found 48000 images belonging to 10 classes.\n",
      "label sanity peek on training set: [0 0 0 ... 9 9 9]\n"
     ]
    }
   ],
   "source": [
    "# Load the images from a locally mapped source (see README.md for details on setting up local drive mapping)\n",
    "# We've used the idg to load only the training images and preprocess them with the above parameters\n",
    "# Images are brought in as grayscale (single channel) as they are black and white images\n",
    "print('generating training set')\n",
    "training_generator = idg.flow_from_directory(\n",
    "    training_preprocessed_dir,\n",
    "    target_size=(image_height, image_width),\n",
    "    batch_size=batch_size,\n",
    "    class_mode=class_mode_default,\n",
    "    color_mode='grayscale'\n",
    ")\n",
    "\n",
    "print('generating test set')\n",
    "# Our test and validation data should not be augmented so their init is simpler and does not use our predefined idg parameters\n",
    "test_generator = ImageDataGenerator(rescale=1./255).flow_from_directory(\n",
    "    test_preprocessed_dir,\n",
    "    target_size=(image_height, image_width),\n",
    "    batch_size=batch_size,\n",
    "    class_mode=class_mode_default,\n",
    "    color_mode='grayscale'\n",
    ")\n",
    "\n",
    "print('generating validation set')\n",
    "# Note use of validation data but no augmentation\n",
    "validation_generator = ImageDataGenerator(rescale=1./255).flow_from_directory(\n",
    "    validate_preprocessed_dir,\n",
    "    target_size=(image_height, image_width),\n",
    "    batch_size=batch_size,\n",
    "    class_mode=class_mode_default,\n",
    "    color_mode='grayscale'\n",
    ")\n",
    "\n",
    "print(f'label sanity peek on training set: {training_generator.labels}')"
   ]
  },
  {
   "cell_type": "code",
   "execution_count": 6,
   "metadata": {},
   "outputs": [
    {
     "name": "stdout",
     "output_type": "stream",
     "text": [
      "training generator shape (84, 84, 1)\n",
      "validation generator shape (84, 84, 1)\n",
      "test generator shape (84, 84, 1)\n"
     ]
    }
   ],
   "source": [
    "# check and see if all the images are the same shape before feeding them into the model\n",
    "print(f'training generator shape {training_generator.image_shape}')\n",
    "print(f'validation generator shape {validation_generator.image_shape}')\n",
    "print(f'test generator shape {test_generator.image_shape}')\n"
   ]
  },
  {
   "cell_type": "markdown",
   "metadata": {},
   "source": [
    "# Task 7 - Build a convultional neural network (CNN) model for the multi-label image-based digit classification task"
   ]
  },
  {
   "cell_type": "code",
   "execution_count": 7,
   "metadata": {},
   "outputs": [
    {
     "data": {
      "text/html": [
       "<pre style=\"white-space:pre;overflow-x:auto;line-height:normal;font-family:Menlo,'DejaVu Sans Mono',consolas,'Courier New',monospace\"><span style=\"font-weight: bold\">Model: \"sequential\"</span>\n",
       "</pre>\n"
      ],
      "text/plain": [
       "\u001b[1mModel: \"sequential\"\u001b[0m\n"
      ]
     },
     "metadata": {},
     "output_type": "display_data"
    },
    {
     "data": {
      "text/html": [
       "<pre style=\"white-space:pre;overflow-x:auto;line-height:normal;font-family:Menlo,'DejaVu Sans Mono',consolas,'Courier New',monospace\">┏━━━━━━━━━━━━━━━━━━━━━━━━━━━━━━━━━┳━━━━━━━━━━━━━━━━━━━━━━━━┳━━━━━━━━━━━━━━━┓\n",
       "┃<span style=\"font-weight: bold\"> Layer (type)                    </span>┃<span style=\"font-weight: bold\"> Output Shape           </span>┃<span style=\"font-weight: bold\">       Param # </span>┃\n",
       "┡━━━━━━━━━━━━━━━━━━━━━━━━━━━━━━━━━╇━━━━━━━━━━━━━━━━━━━━━━━━╇━━━━━━━━━━━━━━━┩\n",
       "│ conv2d (<span style=\"color: #0087ff; text-decoration-color: #0087ff\">Conv2D</span>)                 │ (<span style=\"color: #00d7ff; text-decoration-color: #00d7ff\">None</span>, <span style=\"color: #00af00; text-decoration-color: #00af00\">82</span>, <span style=\"color: #00af00; text-decoration-color: #00af00\">82</span>, <span style=\"color: #00af00; text-decoration-color: #00af00\">32</span>)     │           <span style=\"color: #00af00; text-decoration-color: #00af00\">320</span> │\n",
       "├─────────────────────────────────┼────────────────────────┼───────────────┤\n",
       "│ max_pooling2d (<span style=\"color: #0087ff; text-decoration-color: #0087ff\">MaxPooling2D</span>)    │ (<span style=\"color: #00d7ff; text-decoration-color: #00d7ff\">None</span>, <span style=\"color: #00af00; text-decoration-color: #00af00\">41</span>, <span style=\"color: #00af00; text-decoration-color: #00af00\">41</span>, <span style=\"color: #00af00; text-decoration-color: #00af00\">32</span>)     │             <span style=\"color: #00af00; text-decoration-color: #00af00\">0</span> │\n",
       "├─────────────────────────────────┼────────────────────────┼───────────────┤\n",
       "│ dropout (<span style=\"color: #0087ff; text-decoration-color: #0087ff\">Dropout</span>)               │ (<span style=\"color: #00d7ff; text-decoration-color: #00d7ff\">None</span>, <span style=\"color: #00af00; text-decoration-color: #00af00\">41</span>, <span style=\"color: #00af00; text-decoration-color: #00af00\">41</span>, <span style=\"color: #00af00; text-decoration-color: #00af00\">32</span>)     │             <span style=\"color: #00af00; text-decoration-color: #00af00\">0</span> │\n",
       "├─────────────────────────────────┼────────────────────────┼───────────────┤\n",
       "│ flatten (<span style=\"color: #0087ff; text-decoration-color: #0087ff\">Flatten</span>)               │ (<span style=\"color: #00d7ff; text-decoration-color: #00d7ff\">None</span>, <span style=\"color: #00af00; text-decoration-color: #00af00\">53792</span>)          │             <span style=\"color: #00af00; text-decoration-color: #00af00\">0</span> │\n",
       "├─────────────────────────────────┼────────────────────────┼───────────────┤\n",
       "│ dense (<span style=\"color: #0087ff; text-decoration-color: #0087ff\">Dense</span>)                   │ (<span style=\"color: #00d7ff; text-decoration-color: #00d7ff\">None</span>, <span style=\"color: #00af00; text-decoration-color: #00af00\">128</span>)            │     <span style=\"color: #00af00; text-decoration-color: #00af00\">6,885,504</span> │\n",
       "├─────────────────────────────────┼────────────────────────┼───────────────┤\n",
       "│ dropout_1 (<span style=\"color: #0087ff; text-decoration-color: #0087ff\">Dropout</span>)             │ (<span style=\"color: #00d7ff; text-decoration-color: #00d7ff\">None</span>, <span style=\"color: #00af00; text-decoration-color: #00af00\">128</span>)            │             <span style=\"color: #00af00; text-decoration-color: #00af00\">0</span> │\n",
       "├─────────────────────────────────┼────────────────────────┼───────────────┤\n",
       "│ dense_1 (<span style=\"color: #0087ff; text-decoration-color: #0087ff\">Dense</span>)                 │ (<span style=\"color: #00d7ff; text-decoration-color: #00d7ff\">None</span>, <span style=\"color: #00af00; text-decoration-color: #00af00\">10</span>)             │         <span style=\"color: #00af00; text-decoration-color: #00af00\">1,290</span> │\n",
       "└─────────────────────────────────┴────────────────────────┴───────────────┘\n",
       "</pre>\n"
      ],
      "text/plain": [
       "┏━━━━━━━━━━━━━━━━━━━━━━━━━━━━━━━━━┳━━━━━━━━━━━━━━━━━━━━━━━━┳━━━━━━━━━━━━━━━┓\n",
       "┃\u001b[1m \u001b[0m\u001b[1mLayer (type)                   \u001b[0m\u001b[1m \u001b[0m┃\u001b[1m \u001b[0m\u001b[1mOutput Shape          \u001b[0m\u001b[1m \u001b[0m┃\u001b[1m \u001b[0m\u001b[1m      Param #\u001b[0m\u001b[1m \u001b[0m┃\n",
       "┡━━━━━━━━━━━━━━━━━━━━━━━━━━━━━━━━━╇━━━━━━━━━━━━━━━━━━━━━━━━╇━━━━━━━━━━━━━━━┩\n",
       "│ conv2d (\u001b[38;5;33mConv2D\u001b[0m)                 │ (\u001b[38;5;45mNone\u001b[0m, \u001b[38;5;34m82\u001b[0m, \u001b[38;5;34m82\u001b[0m, \u001b[38;5;34m32\u001b[0m)     │           \u001b[38;5;34m320\u001b[0m │\n",
       "├─────────────────────────────────┼────────────────────────┼───────────────┤\n",
       "│ max_pooling2d (\u001b[38;5;33mMaxPooling2D\u001b[0m)    │ (\u001b[38;5;45mNone\u001b[0m, \u001b[38;5;34m41\u001b[0m, \u001b[38;5;34m41\u001b[0m, \u001b[38;5;34m32\u001b[0m)     │             \u001b[38;5;34m0\u001b[0m │\n",
       "├─────────────────────────────────┼────────────────────────┼───────────────┤\n",
       "│ dropout (\u001b[38;5;33mDropout\u001b[0m)               │ (\u001b[38;5;45mNone\u001b[0m, \u001b[38;5;34m41\u001b[0m, \u001b[38;5;34m41\u001b[0m, \u001b[38;5;34m32\u001b[0m)     │             \u001b[38;5;34m0\u001b[0m │\n",
       "├─────────────────────────────────┼────────────────────────┼───────────────┤\n",
       "│ flatten (\u001b[38;5;33mFlatten\u001b[0m)               │ (\u001b[38;5;45mNone\u001b[0m, \u001b[38;5;34m53792\u001b[0m)          │             \u001b[38;5;34m0\u001b[0m │\n",
       "├─────────────────────────────────┼────────────────────────┼───────────────┤\n",
       "│ dense (\u001b[38;5;33mDense\u001b[0m)                   │ (\u001b[38;5;45mNone\u001b[0m, \u001b[38;5;34m128\u001b[0m)            │     \u001b[38;5;34m6,885,504\u001b[0m │\n",
       "├─────────────────────────────────┼────────────────────────┼───────────────┤\n",
       "│ dropout_1 (\u001b[38;5;33mDropout\u001b[0m)             │ (\u001b[38;5;45mNone\u001b[0m, \u001b[38;5;34m128\u001b[0m)            │             \u001b[38;5;34m0\u001b[0m │\n",
       "├─────────────────────────────────┼────────────────────────┼───────────────┤\n",
       "│ dense_1 (\u001b[38;5;33mDense\u001b[0m)                 │ (\u001b[38;5;45mNone\u001b[0m, \u001b[38;5;34m10\u001b[0m)             │         \u001b[38;5;34m1,290\u001b[0m │\n",
       "└─────────────────────────────────┴────────────────────────┴───────────────┘\n"
      ]
     },
     "metadata": {},
     "output_type": "display_data"
    },
    {
     "data": {
      "text/html": [
       "<pre style=\"white-space:pre;overflow-x:auto;line-height:normal;font-family:Menlo,'DejaVu Sans Mono',consolas,'Courier New',monospace\"><span style=\"font-weight: bold\"> Total params: </span><span style=\"color: #00af00; text-decoration-color: #00af00\">6,887,114</span> (26.27 MB)\n",
       "</pre>\n"
      ],
      "text/plain": [
       "\u001b[1m Total params: \u001b[0m\u001b[38;5;34m6,887,114\u001b[0m (26.27 MB)\n"
      ]
     },
     "metadata": {},
     "output_type": "display_data"
    },
    {
     "data": {
      "text/html": [
       "<pre style=\"white-space:pre;overflow-x:auto;line-height:normal;font-family:Menlo,'DejaVu Sans Mono',consolas,'Courier New',monospace\"><span style=\"font-weight: bold\"> Trainable params: </span><span style=\"color: #00af00; text-decoration-color: #00af00\">6,887,114</span> (26.27 MB)\n",
       "</pre>\n"
      ],
      "text/plain": [
       "\u001b[1m Trainable params: \u001b[0m\u001b[38;5;34m6,887,114\u001b[0m (26.27 MB)\n"
      ]
     },
     "metadata": {},
     "output_type": "display_data"
    },
    {
     "data": {
      "text/html": [
       "<pre style=\"white-space:pre;overflow-x:auto;line-height:normal;font-family:Menlo,'DejaVu Sans Mono',consolas,'Courier New',monospace\"><span style=\"font-weight: bold\"> Non-trainable params: </span><span style=\"color: #00af00; text-decoration-color: #00af00\">0</span> (0.00 B)\n",
       "</pre>\n"
      ],
      "text/plain": [
       "\u001b[1m Non-trainable params: \u001b[0m\u001b[38;5;34m0\u001b[0m (0.00 B)\n"
      ]
     },
     "metadata": {},
     "output_type": "display_data"
    }
   ],
   "source": [
    "# --------------------------------------------------------------------------\n",
    "# this function keeps our baseline model reusable and easy to modify\n",
    "def create_model(dropout: float=0.25, dropout_2: float=0.5, density: int=128, optimizer='adam', loss=loss_mode_default, metrics=['accuracy']):\n",
    "    \"\"\"\n",
    "    Parameters:\n",
    "    dropout: the dropout rate to use in the model\n",
    "    dropout_2: the dropout rate to use in the second dropout of the model\n",
    "    density: the number of neurons in the dense layer\n",
    "    optimizer: the optimizer to use in the model\n",
    "    loss: the loss function to use in the model\n",
    "    metrics: the metrics to use in the model\n",
    "    Returns:\n",
    "    model: a compiled Keras model\n",
    "    \"\"\"\n",
    "    #TODO: Don't forget to use Dropout layers to prevent overfitting\n",
    "    # Model setup\n",
    "    model = Sequential()\n",
    "    model.add(Input(shape=(image_height, image_width, channels)))\n",
    "    model.add(Conv2D(32, (3, 3), activation='relu'))\n",
    "    model.add(MaxPooling2D((2, 2)))\n",
    "    if extreme_training:\n",
    "        model.add(Conv2D(64, (3, 3), activation='relu'))\n",
    "        model.add(MaxPooling2D((2, 2)))\n",
    "        model.add(Dense(density, activation='relu'))\n",
    "    model.add(Dropout(dropout))\n",
    "    model.add(Flatten())\n",
    "    model.add(Dense(density, activation='relu'))\n",
    "    model.add(Dropout(dropout_2))\n",
    "    # Adjust the final layer to match the target shape\n",
    "    model.add(Dense(10, activation='softmax'))\n",
    "    \n",
    "    # Compile the model using the parameters passed in\n",
    "    model.compile(optimizer=optimizer, loss=loss, metrics=metrics)\n",
    "    return model\n",
    "\n",
    "# Show the model summary and ensure the final layer count matches our desired output of 10 as defined in the final Dense layer.\n",
    "model = create_model()\n",
    "model.summary()"
   ]
  },
  {
   "cell_type": "code",
   "execution_count": 8,
   "metadata": {},
   "outputs": [
    {
     "data": {
      "image/png": "[encoded data removed]",
      "text/plain": [
       "<Figure size 1000x1000 with 10 Axes>"
      ]
     },
     "metadata": {},
     "output_type": "display_data"
    },
    {
     "data": {
      "image/png": "[encoded data removed]",
      "text/plain": [
       "<Figure size 1000x1000 with 10 Axes>"
      ]
     },
     "metadata": {},
     "output_type": "display_data"
    },
    {
     "data": {
      "image/png": "[encoded data removed]",
      "text/plain": [
       "<Figure size 1000x1000 with 10 Axes>"
      ]
     },
     "metadata": {},
     "output_type": "display_data"
    }
   ],
   "source": [
    "datset_peek(training_generator, 10)\n",
    "datset_peek(validation_generator, 10)\n",
    "datset_peek(test_generator, 10)"
   ]
  },
  {
   "cell_type": "code",
   "execution_count": 11,
   "metadata": {},
   "outputs": [
    {
     "name": "stdout",
     "output_type": "stream",
     "text": [
      "training samples: 192000\n",
      "validation samples: 48000\n",
      "batch_size: 64\n",
      "planned epochs: 5\n",
      "training steps per epoch: 30\n",
      "validation steps per epoch: 7\n",
      "test steps per epoch: 9\n",
      "Epoch 1/5\n",
      "\u001b[1m30/30\u001b[0m \u001b[32m━━━━━━━━━━━━━━━━━━━━\u001b[0m\u001b[37m\u001b[0m \u001b[1m5s\u001b[0m 161ms/step - accuracy: 0.2316 - loss: 2.0453 - val_accuracy: 0.3214 - val_loss: 1.9097\n",
      "Epoch 2/5\n",
      "\u001b[1m30/30\u001b[0m \u001b[32m━━━━━━━━━━━━━━━━━━━━\u001b[0m\u001b[37m\u001b[0m \u001b[1m5s\u001b[0m 158ms/step - accuracy: 0.2553 - loss: 2.0416 - val_accuracy: 0.3705 - val_loss: 1.8417\n",
      "Epoch 3/5\n",
      "\u001b[1m30/30\u001b[0m \u001b[32m━━━━━━━━━━━━━━━━━━━━\u001b[0m\u001b[37m\u001b[0m \u001b[1m5s\u001b[0m 157ms/step - accuracy: 0.2510 - loss: 2.0124 - val_accuracy: 0.2924 - val_loss: 1.8932\n",
      "Epoch 4/5\n",
      "\u001b[1m30/30\u001b[0m \u001b[32m━━━━━━━━━━━━━━━━━━━━\u001b[0m\u001b[37m\u001b[0m \u001b[1m5s\u001b[0m 158ms/step - accuracy: 0.2578 - loss: 1.9841 - val_accuracy: 0.3795 - val_loss: 1.8274\n",
      "Epoch 5/5\n",
      "\u001b[1m30/30\u001b[0m \u001b[32m━━━━━━━━━━━━━━━━━━━━\u001b[0m\u001b[37m\u001b[0m \u001b[1m5s\u001b[0m 159ms/step - accuracy: 0.2730 - loss: 1.9453 - val_accuracy: 0.3438 - val_loss: 1.9070\n",
      "\u001b[1m9/9\u001b[0m \u001b[32m━━━━━━━━━━━━━━━━━━━━\u001b[0m\u001b[37m\u001b[0m \u001b[1m0s\u001b[0m 34ms/step - accuracy: 0.3193 - loss: 1.8632\n",
      "Test accuracy on base model:  [1.8662397861480713, 0.3368055522441864]\n"
     ]
    }
   ],
   "source": [
    "# trying TensorBoard which will be a callback to an external callback that writes a log file for us to visualize\n",
    "# I'm not sure a directory check is needed here, but it's a good habit to get into\n",
    "if os.path.exists(log_dir) is not True:\n",
    "        os.makedirs(log_dir)\n",
    "tensorboard_callback = tf.keras.callbacks.TensorBoard(log_dir=log_dir)\n",
    "\n",
    "# we will adjust the steps per epoch based on the extreme_training flag\n",
    "steps_per_epoch_bias = 100\n",
    "if extreme_training:\n",
    "        steps_per_epoch_bias = 2\n",
    "        \n",
    "training_steps_per_epoch = training_generator.samples // batch_size // steps_per_epoch_bias\n",
    "validation_steps_per_epoch = validation_generator.samples // batch_size // steps_per_epoch_bias\n",
    "test_steps_per_epoch = test_generator.samples // batch_size // steps_per_epoch_bias\n",
    "\n",
    "print('training samples:', training_generator.samples)\n",
    "print('validation samples:', validation_generator.samples)\n",
    "\n",
    "print('batch_size:', batch_size)\n",
    "\n",
    "print('planned epochs:', planned_epochs)\n",
    "print('training steps per epoch:', training_steps_per_epoch)\n",
    "print('validation steps per epoch:', validation_steps_per_epoch)\n",
    "print('test steps per epoch:', test_steps_per_epoch)\n",
    "\n",
    "# model training time and we'll hold on to history for visualization\n",
    "history = model.fit(\n",
    "        training_generator,\n",
    "        steps_per_epoch=training_steps_per_epoch,\n",
    "        validation_data=validation_generator,\n",
    "        validation_steps=validation_steps_per_epoch,\n",
    "        epochs=planned_epochs,\n",
    "        verbose=1,\n",
    "        callbacks=[tensorboard_callback])\n",
    "\n",
    "# Evaluate the model on the test data using `evaluate`\n",
    "accuracy = model.evaluate(validation_generator, steps=test_steps_per_epoch, verbose=1)\n",
    "print('Test accuracy on base model: ', accuracy)\n"
   ]
  },
  {
   "cell_type": "markdown",
   "metadata": {},
   "source": [
    "# Task 8 - Fine-tune the CNN model using appropriate techniques like hyperparameter tuning, cross-validation, etc"
   ]
  },
  {
   "cell_type": "code",
   "execution_count": 12,
   "metadata": {},
   "outputs": [
    {
     "name": "stdout",
     "output_type": "stream",
     "text": [
      "quick feel method for hyperparameter tuning\n",
      "------------------------------------------------------\n",
      "session count: 0, dropout 1: 0.1, dropout 2: 0.3, density: 32, optimizer: adam\n",
      "Epoch 1/5\n",
      "\u001b[1m30/30\u001b[0m \u001b[32m━━━━━━━━━━━━━━━━━━━━\u001b[0m\u001b[37m\u001b[0m \u001b[1m3s\u001b[0m 79ms/step - accuracy: 0.0987 - loss: 2.3283 - val_accuracy: 0.1540 - val_loss: 2.2858\n",
      "Epoch 2/5\n",
      "\u001b[1m30/30\u001b[0m \u001b[32m━━━━━━━━━━━━━━━━━━━━\u001b[0m\u001b[37m\u001b[0m \u001b[1m2s\u001b[0m 71ms/step - accuracy: 0.1171 - loss: 2.2930 - val_accuracy: 0.2188 - val_loss: 2.2490\n",
      "Epoch 3/5\n",
      "\u001b[1m30/30\u001b[0m \u001b[32m━━━━━━━━━━━━━━━━━━━━\u001b[0m\u001b[37m\u001b[0m \u001b[1m2s\u001b[0m 70ms/step - accuracy: 0.1612 - loss: 2.2681 - val_accuracy: 0.2210 - val_loss: 2.1888\n",
      "Epoch 4/5\n",
      "\u001b[1m30/30\u001b[0m \u001b[32m━━━━━━━━━━━━━━━━━━━━\u001b[0m\u001b[37m\u001b[0m \u001b[1m2s\u001b[0m 68ms/step - accuracy: 0.1801 - loss: 2.2172 - val_accuracy: 0.2545 - val_loss: 2.1278\n",
      "Epoch 5/5\n",
      "\u001b[1m30/30\u001b[0m \u001b[32m━━━━━━━━━━━━━━━━━━━━\u001b[0m\u001b[37m\u001b[0m \u001b[1m2s\u001b[0m 69ms/step - accuracy: 0.1752 - loss: 2.1858 - val_accuracy: 0.2478 - val_loss: 2.0672\n",
      "\u001b[1m9/9\u001b[0m \u001b[32m━━━━━━━━━━━━━━━━━━━━\u001b[0m\u001b[37m\u001b[0m \u001b[1m0s\u001b[0m 22ms/step - accuracy: 0.2373 - loss: 2.0880\n",
      "DONE!\n",
      "------------------------------------------------------\n",
      "session count: 1, dropout 1: 0.15, dropout 2: 0.4, density: 64, optimizer: sgd\n",
      "Epoch 1/5\n",
      "\u001b[1m30/30\u001b[0m \u001b[32m━━━━━━━━━━━━━━━━━━━━\u001b[0m\u001b[37m\u001b[0m \u001b[1m3s\u001b[0m 75ms/step - accuracy: 0.0888 - loss: 2.3062 - val_accuracy: 0.0982 - val_loss: 2.2989\n",
      "Epoch 2/5\n",
      "\u001b[1m30/30\u001b[0m \u001b[32m━━━━━━━━━━━━━━━━━━━━\u001b[0m\u001b[37m\u001b[0m \u001b[1m2s\u001b[0m 69ms/step - accuracy: 0.0982 - loss: 2.3005 - val_accuracy: 0.0915 - val_loss: 2.2927\n",
      "Epoch 3/5\n",
      "\u001b[1m30/30\u001b[0m \u001b[32m━━━━━━━━━━━━━━━━━━━━\u001b[0m\u001b[37m\u001b[0m \u001b[1m2s\u001b[0m 67ms/step - accuracy: 0.1114 - loss: 2.2933 - val_accuracy: 0.0893 - val_loss: 2.2972\n",
      "Epoch 4/5\n",
      "\u001b[1m30/30\u001b[0m \u001b[32m━━━━━━━━━━━━━━━━━━━━\u001b[0m\u001b[37m\u001b[0m \u001b[1m2s\u001b[0m 66ms/step - accuracy: 0.1085 - loss: 2.2974 - val_accuracy: 0.1295 - val_loss: 2.2892\n",
      "Epoch 5/5\n",
      "\u001b[1m30/30\u001b[0m \u001b[32m━━━━━━━━━━━━━━━━━━━━\u001b[0m\u001b[37m\u001b[0m \u001b[1m2s\u001b[0m 69ms/step - accuracy: 0.1123 - loss: 2.2934 - val_accuracy: 0.1138 - val_loss: 2.2830\n",
      "\u001b[1m9/9\u001b[0m \u001b[32m━━━━━━━━━━━━━━━━━━━━\u001b[0m\u001b[37m\u001b[0m \u001b[1m0s\u001b[0m 22ms/step - accuracy: 0.1271 - loss: 2.2839\n",
      "DONE!\n",
      "------------------------------------------------------\n",
      "session count: 2, dropout 1: 0.2, dropout 2: 0.5, density: 128, optimizer: rmsprop\n",
      "Epoch 1/5\n",
      "\u001b[1m30/30\u001b[0m \u001b[32m━━━━━━━━━━━━━━━━━━━━\u001b[0m\u001b[37m\u001b[0m \u001b[1m4s\u001b[0m 95ms/step - accuracy: 0.1107 - loss: 2.3276 - val_accuracy: 0.1719 - val_loss: 2.2541\n",
      "Epoch 2/5\n",
      "\u001b[1m30/30\u001b[0m \u001b[32m━━━━━━━━━━━━━━━━━━━━\u001b[0m\u001b[37m\u001b[0m \u001b[1m3s\u001b[0m 86ms/step - accuracy: 0.1708 - loss: 2.2507 - val_accuracy: 0.2478 - val_loss: 2.1619\n",
      "Epoch 3/5\n",
      "\u001b[1m30/30\u001b[0m \u001b[32m━━━━━━━━━━━━━━━━━━━━\u001b[0m\u001b[37m\u001b[0m \u001b[1m3s\u001b[0m 90ms/step - accuracy: 0.2020 - loss: 2.1902 - val_accuracy: 0.1741 - val_loss: 2.1744\n",
      "Epoch 4/5\n",
      "\u001b[1m30/30\u001b[0m \u001b[32m━━━━━━━━━━━━━━━━━━━━\u001b[0m\u001b[37m\u001b[0m \u001b[1m3s\u001b[0m 86ms/step - accuracy: 0.2247 - loss: 2.1326 - val_accuracy: 0.2969 - val_loss: 1.9695\n",
      "Epoch 5/5\n",
      "\u001b[1m30/30\u001b[0m \u001b[32m━━━━━━━━━━━━━━━━━━━━\u001b[0m\u001b[37m\u001b[0m \u001b[1m2s\u001b[0m 80ms/step - accuracy: 0.2265 - loss: 2.1135 - val_accuracy: 0.2679 - val_loss: 1.9976\n",
      "\u001b[1m9/9\u001b[0m \u001b[32m━━━━━━━━━━━━━━━━━━━━\u001b[0m\u001b[37m\u001b[0m \u001b[1m0s\u001b[0m 24ms/step - accuracy: 0.2188 - loss: 2.0201\n",
      "DONE!\n",
      "------------------------------------------------------\n",
      "session count: 3, dropout 1: 0.25, dropout 2: 0.6, density: 256, optimizer: adadelta\n",
      "Epoch 1/5\n",
      "\u001b[1m30/30\u001b[0m \u001b[32m━━━━━━━━━━━━━━━━━━━━\u001b[0m\u001b[37m\u001b[0m \u001b[1m5s\u001b[0m 128ms/step - accuracy: 0.1031 - loss: 2.3003 - val_accuracy: 0.0692 - val_loss: 2.3043\n",
      "Epoch 2/5\n",
      "\u001b[1m30/30\u001b[0m \u001b[32m━━━━━━━━━━━━━━━━━━━━\u001b[0m\u001b[37m\u001b[0m \u001b[1m4s\u001b[0m 121ms/step - accuracy: 0.1074 - loss: 2.3034 - val_accuracy: 0.0982 - val_loss: 2.3042\n",
      "Epoch 3/5\n",
      "\u001b[1m30/30\u001b[0m \u001b[32m━━━━━━━━━━━━━━━━━━━━\u001b[0m\u001b[37m\u001b[0m \u001b[1m4s\u001b[0m 122ms/step - accuracy: 0.1154 - loss: 2.3025 - val_accuracy: 0.0871 - val_loss: 2.3030\n",
      "Epoch 4/5\n",
      "\u001b[1m30/30\u001b[0m \u001b[32m━━━━━━━━━━━━━━━━━━━━\u001b[0m\u001b[37m\u001b[0m \u001b[1m4s\u001b[0m 128ms/step - accuracy: 0.1046 - loss: 2.3013 - val_accuracy: 0.1116 - val_loss: 2.2999\n",
      "Epoch 5/5\n",
      "\u001b[1m30/30\u001b[0m \u001b[32m━━━━━━━━━━━━━━━━━━━━\u001b[0m\u001b[37m\u001b[0m \u001b[1m4s\u001b[0m 125ms/step - accuracy: 0.1058 - loss: 2.3026 - val_accuracy: 0.0938 - val_loss: 2.3029\n",
      "\u001b[1m9/9\u001b[0m \u001b[32m━━━━━━━━━━━━━━━━━━━━\u001b[0m\u001b[37m\u001b[0m \u001b[1m0s\u001b[0m 26ms/step - accuracy: 0.0924 - loss: 2.2997\n",
      "DONE!\n",
      "------------------------------------------------------\n",
      "session count: 4, dropout 1: 0.25, dropout 2: 0.5, density: 512, optimizer: adamax\n",
      "Epoch 1/5\n",
      "\u001b[1m30/30\u001b[0m \u001b[32m━━━━━━━━━━━━━━━━━━━━\u001b[0m\u001b[37m\u001b[0m \u001b[1m6s\u001b[0m 171ms/step - accuracy: 0.1114 - loss: 2.3823 - val_accuracy: 0.1071 - val_loss: 2.2845\n",
      "Epoch 2/5\n",
      "\u001b[1m30/30\u001b[0m \u001b[32m━━━━━━━━━━━━━━━━━━━━\u001b[0m\u001b[37m\u001b[0m \u001b[1m5s\u001b[0m 157ms/step - accuracy: 0.1307 - loss: 2.2821 - val_accuracy: 0.1786 - val_loss: 2.2350\n",
      "Epoch 3/5\n",
      "\u001b[1m30/30\u001b[0m \u001b[32m━━━━━━━━━━━━━━━━━━━━\u001b[0m\u001b[37m\u001b[0m \u001b[1m4s\u001b[0m 151ms/step - accuracy: 0.1668 - loss: 2.2638 - val_accuracy: 0.2232 - val_loss: 2.1772\n",
      "Epoch 4/5\n",
      "\u001b[1m30/30\u001b[0m \u001b[32m━━━━━━━━━━━━━━━━━━━━\u001b[0m\u001b[37m\u001b[0m \u001b[1m5s\u001b[0m 158ms/step - accuracy: 0.1907 - loss: 2.2148 - val_accuracy: 0.2746 - val_loss: 2.1027\n",
      "Epoch 5/5\n",
      "\u001b[1m30/30\u001b[0m \u001b[32m━━━━━━━━━━━━━━━━━━━━\u001b[0m\u001b[37m\u001b[0m \u001b[1m5s\u001b[0m 158ms/step - accuracy: 0.2252 - loss: 2.1423 - val_accuracy: 0.2768 - val_loss: 2.0456\n",
      "\u001b[1m9/9\u001b[0m \u001b[32m━━━━━━━━━━━━━━━━━━━━\u001b[0m\u001b[37m\u001b[0m \u001b[1m0s\u001b[0m 34ms/step - accuracy: 0.2842 - loss: 2.0346\n",
      "DONE!\n"
     ]
    }
   ],
   "source": [
    "# This is a fairly manual, yet procedural iteration through the hyperparameters to find the best model\n",
    "\n",
    "overall_accuracy = []\n",
    "# --------------------------------------------------------------------------\n",
    "# this function will track the accuracy of the model and the hyperparameters used to achieve it\n",
    "def accuracy_tracker(iteration_num, accuracy, dropout_1, dropout_2, density, optimizer):\n",
    "    overall_accuracy.append(\n",
    "        [accuracy[1], accuracy[0], iteration_num, dropout_1, dropout_2, density, optimizer]\n",
    "    )\n",
    "\n",
    "\n",
    "# hyperparameter tuning\n",
    "dropout_1_variations = [0.1, 0.15, 0.2, 0.25, 0.25]\n",
    "dropout_2_variations = [0.3, 0.4, 0.5, 0.6, 0.5]\n",
    "density_variations = [32, 64, 128, 256, 512]\n",
    "optimizer_variations = ['adam', 'sgd', 'rmsprop', 'adadelta', 'adamax']\n",
    "iteration_sessions = 0\n",
    "\n",
    "if extreme_training:\n",
    "    # loop through the variations and train the model - permutation approach of the hyperparameters\n",
    "    print('extreme training method for hyperparameter tuning')\n",
    "    print(f'session count: {iteration_sessions}, ')\n",
    "    for dropout_1 in dropout_1_variations:\n",
    "        for dropout_2 in dropout_2_variations:\n",
    "            for density in density_variations:\n",
    "                for optimizer in optimizer_variations:\n",
    "                    model = create_model(dropout=dropout_1, dropout_2=dropout_2, density=density, optimizer=optimizer)\n",
    "                    print('------------------------------------------------------')\n",
    "                    print(f'session count: {iteration_sessions}, dropout 1: {dropout_1}, dropout 2: {dropout_2}, density: {density}, optimizer: {optimizer}')\n",
    "                    history = model.fit(\n",
    "                        training_generator,\n",
    "                        steps_per_epoch=training_steps_per_epoch,\n",
    "                        validation_data=validation_generator,\n",
    "                        validation_steps=validation_steps_per_epoch,\n",
    "                        epochs=planned_epochs,\n",
    "                        verbose=1,\n",
    "                        callbacks=[tensorboard_callback])\n",
    "                    iteration_sessions += 1\n",
    "                    accuracy = model.evaluate(test_generator, steps=test_steps_per_epoch, verbose=1)\n",
    "                    accuracy_tracker(iteration_sessions, accuracy, dropout_1, dropout_2, density, optimizer)\n",
    "else:\n",
    "    # iterate once through variations to get a feel for the best model\n",
    "    print('quick feel method for hyperparameter tuning')\n",
    "    for index, dropout_1 in enumerate(dropout_1_variations):\n",
    "        model = create_model(dropout=dropout_1_variations[index], dropout_2=dropout_2_variations[index], density=density_variations[index], optimizer=optimizer_variations[index])\n",
    "        print('------------------------------------------------------')\n",
    "        print(f'session count: {iteration_sessions}, dropout 1: {dropout_1_variations[index]}, dropout 2: {dropout_2_variations[index]}, density: {density_variations[index]}, optimizer: {optimizer_variations[index]}')\n",
    "        history = model.fit(\n",
    "            training_generator,\n",
    "            steps_per_epoch=training_steps_per_epoch,\n",
    "            validation_data=validation_generator,\n",
    "            validation_steps=validation_steps_per_epoch,\n",
    "            epochs=planned_epochs,\n",
    "            verbose=1,\n",
    "            callbacks=[tensorboard_callback])\n",
    "        iteration_sessions += 1\n",
    "        accuracy = model.evaluate(test_generator, steps=test_steps_per_epoch, verbose=1)\n",
    "        accuracy_tracker(iteration_sessions, accuracy, dropout_1_variations[index], dropout_2_variations[index], density_variations[index], optimizer=optimizer_variations[index])\n",
    "\n",
    "        print('DONE!')\n"
   ]
  },
  {
   "cell_type": "code",
   "execution_count": 13,
   "metadata": {},
   "outputs": [
    {
     "name": "stdout",
     "output_type": "stream",
     "text": [
      "Top 5 models:\n",
      "Accuracy: 0.282986 | Loss: 2.047590 - Iteration: 5 - Dropout 1: 0.25 - Dropout 2: 0.5 - Density: 512 - Optimizer: adamax\n",
      "Accuracy: 0.232639 | Loss: 2.099933 - Iteration: 1 - Dropout 1: 0.1 - Dropout 2: 0.3 - Density: 32 - Optimizer: adam\n",
      "Accuracy: 0.210069 | Loss: 2.040563 - Iteration: 3 - Dropout 1: 0.2 - Dropout 2: 0.5 - Density: 128 - Optimizer: rmsprop\n",
      "Accuracy: 0.121528 | Loss: 2.285453 - Iteration: 2 - Dropout 1: 0.15 - Dropout 2: 0.4 - Density: 64 - Optimizer: sgd\n",
      "Accuracy: 0.085069 | Loss: 2.300288 - Iteration: 4 - Dropout 1: 0.25 - Dropout 2: 0.6 - Density: 256 - Optimizer: adadelta\n"
     ]
    }
   ],
   "source": [
    "# now find the optimal hyperparameters by looking through the accuracy list\n",
    "# sort the accuracy list and print the top 5\n",
    "overall_accuracy.sort(reverse=True)\n",
    "print('Top 5 models:')\n",
    "for i in range(5):\n",
    "    print(f'Accuracy: {overall_accuracy[i][0]:2f} | Loss: {overall_accuracy[i][1]:2f} - Iteration: {overall_accuracy[i][2]} - Dropout 1: {overall_accuracy[i][3]} - Dropout 2: {overall_accuracy[i][4]} - Density: {overall_accuracy[i][5]} - Optimizer: {overall_accuracy[i][6]}')\n"
   ]
  },
  {
   "cell_type": "markdown",
   "metadata": {},
   "source": [
    "# Task 9 - Visualize the dataset and the CNN model's results where applicable with feature maps, learning curves, etc\n",
    "\n",
    "## <b>References</b>\n",
    "TensorFlow. (Oct 25, 2023). Get started with TensorBoard | TensorFlow. Available online at: https://www.tensorflow.org/tensorboard/get_started. [Accessed Aug 20, 2024] "
   ]
  },
  {
   "cell_type": "code",
   "execution_count": 21,
   "metadata": {},
   "outputs": [
    {
     "name": "stdout",
     "output_type": "stream",
     "text": [
      "Epoch 1/5\n",
      "\u001b[1m30/30\u001b[0m \u001b[32m━━━━━━━━━━━━━━━━━━━━\u001b[0m\u001b[37m\u001b[0m \u001b[1m6s\u001b[0m 162ms/step - accuracy: 0.1204 - loss: 2.3632 - val_accuracy: 0.1317 - val_loss: 2.2776\n",
      "Epoch 2/5\n",
      "\u001b[1m30/30\u001b[0m \u001b[32m━━━━━━━━━━━━━━━━━━━━\u001b[0m\u001b[37m\u001b[0m \u001b[1m4s\u001b[0m 149ms/step - accuracy: 0.1557 - loss: 2.2667 - val_accuracy: 0.2500 - val_loss: 2.1633\n",
      "Epoch 3/5\n",
      "\u001b[1m30/30\u001b[0m \u001b[32m━━━━━━━━━━━━━━━━━━━━\u001b[0m\u001b[37m\u001b[0m \u001b[1m4s\u001b[0m 143ms/step - accuracy: 0.2102 - loss: 2.1885 - val_accuracy: 0.2589 - val_loss: 2.0528\n",
      "Epoch 4/5\n",
      "\u001b[1m30/30\u001b[0m \u001b[32m━━━━━━━━━━━━━━━━━━━━\u001b[0m\u001b[37m\u001b[0m \u001b[1m4s\u001b[0m 136ms/step - accuracy: 0.2343 - loss: 2.0999 - val_accuracy: 0.2589 - val_loss: 2.0041\n",
      "Epoch 5/5\n",
      "\u001b[1m30/30\u001b[0m \u001b[32m━━━━━━━━━━━━━━━━━━━━\u001b[0m\u001b[37m\u001b[0m \u001b[1m4s\u001b[0m 147ms/step - accuracy: 0.2127 - loss: 2.0824 - val_accuracy: 0.2969 - val_loss: 1.9610\n"
     ]
    },
    {
     "data": {
      "image/png": "[encoded data removed]",
      "text/plain": [
       "<Figure size 640x480 with 1 Axes>"
      ]
     },
     "metadata": {},
     "output_type": "display_data"
    }
   ],
   "source": [
    "# NOTE: TensorBoard epoch data can be viewed by running the following command in the terminal: tensorboard --logdir=logs\n",
    "# where the logs directory is written at dataset_root_dir + '\\\\logs'\n",
    "# a browser window will open with the TensorBoard data to show how training is proceeding but final model results are also available below\n",
    "\n",
    "# REFIT & SAVE THE FINAL MODEL\n",
    "# refit the model with the best possible hyperparameters as determined by the overall_accuracy list\n",
    "model = create_model(dropout=overall_accuracy[0][3], dropout_2=overall_accuracy[0][4], density=overall_accuracy[0][5], optimizer=overall_accuracy[0][6])\n",
    "history = model.fit(\n",
    "    training_generator,\n",
    "    steps_per_epoch=training_steps_per_epoch,\n",
    "    validation_data=validation_generator,\n",
    "    validation_steps=validation_steps_per_epoch,\n",
    "    epochs=planned_epochs,\n",
    "    verbose=1,\n",
    "    callbacks=[tensorboard_callback])\n",
    "\n",
    "# --------------------------------------------------------------------------\n",
    "# this function will plot the training and validation accuracy\n",
    "def plot_history(history):\n",
    "    plt.plot(history.history['accuracy'], label='accuracy')\n",
    "    plt.plot(history.history['val_accuracy'], label = 'validation')\n",
    "    plt.xlabel('Epoch')\n",
    "    plt.ylabel('Accuracy')\n",
    "    plt.ylim([0, 1])\n",
    "    plt.legend(loc='lower right')\n",
    "    plt.show()\n",
    "\n",
    "# look at our validation accuracy and loss\n",
    "plot_history(history)\n",
    "\n",
    "# we're going to save this beautiful model for later use\n",
    "model.save(dataset_root_dir + '\\\\models\\\\mnist_model.keras')"
   ]
  },
  {
   "cell_type": "code",
   "execution_count": 16,
   "metadata": {},
   "outputs": [
    {
     "data": {
      "text/html": [
       "<pre style=\"white-space:pre;overflow-x:auto;line-height:normal;font-family:Menlo,'DejaVu Sans Mono',consolas,'Courier New',monospace\"><span style=\"font-weight: bold\">Model: \"sequential_9\"</span>\n",
       "</pre>\n"
      ],
      "text/plain": [
       "\u001b[1mModel: \"sequential_9\"\u001b[0m\n"
      ]
     },
     "metadata": {},
     "output_type": "display_data"
    },
    {
     "data": {
      "text/html": [
       "<pre style=\"white-space:pre;overflow-x:auto;line-height:normal;font-family:Menlo,'DejaVu Sans Mono',consolas,'Courier New',monospace\">┏━━━━━━━━━━━━━━━━━━━━━━━━━━━━━━━━━┳━━━━━━━━━━━━━━━━━━━━━━━━┳━━━━━━━━━━━━━━━┓\n",
       "┃<span style=\"font-weight: bold\"> Layer (type)                    </span>┃<span style=\"font-weight: bold\"> Output Shape           </span>┃<span style=\"font-weight: bold\">       Param # </span>┃\n",
       "┡━━━━━━━━━━━━━━━━━━━━━━━━━━━━━━━━━╇━━━━━━━━━━━━━━━━━━━━━━━━╇━━━━━━━━━━━━━━━┩\n",
       "│ conv2d_9 (<span style=\"color: #0087ff; text-decoration-color: #0087ff\">Conv2D</span>)               │ (<span style=\"color: #00d7ff; text-decoration-color: #00d7ff\">None</span>, <span style=\"color: #00af00; text-decoration-color: #00af00\">82</span>, <span style=\"color: #00af00; text-decoration-color: #00af00\">82</span>, <span style=\"color: #00af00; text-decoration-color: #00af00\">32</span>)     │           <span style=\"color: #00af00; text-decoration-color: #00af00\">320</span> │\n",
       "├─────────────────────────────────┼────────────────────────┼───────────────┤\n",
       "│ max_pooling2d_9 (<span style=\"color: #0087ff; text-decoration-color: #0087ff\">MaxPooling2D</span>)  │ (<span style=\"color: #00d7ff; text-decoration-color: #00d7ff\">None</span>, <span style=\"color: #00af00; text-decoration-color: #00af00\">41</span>, <span style=\"color: #00af00; text-decoration-color: #00af00\">41</span>, <span style=\"color: #00af00; text-decoration-color: #00af00\">32</span>)     │             <span style=\"color: #00af00; text-decoration-color: #00af00\">0</span> │\n",
       "├─────────────────────────────────┼────────────────────────┼───────────────┤\n",
       "│ dropout_18 (<span style=\"color: #0087ff; text-decoration-color: #0087ff\">Dropout</span>)            │ (<span style=\"color: #00d7ff; text-decoration-color: #00d7ff\">None</span>, <span style=\"color: #00af00; text-decoration-color: #00af00\">41</span>, <span style=\"color: #00af00; text-decoration-color: #00af00\">41</span>, <span style=\"color: #00af00; text-decoration-color: #00af00\">32</span>)     │             <span style=\"color: #00af00; text-decoration-color: #00af00\">0</span> │\n",
       "├─────────────────────────────────┼────────────────────────┼───────────────┤\n",
       "│ flatten_9 (<span style=\"color: #0087ff; text-decoration-color: #0087ff\">Flatten</span>)             │ (<span style=\"color: #00d7ff; text-decoration-color: #00d7ff\">None</span>, <span style=\"color: #00af00; text-decoration-color: #00af00\">53792</span>)          │             <span style=\"color: #00af00; text-decoration-color: #00af00\">0</span> │\n",
       "├─────────────────────────────────┼────────────────────────┼───────────────┤\n",
       "│ dense_18 (<span style=\"color: #0087ff; text-decoration-color: #0087ff\">Dense</span>)                │ (<span style=\"color: #00d7ff; text-decoration-color: #00d7ff\">None</span>, <span style=\"color: #00af00; text-decoration-color: #00af00\">128</span>)            │     <span style=\"color: #00af00; text-decoration-color: #00af00\">6,885,504</span> │\n",
       "├─────────────────────────────────┼────────────────────────┼───────────────┤\n",
       "│ dropout_19 (<span style=\"color: #0087ff; text-decoration-color: #0087ff\">Dropout</span>)            │ (<span style=\"color: #00d7ff; text-decoration-color: #00d7ff\">None</span>, <span style=\"color: #00af00; text-decoration-color: #00af00\">128</span>)            │             <span style=\"color: #00af00; text-decoration-color: #00af00\">0</span> │\n",
       "├─────────────────────────────────┼────────────────────────┼───────────────┤\n",
       "│ dense_19 (<span style=\"color: #0087ff; text-decoration-color: #0087ff\">Dense</span>)                │ (<span style=\"color: #00d7ff; text-decoration-color: #00d7ff\">None</span>, <span style=\"color: #00af00; text-decoration-color: #00af00\">10</span>)             │         <span style=\"color: #00af00; text-decoration-color: #00af00\">1,290</span> │\n",
       "└─────────────────────────────────┴────────────────────────┴───────────────┘\n",
       "</pre>\n"
      ],
      "text/plain": [
       "┏━━━━━━━━━━━━━━━━━━━━━━━━━━━━━━━━━┳━━━━━━━━━━━━━━━━━━━━━━━━┳━━━━━━━━━━━━━━━┓\n",
       "┃\u001b[1m \u001b[0m\u001b[1mLayer (type)                   \u001b[0m\u001b[1m \u001b[0m┃\u001b[1m \u001b[0m\u001b[1mOutput Shape          \u001b[0m\u001b[1m \u001b[0m┃\u001b[1m \u001b[0m\u001b[1m      Param #\u001b[0m\u001b[1m \u001b[0m┃\n",
       "┡━━━━━━━━━━━━━━━━━━━━━━━━━━━━━━━━━╇━━━━━━━━━━━━━━━━━━━━━━━━╇━━━━━━━━━━━━━━━┩\n",
       "│ conv2d_9 (\u001b[38;5;33mConv2D\u001b[0m)               │ (\u001b[38;5;45mNone\u001b[0m, \u001b[38;5;34m82\u001b[0m, \u001b[38;5;34m82\u001b[0m, \u001b[38;5;34m32\u001b[0m)     │           \u001b[38;5;34m320\u001b[0m │\n",
       "├─────────────────────────────────┼────────────────────────┼───────────────┤\n",
       "│ max_pooling2d_9 (\u001b[38;5;33mMaxPooling2D\u001b[0m)  │ (\u001b[38;5;45mNone\u001b[0m, \u001b[38;5;34m41\u001b[0m, \u001b[38;5;34m41\u001b[0m, \u001b[38;5;34m32\u001b[0m)     │             \u001b[38;5;34m0\u001b[0m │\n",
       "├─────────────────────────────────┼────────────────────────┼───────────────┤\n",
       "│ dropout_18 (\u001b[38;5;33mDropout\u001b[0m)            │ (\u001b[38;5;45mNone\u001b[0m, \u001b[38;5;34m41\u001b[0m, \u001b[38;5;34m41\u001b[0m, \u001b[38;5;34m32\u001b[0m)     │             \u001b[38;5;34m0\u001b[0m │\n",
       "├─────────────────────────────────┼────────────────────────┼───────────────┤\n",
       "│ flatten_9 (\u001b[38;5;33mFlatten\u001b[0m)             │ (\u001b[38;5;45mNone\u001b[0m, \u001b[38;5;34m53792\u001b[0m)          │             \u001b[38;5;34m0\u001b[0m │\n",
       "├─────────────────────────────────┼────────────────────────┼───────────────┤\n",
       "│ dense_18 (\u001b[38;5;33mDense\u001b[0m)                │ (\u001b[38;5;45mNone\u001b[0m, \u001b[38;5;34m128\u001b[0m)            │     \u001b[38;5;34m6,885,504\u001b[0m │\n",
       "├─────────────────────────────────┼────────────────────────┼───────────────┤\n",
       "│ dropout_19 (\u001b[38;5;33mDropout\u001b[0m)            │ (\u001b[38;5;45mNone\u001b[0m, \u001b[38;5;34m128\u001b[0m)            │             \u001b[38;5;34m0\u001b[0m │\n",
       "├─────────────────────────────────┼────────────────────────┼───────────────┤\n",
       "│ dense_19 (\u001b[38;5;33mDense\u001b[0m)                │ (\u001b[38;5;45mNone\u001b[0m, \u001b[38;5;34m10\u001b[0m)             │         \u001b[38;5;34m1,290\u001b[0m │\n",
       "└─────────────────────────────────┴────────────────────────┴───────────────┘\n"
      ]
     },
     "metadata": {},
     "output_type": "display_data"
    },
    {
     "data": {
      "text/html": [
       "<pre style=\"white-space:pre;overflow-x:auto;line-height:normal;font-family:Menlo,'DejaVu Sans Mono',consolas,'Courier New',monospace\"><span style=\"font-weight: bold\"> Total params: </span><span style=\"color: #00af00; text-decoration-color: #00af00\">13,774,230</span> (52.54 MB)\n",
       "</pre>\n"
      ],
      "text/plain": [
       "\u001b[1m Total params: \u001b[0m\u001b[38;5;34m13,774,230\u001b[0m (52.54 MB)\n"
      ]
     },
     "metadata": {},
     "output_type": "display_data"
    },
    {
     "data": {
      "text/html": [
       "<pre style=\"white-space:pre;overflow-x:auto;line-height:normal;font-family:Menlo,'DejaVu Sans Mono',consolas,'Courier New',monospace\"><span style=\"font-weight: bold\"> Trainable params: </span><span style=\"color: #00af00; text-decoration-color: #00af00\">6,887,114</span> (26.27 MB)\n",
       "</pre>\n"
      ],
      "text/plain": [
       "\u001b[1m Trainable params: \u001b[0m\u001b[38;5;34m6,887,114\u001b[0m (26.27 MB)\n"
      ]
     },
     "metadata": {},
     "output_type": "display_data"
    },
    {
     "data": {
      "text/html": [
       "<pre style=\"white-space:pre;overflow-x:auto;line-height:normal;font-family:Menlo,'DejaVu Sans Mono',consolas,'Courier New',monospace\"><span style=\"font-weight: bold\"> Non-trainable params: </span><span style=\"color: #00af00; text-decoration-color: #00af00\">0</span> (0.00 B)\n",
       "</pre>\n"
      ],
      "text/plain": [
       "\u001b[1m Non-trainable params: \u001b[0m\u001b[38;5;34m0\u001b[0m (0.00 B)\n"
      ]
     },
     "metadata": {},
     "output_type": "display_data"
    },
    {
     "data": {
      "text/html": [
       "<pre style=\"white-space:pre;overflow-x:auto;line-height:normal;font-family:Menlo,'DejaVu Sans Mono',consolas,'Courier New',monospace\"><span style=\"font-weight: bold\"> Optimizer params: </span><span style=\"color: #00af00; text-decoration-color: #00af00\">6,887,116</span> (26.27 MB)\n",
       "</pre>\n"
      ],
      "text/plain": [
       "\u001b[1m Optimizer params: \u001b[0m\u001b[38;5;34m6,887,116\u001b[0m (26.27 MB)\n"
      ]
     },
     "metadata": {},
     "output_type": "display_data"
    }
   ],
   "source": [
    "model.summary()"
   ]
  },
  {
   "cell_type": "code",
   "execution_count": 22,
   "metadata": {},
   "outputs": [
    {
     "ename": "ValueError",
     "evalue": "The layer sequential_11 has never been called and thus has no defined input.",
     "output_type": "error",
     "traceback": [
      "\u001b[1;31m---------------------------------------------------------------------------\u001b[0m",
      "\u001b[1;31mValueError\u001b[0m                                Traceback (most recent call last)",
      "Cell \u001b[1;32mIn[22], line 10\u001b[0m\n\u001b[0;32m      7\u001b[0m layers \u001b[38;5;241m=\u001b[39m [layer\u001b[38;5;241m.\u001b[39moutput \u001b[38;5;28;01mfor\u001b[39;00m layer \u001b[38;5;129;01min\u001b[39;00m model_kf\u001b[38;5;241m.\u001b[39mlayers] \n\u001b[0;32m      9\u001b[0m \u001b[38;5;66;03m# setup a feature map model for my layers\u001b[39;00m\n\u001b[1;32m---> 10\u001b[0m feature_map_model \u001b[38;5;241m=\u001b[39m Model(inputs\u001b[38;5;241m=\u001b[39m\u001b[43mmodel_kf\u001b[49m\u001b[38;5;241;43m.\u001b[39;49m\u001b[43minput\u001b[49m, outputs\u001b[38;5;241m=\u001b[39mlayers)\n\u001b[0;32m     12\u001b[0m \u001b[38;5;66;03m# Prepare an input image\u001b[39;00m\n\u001b[0;32m     13\u001b[0m img_path \u001b[38;5;241m=\u001b[39m dataset_root_dir \u001b[38;5;241m+\u001b[39m \u001b[38;5;124m'\u001b[39m\u001b[38;5;130;01m\\\\\u001b[39;00m\u001b[38;5;124mtriple_mnist\u001b[39m\u001b[38;5;130;01m\\\\\u001b[39;00m\u001b[38;5;124mtest\u001b[39m\u001b[38;5;130;01m\\\\\u001b[39;00m\u001b[38;5;124m065\u001b[39m\u001b[38;5;130;01m\\\\\u001b[39;00m\u001b[38;5;124m87_065.png\u001b[39m\u001b[38;5;124m'\u001b[39m\n",
      "File \u001b[1;32m~\\AppData\\Local\\Packages\\PythonSoftwareFoundation.Python.3.12_qbz5n2kfra8p0\\LocalCache\\local-packages\\Python312\\site-packages\\keras\\src\\ops\\operation.py:254\u001b[0m, in \u001b[0;36mOperation.input\u001b[1;34m(self)\u001b[0m\n\u001b[0;32m    244\u001b[0m \u001b[38;5;129m@property\u001b[39m\n\u001b[0;32m    245\u001b[0m \u001b[38;5;28;01mdef\u001b[39;00m \u001b[38;5;21minput\u001b[39m(\u001b[38;5;28mself\u001b[39m):\n\u001b[0;32m    246\u001b[0m \u001b[38;5;250m    \u001b[39m\u001b[38;5;124;03m\"\"\"Retrieves the input tensor(s) of a symbolic operation.\u001b[39;00m\n\u001b[0;32m    247\u001b[0m \n\u001b[0;32m    248\u001b[0m \u001b[38;5;124;03m    Only returns the tensor(s) corresponding to the *first time*\u001b[39;00m\n\u001b[1;32m   (...)\u001b[0m\n\u001b[0;32m    252\u001b[0m \u001b[38;5;124;03m        Input tensor or list of input tensors.\u001b[39;00m\n\u001b[0;32m    253\u001b[0m \u001b[38;5;124;03m    \"\"\"\u001b[39;00m\n\u001b[1;32m--> 254\u001b[0m     \u001b[38;5;28;01mreturn\u001b[39;00m \u001b[38;5;28;43mself\u001b[39;49m\u001b[38;5;241;43m.\u001b[39;49m\u001b[43m_get_node_attribute_at_index\u001b[49m\u001b[43m(\u001b[49m\u001b[38;5;241;43m0\u001b[39;49m\u001b[43m,\u001b[49m\u001b[43m \u001b[49m\u001b[38;5;124;43m\"\u001b[39;49m\u001b[38;5;124;43minput_tensors\u001b[39;49m\u001b[38;5;124;43m\"\u001b[39;49m\u001b[43m,\u001b[49m\u001b[43m \u001b[49m\u001b[38;5;124;43m\"\u001b[39;49m\u001b[38;5;124;43minput\u001b[39;49m\u001b[38;5;124;43m\"\u001b[39;49m\u001b[43m)\u001b[49m\n",
      "File \u001b[1;32m~\\AppData\\Local\\Packages\\PythonSoftwareFoundation.Python.3.12_qbz5n2kfra8p0\\LocalCache\\local-packages\\Python312\\site-packages\\keras\\src\\ops\\operation.py:285\u001b[0m, in \u001b[0;36mOperation._get_node_attribute_at_index\u001b[1;34m(self, node_index, attr, attr_name)\u001b[0m\n\u001b[0;32m    269\u001b[0m \u001b[38;5;250m\u001b[39m\u001b[38;5;124;03m\"\"\"Private utility to retrieves an attribute (e.g. inputs) from a node.\u001b[39;00m\n\u001b[0;32m    270\u001b[0m \n\u001b[0;32m    271\u001b[0m \u001b[38;5;124;03mThis is used to implement the properties:\u001b[39;00m\n\u001b[1;32m   (...)\u001b[0m\n\u001b[0;32m    282\u001b[0m \u001b[38;5;124;03m    The operation's attribute `attr` at the node of index `node_index`.\u001b[39;00m\n\u001b[0;32m    283\u001b[0m \u001b[38;5;124;03m\"\"\"\u001b[39;00m\n\u001b[0;32m    284\u001b[0m \u001b[38;5;28;01mif\u001b[39;00m \u001b[38;5;129;01mnot\u001b[39;00m \u001b[38;5;28mself\u001b[39m\u001b[38;5;241m.\u001b[39m_inbound_nodes:\n\u001b[1;32m--> 285\u001b[0m     \u001b[38;5;28;01mraise\u001b[39;00m \u001b[38;5;167;01mValueError\u001b[39;00m(\n\u001b[0;32m    286\u001b[0m         \u001b[38;5;124mf\u001b[39m\u001b[38;5;124m\"\u001b[39m\u001b[38;5;124mThe layer \u001b[39m\u001b[38;5;132;01m{\u001b[39;00m\u001b[38;5;28mself\u001b[39m\u001b[38;5;241m.\u001b[39mname\u001b[38;5;132;01m}\u001b[39;00m\u001b[38;5;124m has never been called \u001b[39m\u001b[38;5;124m\"\u001b[39m\n\u001b[0;32m    287\u001b[0m         \u001b[38;5;124mf\u001b[39m\u001b[38;5;124m\"\u001b[39m\u001b[38;5;124mand thus has no defined \u001b[39m\u001b[38;5;132;01m{\u001b[39;00mattr_name\u001b[38;5;132;01m}\u001b[39;00m\u001b[38;5;124m.\u001b[39m\u001b[38;5;124m\"\u001b[39m\n\u001b[0;32m    288\u001b[0m     )\n\u001b[0;32m    289\u001b[0m \u001b[38;5;28;01mif\u001b[39;00m \u001b[38;5;129;01mnot\u001b[39;00m \u001b[38;5;28mlen\u001b[39m(\u001b[38;5;28mself\u001b[39m\u001b[38;5;241m.\u001b[39m_inbound_nodes) \u001b[38;5;241m>\u001b[39m node_index:\n\u001b[0;32m    290\u001b[0m     \u001b[38;5;28;01mraise\u001b[39;00m \u001b[38;5;167;01mValueError\u001b[39;00m(\n\u001b[0;32m    291\u001b[0m         \u001b[38;5;124mf\u001b[39m\u001b[38;5;124m\"\u001b[39m\u001b[38;5;124mAsked to get \u001b[39m\u001b[38;5;132;01m{\u001b[39;00mattr_name\u001b[38;5;132;01m}\u001b[39;00m\u001b[38;5;124m at node \u001b[39m\u001b[38;5;124m\"\u001b[39m\n\u001b[0;32m    292\u001b[0m         \u001b[38;5;124mf\u001b[39m\u001b[38;5;124m\"\u001b[39m\u001b[38;5;132;01m{\u001b[39;00mnode_index\u001b[38;5;132;01m}\u001b[39;00m\u001b[38;5;124m, but the operation has only \u001b[39m\u001b[38;5;124m\"\u001b[39m\n\u001b[0;32m    293\u001b[0m         \u001b[38;5;124mf\u001b[39m\u001b[38;5;124m\"\u001b[39m\u001b[38;5;132;01m{\u001b[39;00m\u001b[38;5;28mlen\u001b[39m(\u001b[38;5;28mself\u001b[39m\u001b[38;5;241m.\u001b[39m_inbound_nodes)\u001b[38;5;132;01m}\u001b[39;00m\u001b[38;5;124m inbound nodes.\u001b[39m\u001b[38;5;124m\"\u001b[39m\n\u001b[0;32m    294\u001b[0m     )\n",
      "\u001b[1;31mValueError\u001b[0m: The layer sequential_11 has never been called and thus has no defined input."
     ]
    }
   ],
   "source": [
    "from keras._tf_keras.keras.models import Model\n",
    "\n",
    "# load the trained model\n",
    "model_kf = tf.keras.models.load_model(dataset_root_dir + '\\\\models\\\\mnist_model.keras')\n",
    "\n",
    "# load the layers from model\n",
    "layers = [layer.output for layer in model_kf.layers] \n",
    "\n",
    "# setup a feature map model for my layers\n",
    "feature_map_model = Model(inputs=model_kf.input, outputs=layers)\n",
    "\n",
    "# Prepare an input image\n",
    "img_path = dataset_root_dir + '\\\\triple_mnist\\\\test\\\\065\\\\87_065.png'\n",
    "feature_maps = feature_map_model.predict(img_path)\n",
    "\n",
    "# We'll just visualize the feature map of the first layer\n",
    "first_layer_feature_maps = feature_maps[0]\n",
    "\n",
    "# Determine the number of feature maps\n",
    "num_feature_maps = first_layer_feature_maps.shape[-1]\n",
    "\n",
    "# Set up the figure size\n",
    "plt.figure(figsize=(20,20))\n",
    "\n",
    "# Plot each feature map\n",
    "for i in range(num_feature_maps):\n",
    "    plt.subplot(8, 8, i+1) # Adjust the grid size according to your needs\n",
    "    plt.imshow(first_layer_feature_maps[0, :, :, i], cmap='viridis')\n",
    "    plt.axis('off')\n",
    "\n",
    "# Display the feature maps\n",
    "plt.show()"
   ]
  },
  {
   "cell_type": "markdown",
   "metadata": {},
   "source": [
    "# Task 10 - Report the final performance of the CNN model using appropriate performance metrics like accuracy, F1-score, etc"
   ]
  },
  {
   "cell_type": "code",
   "execution_count": 24,
   "metadata": {},
   "outputs": [
    {
     "name": "stdout",
     "output_type": "stream",
     "text": [
      "\u001b[1m938/938\u001b[0m \u001b[32m━━━━━━━━━━━━━━━━━━━━\u001b[0m\u001b[37m\u001b[0m \u001b[1m33s\u001b[0m 35ms/step\n",
      "              precision    recall  f1-score   support\n",
      "\n",
      "           0       0.10      0.03      0.05      6300\n",
      "           1       0.10      0.13      0.12      5800\n",
      "           2       0.09      0.00      0.01      4900\n",
      "           3       0.10      0.34      0.15      5800\n",
      "           4       0.10      0.01      0.02      6600\n",
      "           5       0.11      0.13      0.12      6700\n",
      "           6       0.12      0.02      0.04      6500\n",
      "           7       0.09      0.04      0.05      5000\n",
      "           8       0.11      0.26      0.16      6700\n",
      "           9       0.10      0.05      0.06      5700\n",
      "\n",
      "    accuracy                           0.10     60000\n",
      "   macro avg       0.10      0.10      0.08     60000\n",
      "weighted avg       0.10      0.10      0.08     60000\n",
      "\n"
     ]
    }
   ],
   "source": [
    "from sklearn.metrics import classification_report\n",
    "\n",
    "# let's setup our true labels and predicted labels\n",
    "true_labels = test_generator.labels\n",
    "predicted = model.predict(test_generator, batch_size=batch_size, verbose=1)\n",
    "predicted_labels = np.argmax(predicted, axis=1)\n",
    "\n",
    "# Calculate the F1 score\n",
    "f1_score = classification_report(true_labels, predicted_labels)\n",
    "\n",
    "# Print the F1 score\n",
    "print(f1_score)"
   ]
  },
  {
   "cell_type": "markdown",
   "metadata": {},
   "source": [
    "# Task 11 -Decide on the best model for classification and CNN architecture for digital recognition"
   ]
  },
  {
   "cell_type": "code",
   "execution_count": 26,
   "metadata": {},
   "outputs": [
    {
     "name": "stdout",
     "output_type": "stream",
     "text": [
      "Our final best model was a TensorFlow model with the following hyperparameters:\n",
      "Accuracy: 0.085069 | Loss: 2.300288 - Dropout 1: 0.25 - Dropout 2: 0.6 - Density: 256 - Optimizer: adadelta\n",
      "------------------------------------------------------\n",
      "the model had the following layer sequence:\n",
      "<KerasTensor shape=(None, 82, 82, 32), dtype=float32, sparse=False, name=keras_tensor_348>\n",
      "<KerasTensor shape=(None, 41, 41, 32), dtype=float32, sparse=False, name=keras_tensor_350>\n",
      "<KerasTensor shape=(None, 41, 41, 32), dtype=float32, sparse=False, name=keras_tensor_353>\n",
      "<KerasTensor shape=(None, 53792), dtype=float32, sparse=False, name=keras_tensor_357>\n",
      "<KerasTensor shape=(None, 512), dtype=float32, sparse=False, name=keras_tensor_362>\n",
      "<KerasTensor shape=(None, 512), dtype=float32, sparse=False, name=keras_tensor_368>\n",
      "<KerasTensor shape=(None, 10), dtype=float32, sparse=False, name=keras_tensor_375>\n",
      "------------------------------------------------------\n",
      "The F1 score for the model is:               precision    recall  f1-score   support\n",
      "\n",
      "           0       0.10      0.03      0.05      6300\n",
      "           1       0.10      0.13      0.12      5800\n",
      "           2       0.09      0.00      0.01      4900\n",
      "           3       0.10      0.34      0.15      5800\n",
      "           4       0.10      0.01      0.02      6600\n",
      "           5       0.11      0.13      0.12      6700\n",
      "           6       0.12      0.02      0.04      6500\n",
      "           7       0.09      0.04      0.05      5000\n",
      "           8       0.11      0.26      0.16      6700\n",
      "           9       0.10      0.05      0.06      5700\n",
      "\n",
      "    accuracy                           0.10     60000\n",
      "   macro avg       0.10      0.10      0.08     60000\n",
      "weighted avg       0.10      0.10      0.08     60000\n",
      "\n"
     ]
    }
   ],
   "source": [
    "print('Our final best model was a TensorFlow model with the following hyperparameters:')\n",
    "print(f'Accuracy: {overall_accuracy[i][0]:2f} | Loss: {overall_accuracy[i][1]:2f} - Dropout 1: {overall_accuracy[i][3]} - Dropout 2: {overall_accuracy[i][4]} - Density: {overall_accuracy[i][5]} - Optimizer: {overall_accuracy[i][6]}')\n",
    "print('------------------------------------------------------')\n",
    "print('the model had the following layer sequence:')\n",
    "for l in layers:\n",
    "    print(l)\n",
    "print('------------------------------------------------------')\n",
    "print('The F1 score for the model is:', f1_score)\n",
    "\n"
   ]
  }
 ],
 "metadata": {
  "kernelspec": {
   "display_name": "Python 3",
   "language": "python",
   "name": "python3"
  },
  "language_info": {
   "codemirror_mode": {
    "name": "ipython",
    "version": 3
   },
   "file_extension": ".py",
   "mimetype": "text/x-python",
   "name": "python",
   "nbconvert_exporter": "python",
   "pygments_lexer": "ipython3",
   "version": "3.12.5"
  }
 },
 "nbformat": 4,
 "nbformat_minor": 2
}
