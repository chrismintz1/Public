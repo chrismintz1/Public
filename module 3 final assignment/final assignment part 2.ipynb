{
 "cells": [
  {
   "cell_type": "markdown",
   "metadata": {},
   "source": [
    "# 771948_A23_T3A - Group Work Assignment #\n",
    "# Task 2 - Multi-label image-based digit classification problem #\n",
    "## Assignment by Chris Mintz 202369825 and Antonia Agunbiade 202375309 ##"
   ]
  },
  {
   "cell_type": "markdown",
   "metadata": {},
   "source": [
    "---\n",
    "### Additional notes from class chat ###\n",
    "#### 1. Labels from dataset will be folder names\n",
    "#### 2. Beware of the multi image model classifying into triplets instead of single digits. The output shape should be 1000 instead of 10\n",
    "#### 3. DO NOT recombine the split data. It has to be used as is as per TA Khadjia\n",
    "#### 4. From Khadjia: The provided splits into training, validation and testing were designed to simulate real-world scenarios. Teams must develop a baseline model using these splits and gthen improve upon this baseline through various techniques such as preprocessing and model architecture enhancements.\n",
    "---"
   ]
  },
  {
   "cell_type": "markdown",
   "metadata": {},
   "source": [
    "# Task 6 - Load and preprocess the dataset for multi-label image-based digit classification task\n",
    "\n",
    "## <b>References</b>\n",
    "\n",
    "Johns, Ray. (2024). PyTorch vs TensorFlow for your Python Deep Learning Project. Available at: https://realpython.com/pytorch-vs-tensorflow/. [Accessed Aug 5, 2024]"
   ]
  },
  {
   "cell_type": "code",
   "execution_count": 13,
   "metadata": {},
   "outputs": [],
   "source": [
    "# For this assignment we have chosen to use the TensorFlow over PyTorch as TensorFlow 2.0 has eager execution and the Keras APIs have more prefabricated components for us to use.\n",
    "import tensorflow as tf\n",
    "# TO DO: we might be able to remove this global import\n",
    "from tensorflow import keras\n",
    "# Needed for image pre-processing\n",
    "from PIL import Image\n",
    "# there is a lint problem access problem with the latest release of TensorFlow/Keras so we have to go direct to the root call\n",
    "from keras._tf_keras.keras.preprocessing.image import ImageDataGenerator\n",
    "from keras._tf_keras.keras.models import Sequential\n",
    "from keras._tf_keras.keras.layers import Conv2D, MaxPooling2D, Flatten, Dense, Activation, Dropout, Input\n",
    "# we want these for some visualizations\n",
    "import matplotlib.pyplot as plt\n",
    "import numpy as np\n",
    "# for image processing\n",
    "import os\n",
    "# for progress bars\n",
    "from tqdm import tqdm\n",
    "\n",
    "# Change directory location as needed. This should be the root of the unzipped dataset and the initial folder visible shuold be \"triple_mnist\" \n",
    "# -------------------------------------------\n",
    "dataset_root_dir = 'z:'\n",
    "# -------------------------------------------\n",
    "\n",
    "# Define our data split directory locations\n",
    "training_dir = dataset_root_dir + '\\\\triple_mnist\\\\train'\n",
    "validate_dir = dataset_root_dir + '\\\\triple_mnist\\\\val'\n",
    "test_dir = dataset_root_dir + '\\\\triple_mnist\\\\test'\n",
    "\n",
    "# Define our image parameters\n",
    "image_height = 84\n",
    "image_width = 84\n",
    "batch_size = 32\n",
    "# these are grayscale images, so we will only have 1 channel and this will be enforced in the data loading process\n",
    "channels = 1\n",
    "# output classes will be 0 to 9 which = 10\n",
    "num_classes = 10\n",
    "#TODO: Optimize\n",
    "epochs = 10\n",
    "\n",
    "# Data augmentation and preprocessing parameters to initialize the ImageDataGenerator\n",
    "# Transformations we are NOT using include: zoom_range, horizontal_flip, vertical_flip, fill_mode, channel_shift_range, brightness_range, zca_epsilon, zca_whitening\n",
    "# Note that we had the opportunity to use the \"preprocessing_function\" parameter to crop the images as needed but we chose to persist the cropped images to disk to prevent\n",
    "# this function from being called with each epoch. This is because the cropping function is computationally expensive and we only need to do it once.\n",
    "idg = ImageDataGenerator(\n",
    "    rescale=1./255,          # Normalize pixel values to [0, 1]\n",
    "    shear_range=0.2,         # Apply shear transformations\n",
    "    rotation_range=40,       # Randomly rotate images by up to 40 degrees\n",
    "    width_shift_range=0.2,   # Randomly shift images horizontally by up to 20% of the width\n",
    "    height_shift_range=0.2,   # Randomly shift images vertically by up to 20% of the height\n",
    ")"
   ]
  },
  {
   "cell_type": "markdown",
   "metadata": {},
   "source": [
    "## Pre-processing to get the triplet digit data into single values\n",
    "### The data came to us as a series of triplet hand written numbers meaning that in the 84 x 84 image there are three images. Upon inspection there is a clean divide between all digits despite them having random y placement in the frame. Our best approach is to take the file name, divide the image into three and then save out the single hand written digit to a new folder. To manage this in memory could be costly so we will check if the images exist on your disk, write them if necessary, but read them from pre-processesd state if they have already been cleaned in your local dataset. We will watch for images that get cropped but even that might be only a couple of pixels."
   ]
  },
  {
   "cell_type": "code",
   "execution_count": 33,
   "metadata": {},
   "outputs": [],
   "source": [
    "# --------------------------------------------------------------------------\n",
    "# this is the function will crop a triplet digit image into three separate images and return them as a list of three images.\n",
    "# this function does not manage disk persistence, it is only for in-memory processing\n",
    "def crop_image(image):\n",
    "    image_return = []\n",
    "    x_cropsize = 28\n",
    "    y_cropsize = 84\n",
    "    x_croplength = x_cropsize/2\n",
    "    y_croplength = y_cropsize/2\n",
    "    # define the centers of the three cropped images and the crop size will go to the edge coords from there\n",
    "    x_centers = [14, 42, 70]\n",
    "    y_centers = [42, 42, 42]\n",
    "    # create the three cropped images\n",
    "    image_return = [None, None, None]\n",
    "    for i in range(3):\n",
    "        image_return[i] = image.crop((x_centers[i]-x_croplength, y_centers[i]-y_croplength, x_centers[i]+x_croplength, y_centers[i]+y_croplength))\n",
    "        \n",
    "    return image_return\n",
    "\n",
    "# --------------------------------------------------------------------------\n",
    "# this function lets us look at our images in the datasets\n",
    "# let's peek into the dataset by loading the first batch of num_to_show images\n",
    "def datset_peek(idg_show: ImageDataGenerator, num_to_show: int):\n",
    "\n",
    "    # Display the first num_to_show digits in the training training_generator\n",
    "    fig, ax = plt.subplots(1, num_to_show, figsize=(10, 10))\n",
    "    for i in range(num_to_show):\n",
    "        ax[i].imshow(np.squeeze(idg_show[0][0][i]), cmap='gray')\n",
    "        ax[i].set_title(f'Label: {int(idg_show[0][1][i])}')\n",
    "        ax[i].axis('off')\n",
    "    plt.show()"
   ]
  },
  {
   "cell_type": "code",
   "execution_count": 15,
   "metadata": {},
   "outputs": [],
   "source": [
    "#--------------------------------------------------------------------------\n",
    "def process_triplets(processing_path: str, preprocessing_completed_path: str, test_mode: bool = False) -> int:\n",
    "    # this function will process the triplet images in the processing_path and crop them into individual images and save them to the preprocessing_completed_path\n",
    "    \"\"\"\n",
    "    Parameters:\n",
    "    processing_path: the path to the folder containing the triplet MNIST images.\n",
    "    preprocessing_completed_path: the path to the folder where the cropped images will be saved. This path will be created for you in the process.\n",
    "    test_mode: if True, the function will only process the first folder in the processing_path. This is useful for initial testing of the function. Once done testing, delete the preprocessing folders and re-run with this flag removed. \n",
    "    Returns:\n",
    "    int: the number of files created in the preprocessing_completed_path\n",
    "    \"\"\"\n",
    "    # instead of looking to disk for each instance of the new file to find out the name, we're going to keep an in-memory index of the files we've created\n",
    "    cropped_index = [0,0,0,0,0,0,0,0,0,0]\n",
    "    files_created = 0 # running total of all triplet files loaded\n",
    "    all_folders = os.listdir(processing_path)\n",
    "    # Enumerate and load the directories\n",
    "    for index, image_folder in enumerate(tqdm(all_folders, desc=f'processing folders in the {processing_path} directory')):\n",
    "        triplet_images = [] # a list of the images in the current folder \n",
    "        # now go through each directory and get the images\n",
    "        curr_files = os.listdir(os.path.join(processing_path, image_folder))\n",
    "        for image_file in curr_files:\n",
    "            file_path = os.path.join(processing_path, image_folder, image_file)\n",
    "            try:\n",
    "                image = Image.open(file_path)\n",
    "                triplet_images.append(image)\n",
    "                ##print(f'folder index {index}: {image_file} loaded successfully from {file_path}.')\n",
    "            except PermissionError as e:\n",
    "                print(f'Permission denied, please launch your IDE as admin: {e}')\n",
    "            except Exception as e:\n",
    "                print(f'An error occurred: {e}')\n",
    "        # now we have all the images in the folder, let's crop them\n",
    "        crop_labels = list(image_folder)\n",
    "        # loop through current triplet_images and pass to the crop_image function\n",
    "        cropped_images = []\n",
    "        for image in triplet_images:\n",
    "            cropped_images = crop_image(image)\n",
    "            # now we need to save these images to disk\n",
    "            for i in range(3):\n",
    "                # if this is the first time we've written to this label, we need to create the folder\n",
    "                if int(cropped_index[int(crop_labels[i])]) == 0:\n",
    "                    os.makedirs(os.path.join(preprocessing_completed_path, crop_labels[i]), exist_ok=True)\n",
    "                cropped_images[i].save(os.path.join(preprocessing_completed_path, crop_labels[i], f'{cropped_index[int(crop_labels[i])]}_{crop_labels[i]}.png'))\n",
    "                # increment the index for the label for the next image\n",
    "                cropped_index[int(crop_labels[i])] += 1\n",
    "                files_created += 1\n",
    "        if test_mode:\n",
    "            break # iterate only the first folder\n",
    "    return files_created"
   ]
  },
  {
   "cell_type": "code",
   "execution_count": 16,
   "metadata": {},
   "outputs": [
    {
     "name": "stdout",
     "output_type": "stream",
     "text": [
      "Training preprocessed images exist\n",
      "Validation preprocessed images exist\n",
      "Test preprocessed images exist\n"
     ]
    }
   ],
   "source": [
    "# WARNING - this code commits 300,000 files to your file drive and will take a long time to run - you can monitor progress at the bottom of the cell\n",
    "# Check and see if the triplet images have been cropped and saved to your drive\n",
    "training_preprocessed_dir = dataset_root_dir + '\\\\triple_mnist\\\\train_preprocessed'\n",
    "validate_preprocessed_dir = dataset_root_dir + '\\\\triple_mnist\\\\val_preprocessed'\n",
    "test_preprocessed_dir = dataset_root_dir + '\\\\triple_mnist\\\\test_preprocessed'\n",
    "if os.path.exists(training_preprocessed_dir):\n",
    "    print('Training preprocessed images exist')\n",
    "else:\n",
    "    process_triplets(training_dir, training_preprocessed_dir)\n",
    "\n",
    "if os.path.exists(validate_preprocessed_dir):\n",
    "    print('Validation preprocessed images exist')\n",
    "else:\n",
    "    process_triplets(validate_dir, validate_preprocessed_dir)\n",
    "\n",
    "if os.path.exists(test_preprocessed_dir):\n",
    "    print('Test preprocessed images exist')\n",
    "else:\n",
    "    process_triplets(test_dir, test_preprocessed_dir)"
   ]
  },
  {
   "cell_type": "code",
   "execution_count": 49,
   "metadata": {},
   "outputs": [
    {
     "name": "stdout",
     "output_type": "stream",
     "text": [
      "Found 192000 images belonging to 10 classes.\n",
      "Found 60000 images belonging to 10 classes.\n",
      "Found 48000 images belonging to 10 classes.\n",
      "label sanity peek on training set: [0 0 0 ... 9 9 9]\n"
     ]
    }
   ],
   "source": [
    "# Load the images from a locally mapped source (see README.md for details on setting up local drive mapping)\n",
    "# We've used the idg to load only the training images and preprocess them with the above parameters\n",
    "# Images are brought in as grayscale (single channel) as they are black and white images\n",
    "training_generator = idg.flow_from_directory(\n",
    "    training_preprocessed_dir,\n",
    "    target_size=(image_height, image_width),\n",
    "    batch_size=batch_size,\n",
    "    class_mode='sparse',\n",
    "    color_mode='grayscale'\n",
    ")\n",
    "\n",
    "# Our test and validation data should not be augmented so their init is simpler and does not use our predefined idg parameters\n",
    "test_generator = ImageDataGenerator(rescale=1./255).flow_from_directory(\n",
    "    test_preprocessed_dir,\n",
    "    target_size=(image_height, image_width),\n",
    "    batch_size=batch_size,\n",
    "    class_mode='sparse',\n",
    "    color_mode='grayscale'\n",
    ")\n",
    "\n",
    "# Note use of validation data but no augmentation\n",
    "validation_generator = ImageDataGenerator(rescale=1./255).flow_from_directory(\n",
    "    validate_preprocessed_dir,\n",
    "    target_size=(image_height, image_width),\n",
    "    batch_size=batch_size,\n",
    "    class_mode='sparse',\n",
    "    color_mode='grayscale'\n",
    ")\n",
    "\n",
    "print(f'label sanity peek on training set: {training_generator.labels}')"
   ]
  },
  {
   "cell_type": "code",
   "execution_count": 50,
   "metadata": {},
   "outputs": [
    {
     "name": "stdout",
     "output_type": "stream",
     "text": [
      "training generator shape (84, 84, 1)\n",
      "validation generator shape (84, 84, 1)\n",
      "test generator shape (84, 84, 1)\n"
     ]
    }
   ],
   "source": [
    "# check and see if all the images are the same shape before feeding them into the model\n",
    "print(f'training generator shape {training_generator.image_shape}')\n",
    "print(f'validation generator shape {validation_generator.image_shape}')\n",
    "print(f'test generator shape {test_generator.image_shape}')\n"
   ]
  },
  {
   "cell_type": "markdown",
   "metadata": {},
   "source": [
    "# Task 7 - Build a convultional neural network (CNN) model for the multi-label image-based digit classification task"
   ]
  },
  {
   "cell_type": "code",
   "execution_count": 51,
   "metadata": {},
   "outputs": [
    {
     "data": {
      "text/html": [
       "<pre style=\"white-space:pre;overflow-x:auto;line-height:normal;font-family:Menlo,'DejaVu Sans Mono',consolas,'Courier New',monospace\"><span style=\"font-weight: bold\">Model: \"sequential_2\"</span>\n",
       "</pre>\n"
      ],
      "text/plain": [
       "\u001b[1mModel: \"sequential_2\"\u001b[0m\n"
      ]
     },
     "metadata": {},
     "output_type": "display_data"
    },
    {
     "data": {
      "text/html": [
       "<pre style=\"white-space:pre;overflow-x:auto;line-height:normal;font-family:Menlo,'DejaVu Sans Mono',consolas,'Courier New',monospace\">┏━━━━━━━━━━━━━━━━━━━━━━━━━━━━━━━━━┳━━━━━━━━━━━━━━━━━━━━━━━━┳━━━━━━━━━━━━━━━┓\n",
       "┃<span style=\"font-weight: bold\"> Layer (type)                    </span>┃<span style=\"font-weight: bold\"> Output Shape           </span>┃<span style=\"font-weight: bold\">       Param # </span>┃\n",
       "┡━━━━━━━━━━━━━━━━━━━━━━━━━━━━━━━━━╇━━━━━━━━━━━━━━━━━━━━━━━━╇━━━━━━━━━━━━━━━┩\n",
       "│ conv2d_4 (<span style=\"color: #0087ff; text-decoration-color: #0087ff\">Conv2D</span>)               │ (<span style=\"color: #00d7ff; text-decoration-color: #00d7ff\">None</span>, <span style=\"color: #00af00; text-decoration-color: #00af00\">82</span>, <span style=\"color: #00af00; text-decoration-color: #00af00\">82</span>, <span style=\"color: #00af00; text-decoration-color: #00af00\">32</span>)     │           <span style=\"color: #00af00; text-decoration-color: #00af00\">320</span> │\n",
       "├─────────────────────────────────┼────────────────────────┼───────────────┤\n",
       "│ max_pooling2d_4 (<span style=\"color: #0087ff; text-decoration-color: #0087ff\">MaxPooling2D</span>)  │ (<span style=\"color: #00d7ff; text-decoration-color: #00d7ff\">None</span>, <span style=\"color: #00af00; text-decoration-color: #00af00\">41</span>, <span style=\"color: #00af00; text-decoration-color: #00af00\">41</span>, <span style=\"color: #00af00; text-decoration-color: #00af00\">32</span>)     │             <span style=\"color: #00af00; text-decoration-color: #00af00\">0</span> │\n",
       "├─────────────────────────────────┼────────────────────────┼───────────────┤\n",
       "│ dropout_4 (<span style=\"color: #0087ff; text-decoration-color: #0087ff\">Dropout</span>)             │ (<span style=\"color: #00d7ff; text-decoration-color: #00d7ff\">None</span>, <span style=\"color: #00af00; text-decoration-color: #00af00\">41</span>, <span style=\"color: #00af00; text-decoration-color: #00af00\">41</span>, <span style=\"color: #00af00; text-decoration-color: #00af00\">32</span>)     │             <span style=\"color: #00af00; text-decoration-color: #00af00\">0</span> │\n",
       "├─────────────────────────────────┼────────────────────────┼───────────────┤\n",
       "│ flatten_2 (<span style=\"color: #0087ff; text-decoration-color: #0087ff\">Flatten</span>)             │ (<span style=\"color: #00d7ff; text-decoration-color: #00d7ff\">None</span>, <span style=\"color: #00af00; text-decoration-color: #00af00\">53792</span>)          │             <span style=\"color: #00af00; text-decoration-color: #00af00\">0</span> │\n",
       "├─────────────────────────────────┼────────────────────────┼───────────────┤\n",
       "│ dense_4 (<span style=\"color: #0087ff; text-decoration-color: #0087ff\">Dense</span>)                 │ (<span style=\"color: #00d7ff; text-decoration-color: #00d7ff\">None</span>, <span style=\"color: #00af00; text-decoration-color: #00af00\">128</span>)            │     <span style=\"color: #00af00; text-decoration-color: #00af00\">6,885,504</span> │\n",
       "├─────────────────────────────────┼────────────────────────┼───────────────┤\n",
       "│ dropout_5 (<span style=\"color: #0087ff; text-decoration-color: #0087ff\">Dropout</span>)             │ (<span style=\"color: #00d7ff; text-decoration-color: #00d7ff\">None</span>, <span style=\"color: #00af00; text-decoration-color: #00af00\">128</span>)            │             <span style=\"color: #00af00; text-decoration-color: #00af00\">0</span> │\n",
       "├─────────────────────────────────┼────────────────────────┼───────────────┤\n",
       "│ dense_5 (<span style=\"color: #0087ff; text-decoration-color: #0087ff\">Dense</span>)                 │ (<span style=\"color: #00d7ff; text-decoration-color: #00d7ff\">None</span>, <span style=\"color: #00af00; text-decoration-color: #00af00\">10</span>)             │         <span style=\"color: #00af00; text-decoration-color: #00af00\">1,290</span> │\n",
       "└─────────────────────────────────┴────────────────────────┴───────────────┘\n",
       "</pre>\n"
      ],
      "text/plain": [
       "┏━━━━━━━━━━━━━━━━━━━━━━━━━━━━━━━━━┳━━━━━━━━━━━━━━━━━━━━━━━━┳━━━━━━━━━━━━━━━┓\n",
       "┃\u001b[1m \u001b[0m\u001b[1mLayer (type)                   \u001b[0m\u001b[1m \u001b[0m┃\u001b[1m \u001b[0m\u001b[1mOutput Shape          \u001b[0m\u001b[1m \u001b[0m┃\u001b[1m \u001b[0m\u001b[1m      Param #\u001b[0m\u001b[1m \u001b[0m┃\n",
       "┡━━━━━━━━━━━━━━━━━━━━━━━━━━━━━━━━━╇━━━━━━━━━━━━━━━━━━━━━━━━╇━━━━━━━━━━━━━━━┩\n",
       "│ conv2d_4 (\u001b[38;5;33mConv2D\u001b[0m)               │ (\u001b[38;5;45mNone\u001b[0m, \u001b[38;5;34m82\u001b[0m, \u001b[38;5;34m82\u001b[0m, \u001b[38;5;34m32\u001b[0m)     │           \u001b[38;5;34m320\u001b[0m │\n",
       "├─────────────────────────────────┼────────────────────────┼───────────────┤\n",
       "│ max_pooling2d_4 (\u001b[38;5;33mMaxPooling2D\u001b[0m)  │ (\u001b[38;5;45mNone\u001b[0m, \u001b[38;5;34m41\u001b[0m, \u001b[38;5;34m41\u001b[0m, \u001b[38;5;34m32\u001b[0m)     │             \u001b[38;5;34m0\u001b[0m │\n",
       "├─────────────────────────────────┼────────────────────────┼───────────────┤\n",
       "│ dropout_4 (\u001b[38;5;33mDropout\u001b[0m)             │ (\u001b[38;5;45mNone\u001b[0m, \u001b[38;5;34m41\u001b[0m, \u001b[38;5;34m41\u001b[0m, \u001b[38;5;34m32\u001b[0m)     │             \u001b[38;5;34m0\u001b[0m │\n",
       "├─────────────────────────────────┼────────────────────────┼───────────────┤\n",
       "│ flatten_2 (\u001b[38;5;33mFlatten\u001b[0m)             │ (\u001b[38;5;45mNone\u001b[0m, \u001b[38;5;34m53792\u001b[0m)          │             \u001b[38;5;34m0\u001b[0m │\n",
       "├─────────────────────────────────┼────────────────────────┼───────────────┤\n",
       "│ dense_4 (\u001b[38;5;33mDense\u001b[0m)                 │ (\u001b[38;5;45mNone\u001b[0m, \u001b[38;5;34m128\u001b[0m)            │     \u001b[38;5;34m6,885,504\u001b[0m │\n",
       "├─────────────────────────────────┼────────────────────────┼───────────────┤\n",
       "│ dropout_5 (\u001b[38;5;33mDropout\u001b[0m)             │ (\u001b[38;5;45mNone\u001b[0m, \u001b[38;5;34m128\u001b[0m)            │             \u001b[38;5;34m0\u001b[0m │\n",
       "├─────────────────────────────────┼────────────────────────┼───────────────┤\n",
       "│ dense_5 (\u001b[38;5;33mDense\u001b[0m)                 │ (\u001b[38;5;45mNone\u001b[0m, \u001b[38;5;34m10\u001b[0m)             │         \u001b[38;5;34m1,290\u001b[0m │\n",
       "└─────────────────────────────────┴────────────────────────┴───────────────┘\n"
      ]
     },
     "metadata": {},
     "output_type": "display_data"
    },
    {
     "data": {
      "text/html": [
       "<pre style=\"white-space:pre;overflow-x:auto;line-height:normal;font-family:Menlo,'DejaVu Sans Mono',consolas,'Courier New',monospace\"><span style=\"font-weight: bold\"> Total params: </span><span style=\"color: #00af00; text-decoration-color: #00af00\">6,887,114</span> (26.27 MB)\n",
       "</pre>\n"
      ],
      "text/plain": [
       "\u001b[1m Total params: \u001b[0m\u001b[38;5;34m6,887,114\u001b[0m (26.27 MB)\n"
      ]
     },
     "metadata": {},
     "output_type": "display_data"
    },
    {
     "data": {
      "text/html": [
       "<pre style=\"white-space:pre;overflow-x:auto;line-height:normal;font-family:Menlo,'DejaVu Sans Mono',consolas,'Courier New',monospace\"><span style=\"font-weight: bold\"> Trainable params: </span><span style=\"color: #00af00; text-decoration-color: #00af00\">6,887,114</span> (26.27 MB)\n",
       "</pre>\n"
      ],
      "text/plain": [
       "\u001b[1m Trainable params: \u001b[0m\u001b[38;5;34m6,887,114\u001b[0m (26.27 MB)\n"
      ]
     },
     "metadata": {},
     "output_type": "display_data"
    },
    {
     "data": {
      "text/html": [
       "<pre style=\"white-space:pre;overflow-x:auto;line-height:normal;font-family:Menlo,'DejaVu Sans Mono',consolas,'Courier New',monospace\"><span style=\"font-weight: bold\"> Non-trainable params: </span><span style=\"color: #00af00; text-decoration-color: #00af00\">0</span> (0.00 B)\n",
       "</pre>\n"
      ],
      "text/plain": [
       "\u001b[1m Non-trainable params: \u001b[0m\u001b[38;5;34m0\u001b[0m (0.00 B)\n"
      ]
     },
     "metadata": {},
     "output_type": "display_data"
    }
   ],
   "source": [
    "#TODO: Don't forget to use Dropout layers to prevent overfitting\n",
    "# Model setup\n",
    "model = Sequential()\n",
    "model.add(Input(shape=(image_height, image_width, channels)))\n",
    "model.add(Conv2D(32, (3, 3), activation='relu'))\n",
    "model.add(MaxPooling2D((2, 2)))\n",
    "#model.add(Conv2D(64, (3, 3), activation='relu'))\n",
    "#model.add(MaxPooling2D((2, 2)))\n",
    "model.add(Dropout(0.25))\n",
    "model.add(Flatten())\n",
    "model.add(Dense(128, activation='relu'))\n",
    "model.add(Dropout(0.50))\n",
    "# Adjust the final layer to match the target shape\n",
    "model.add(Dense(10, activation='softmax'))\n",
    "\n",
    "# Show the model summary and ensure the final layer count matches our desired output of 10 as defined in the final Dense layer.\n",
    "model.summary()\n",
    "\n",
    "# Compile the model\n",
    "model.compile(optimizer='adam', loss='sparse_categorical_crossentropy', metrics=['accuracy'])\n"
   ]
  },
  {
   "cell_type": "code",
   "execution_count": 54,
   "metadata": {},
   "outputs": [
    {
     "data": {
      "image/png": "[encoded data removed]",
      "text/plain": [
       "<Figure size 1000x1000 with 10 Axes>"
      ]
     },
     "metadata": {},
     "output_type": "display_data"
    },
    {
     "data": {
      "image/png": "[encoded data removed]",
      "text/plain": [
       "<Figure size 1000x1000 with 10 Axes>"
      ]
     },
     "metadata": {},
     "output_type": "display_data"
    },
    {
     "data": {
      "image/png": "[encoded data removed]",
      "text/plain": [
       "<Figure size 1000x1000 with 10 Axes>"
      ]
     },
     "metadata": {},
     "output_type": "display_data"
    }
   ],
   "source": [
    "datset_peek(training_generator, 10)\n",
    "datset_peek(validation_generator, 10)\n",
    "datset_peek(test_generator, 10)"
   ]
  },
  {
   "cell_type": "code",
   "execution_count": 56,
   "metadata": {},
   "outputs": [
    {
     "name": "stderr",
     "output_type": "stream",
     "text": [
      "C:\\Users\\skyma\\AppData\\Local\\Packages\\PythonSoftwareFoundation.Python.3.12_qbz5n2kfra8p0\\LocalCache\\local-packages\\Python312\\site-packages\\keras\\src\\trainers\\data_adapters\\py_dataset_adapter.py:122: UserWarning: Your `PyDataset` class should call `super().__init__(**kwargs)` in its constructor. `**kwargs` can include `workers`, `use_multiprocessing`, `max_queue_size`. Do not pass these arguments to `fit()`, as they will be ignored.\n",
      "  self._warn_if_super_not_called()\n"
     ]
    },
    {
     "name": "stdout",
     "output_type": "stream",
     "text": [
      "\u001b[1m6000/6000\u001b[0m \u001b[32m━━━━━━━━━━━━━━━━━━━━\u001b[0m\u001b[37m\u001b[0m \u001b[1m715s\u001b[0m 119ms/step - accuracy: 0.3454 - loss: 1.7946 - val_accuracy: 0.6611 - val_loss: 1.0341\n"
     ]
    },
    {
     "data": {
      "text/plain": [
       "<keras.src.callbacks.history.History at 0x1e61e776690>"
      ]
     },
     "execution_count": 56,
     "metadata": {},
     "output_type": "execute_result"
    }
   ],
   "source": [
    "# trying TensorBoard which will be a callback to an external callback\n",
    "# I'm not sure a directory check is needed here, but it's a good habit to get into\n",
    "if os.path.exists(dataset_root_dir + '\\\\logs') is not True:\n",
    "        os.makedirs(dataset_root_dir + '\\\\logs')\n",
    "tensorboard_callback = tf.keras.callbacks.TensorBoard(log_dir=dataset_root_dir + '\\\\logs')\n",
    "\n",
    "# model training time\n",
    "model.fit(\n",
    "        training_generator,\n",
    "        steps_per_epoch=training_generator.samples // batch_size,\n",
    "        epochs=1,\n",
    "        validation_data=validation_generator,\n",
    "        validation_steps=validation_generator.samples // batch_size,\n",
    "        verbose=1,\n",
    "        callbacks=[tensorboard_callback])"
   ]
  },
  {
   "cell_type": "markdown",
   "metadata": {},
   "source": [
    "# Task 8 - Fine-tune the CNN model using appropriate techniques like hyperparameter tuning, cross-validation, etc"
   ]
  },
  {
   "cell_type": "code",
   "execution_count": null,
   "metadata": {},
   "outputs": [],
   "source": []
  },
  {
   "cell_type": "markdown",
   "metadata": {},
   "source": [
    "# Task 9 - Visualize the dataset and the CNN model's results where applicable with feature maps, learning curves, etc"
   ]
  },
  {
   "cell_type": "code",
   "execution_count": null,
   "metadata": {},
   "outputs": [],
   "source": []
  },
  {
   "cell_type": "markdown",
   "metadata": {},
   "source": [
    "# Task 10 - Report the final performance of the CNN model using appropriate performance metrics like accuracy, F1-score, etc"
   ]
  },
  {
   "cell_type": "code",
   "execution_count": null,
   "metadata": {},
   "outputs": [],
   "source": []
  },
  {
   "cell_type": "markdown",
   "metadata": {},
   "source": [
    "# Task 11 -Decide on the best model for classification and CNN architecture for digital recognition"
   ]
  },
  {
   "cell_type": "code",
   "execution_count": null,
   "metadata": {},
   "outputs": [],
   "source": []
  }
 ],
 "metadata": {
  "kernelspec": {
   "display_name": "Python 3",
   "language": "python",
   "name": "python3"
  },
  "language_info": {
   "codemirror_mode": {
    "name": "ipython",
    "version": 3
   },
   "file_extension": ".py",
   "mimetype": "text/x-python",
   "name": "python",
   "nbconvert_exporter": "python",
   "pygments_lexer": "ipython3",
   "version": "3.12.5"
  }
 },
 "nbformat": 4,
 "nbformat_minor": 2
}
