{
 "cells": [
  {
   "cell_type": "markdown",
   "metadata": {},
   "source": [
    "# 771948_A23_T3A - Group Work Assignment #\n",
    "# Task 2 - Multi-label image-based digit classification problem #\n",
    "## Assignment by CM 202369825 and AA 202375309 ##"
   ]
  },
  {
   "cell_type": "markdown",
   "metadata": {},
   "source": [
    "---\n",
    "### Additional notes from class chat ###\n",
    "#### 1. Labels from dataset will be folder names\n",
    "#### 2. Beware of the multi image model classifying into triplets instead of single digits. The output shape should be 1000 instead of 10\n",
    "#### 3. DO NOT recombine the split data. It has to be used as is as per TA Khadjia\n",
    "#### 4. From Khadjia: The provided splits into training, validation and testing were designed to simulate real-world scenarios. Teams must develop a baseline model using these splits and gthen improve upon this baseline through various techniques such as preprocessing and model architecture enhancements.\n",
    "---"
   ]
  },
  {
   "cell_type": "markdown",
   "metadata": {},
   "source": [
    "# Task 6 - Load and preprocess the dataset for multi-label image-based digit classification task\n",
    "\n",
    "## <b>References</b>\n",
    "\n",
    "Johns, Ray. (2024). PyTorch vs TensorFlow for your Python Deep Learning Project. Available at: https://realpython.com/pytorch-vs-tensorflow/. [Accessed Aug 5, 2024]"
   ]
  },
  {
   "cell_type": "code",
   "execution_count": 2,
   "metadata": {},
   "outputs": [],
   "source": [
    "# For this assignment we have chosen to use the TensorFlow over PyTorch as TensorFlow 2.0 has eager execution and the Keras APIs have more prefabricated components for us to use.\n",
    "import tensorflow as tf\n",
    "from tensorflow import keras\n",
    "# Needed for image pre-processing\n",
    "from PIL import Image\n",
    "import os\n",
    "# there is a lint problem access problem with the latest release of TensorFlow/Keras so we have to go direct to the root call\n",
    "from keras._tf_keras.keras.preprocessing.image import ImageDataGenerator\n",
    "from keras._tf_keras.keras.models import Sequential\n",
    "from keras._tf_keras.keras.layers import Conv2D, MaxPooling2D, Flatten, Dense, Activation, Dropout, Input\n",
    "# we want these for some visualizations\n",
    "import matplotlib.pyplot as plt\n",
    "import numpy as np\n",
    "# for progress bars\n",
    "from tqdm import tqdm\n",
    "\n",
    "# Change directory location as needed. This should be the root of the unzipped dataset and the initial folder visible shuold be \"triple_mnist\" \n",
    "# -------------------------------------------\n",
    "dataset_root_dir = 'z:'\n",
    "log_dir = dataset_root_dir + '\\\\logs'\n",
    "# -------------------------------------------\n",
    "\n",
    "# set this to true for overnight detailed training results\n",
    "# -------------------------------------------\n",
    "extreme_training = True\n",
    "long_hyperp_training = False\n",
    "# -------------------------------------------\n",
    "\n",
    "# Set the number of epochs to train for\n",
    "planned_epochs = 20\n",
    "if extreme_training is False:\n",
    "    planned_epochs = 5\n",
    "\n",
    "\n",
    "# Set the random seed for reproducibility\n",
    "tf.random.set_seed(42)\n",
    "\n",
    "# Define our data split directory locations\n",
    "training_dir = dataset_root_dir + '\\\\triple_mnist\\\\train'\n",
    "validate_dir = dataset_root_dir + '\\\\triple_mnist\\\\val'\n",
    "test_dir = dataset_root_dir + '\\\\triple_mnist\\\\test'\n",
    "\n",
    "# mode switch for label encoding tests\n",
    "# class_mode_default = 'categorical' # or sparse\n",
    "class_mode_default = 'sparse' # or categorical\n",
    "#loss_mode_default = 'categorical_crossentropy' # or sparse_categorical_crossentropy\n",
    "loss_mode_default = 'sparse_categorical_crossentropy' # or categorical_crossentropy\n",
    "\n",
    "\n",
    "# Define our image parameters\n",
    "image_height = 84\n",
    "image_width = 84\n",
    "batch_size = 32\n",
    "# these are grayscale images, so we will only have 1 channel and this will be enforced in the data loading process\n",
    "channels = 1\n",
    "# output classes will be 0 to 9 which = 10\n",
    "num_classes = 10\n",
    "\n",
    "# Data augmentation and preprocessing parameters to initialize the ImageDataGenerator\n",
    "# Transformations we are NOT using include: zoom_range, horizontal_flip, vertical_flip, fill_mode, channel_shift_range, brightness_range, zca_epsilon, zca_whitening\n",
    "# Note that we had the opportunity to use the \"preprocessing_function\" parameter to crop the images as needed but we chose to persist the cropped images to disk to prevent\n",
    "# this function from being called with each epoch. This is because the cropping function is computationally expensive and we only need to do it once.\n",
    "idg = ImageDataGenerator(\n",
    "    rescale=1./255,          # Normalize pixel values to [0, 1]\n",
    "    shear_range=0.2,         # Apply shear transformations\n",
    "    rotation_range=40,       # Randomly rotate images by up to 40 degrees\n",
    "    width_shift_range=0.2,   # Randomly shift images horizontally by up to 20% of the width\n",
    "    height_shift_range=0.2,   # Randomly shift images vertically by up to 20% of the height\n",
    ")"
   ]
  },
  {
   "cell_type": "markdown",
   "metadata": {},
   "source": [
    "## Pre-processing to get the triplet digit data into single values\n",
    "### The data came to us as a series of triplet hand written numbers meaning that in the 84 x 84 image there are three images. Upon inspection there is a clean divide between all digits despite them having random y placement in the frame. Our best approach is to take the file name, divide the image into three and then save out the single hand written digit to a new folder. To manage this in memory could be costly so we will check if the images exist on your disk, write them if necessary, but read them from pre-processesd state if they have already been cleaned in your local dataset. We will watch for images that get cropped but even that might be only a couple of pixels."
   ]
  },
  {
   "cell_type": "code",
   "execution_count": 3,
   "metadata": {},
   "outputs": [],
   "source": [
    "# --------------------------------------------------------------------------\n",
    "# this is the function that will crop a triplet digit image into three separate images and return them as a list of three images.\n",
    "# this function does not manage disk persistence, it is only for in-memory processing\n",
    "def crop_image(image):\n",
    "    image_return = []\n",
    "    x_cropsize = 28\n",
    "    y_cropsize = 84\n",
    "    x_croplength = x_cropsize/2\n",
    "    y_croplength = y_cropsize/2\n",
    "    # define the centers of the three cropped images and the crop size will go to the edge coords from there\n",
    "    x_centers = [14, 42, 70]\n",
    "    y_centers = [42, 42, 42]\n",
    "    # create the three cropped images\n",
    "    image_return = [None, None, None]\n",
    "    for i in range(3):\n",
    "        image_return[i] = image.crop((x_centers[i]-x_croplength, y_centers[i]-y_croplength, x_centers[i]+x_croplength, y_centers[i]+y_croplength))\n",
    "        \n",
    "    return image_return\n",
    "\n",
    "# --------------------------------------------------------------------------\n",
    "# this function lets us look at our images in the datasets\n",
    "# let's peek into the dataset by loading the first batch of num_to_show images\n",
    "def datset_peek(idg_show: ImageDataGenerator, num_to_show: int):\n",
    "\n",
    "        fig, ax = plt.subplots(1, num_to_show, figsize=(10, 10))\n",
    "        for i in range(num_to_show):\n",
    "            ax[i].imshow(np.squeeze(idg_show[0][0][i]), cmap='gray')\n",
    "            if class_mode_default == 'categorical':\n",
    "                # convert the one-hot encoded label back to the original label\n",
    "                ax[i].set_title(f'Lbl: {np.argmax(idg_show[0][1][i])}')\n",
    "            else:\n",
    "                 ax[i].set_title(f'Lbl: {int(idg_show[0][1][i])}')\n",
    "            ax[i].axis('off')\n",
    "        plt.show()"
   ]
  },
  {
   "cell_type": "code",
   "execution_count": 4,
   "metadata": {},
   "outputs": [],
   "source": [
    "#--------------------------------------------------------------------------\n",
    "def process_triplets(processing_path: str, preprocessing_completed_path: str, test_mode: bool = False) -> int:\n",
    "    # this function will process the triplet images in the processing_path and crop them into individual images and save them to the preprocessing_completed_path\n",
    "    \"\"\"\n",
    "    Parameters:\n",
    "    processing_path: the path to the folder containing the triplet MNIST images.\n",
    "    preprocessing_completed_path: the path to the folder where the cropped images will be saved. This path will be created for you in the process.\n",
    "    test_mode: if True, the function will only process the first folder in the processing_path. This is useful for initial testing of the function. Once done testing, delete the preprocessing folders and re-run with this flag removed. \n",
    "    Returns:\n",
    "    int: the number of files created in the preprocessing_completed_path\n",
    "    \"\"\"\n",
    "    # instead of looking to disk for each instance of the new file to find out the name, we're going to keep an in-memory index of the files we've created\n",
    "    cropped_index = [0,0,0,0,0,0,0,0,0,0]\n",
    "    files_created = 0 # running total of all triplet files loaded\n",
    "    all_folders = os.listdir(processing_path)\n",
    "    # Enumerate and load the directories\n",
    "    for index, image_folder in enumerate(tqdm(all_folders, desc=f'processing folders in the {processing_path} directory')):\n",
    "        triplet_images = [] # a list of the images in the current folder \n",
    "        # now go through each directory and get the images\n",
    "        curr_files = os.listdir(os.path.join(processing_path, image_folder))\n",
    "        for image_file in curr_files:\n",
    "            file_path = os.path.join(processing_path, image_folder, image_file)\n",
    "            try:\n",
    "                image = Image.open(file_path)\n",
    "                triplet_images.append(image)\n",
    "                ##print(f'folder index {index}: {image_file} loaded successfully from {file_path}.')\n",
    "            except PermissionError as e:\n",
    "                print(f'Permission denied, please launch your IDE as admin: {e}')\n",
    "            except Exception as e:\n",
    "                print(f'An error occurred: {e}')\n",
    "        # now we have all the images in the folder, let's crop them\n",
    "        crop_labels = list(image_folder)\n",
    "        # loop through current triplet_images and pass to the crop_image function\n",
    "        cropped_images = []\n",
    "        for image in triplet_images:\n",
    "            cropped_images = crop_image(image)\n",
    "            # now we need to save these images to disk\n",
    "            for i in range(3):\n",
    "                # if this is the first time we've written to this label, we need to create the folder\n",
    "                if int(cropped_index[int(crop_labels[i])]) == 0:\n",
    "                    os.makedirs(os.path.join(preprocessing_completed_path, crop_labels[i]), exist_ok=True)\n",
    "                cropped_images[i].save(os.path.join(preprocessing_completed_path, crop_labels[i], f'{cropped_index[int(crop_labels[i])]}_{crop_labels[i]}.png'))\n",
    "                # increment the index for the label for the next image\n",
    "                cropped_index[int(crop_labels[i])] += 1\n",
    "                files_created += 1\n",
    "        if test_mode:\n",
    "            break # iterate only the first folder\n",
    "    return files_created"
   ]
  },
  {
   "cell_type": "code",
   "execution_count": 5,
   "metadata": {},
   "outputs": [
    {
     "name": "stdout",
     "output_type": "stream",
     "text": [
      "Training preprocessed images exist\n",
      "Validation preprocessed images exist\n",
      "Test preprocessed images exist\n"
     ]
    }
   ],
   "source": [
    "# WARNING - this code commits 300,000 files to your file drive and will take a long time to run - you can monitor progress at the bottom of the cell\n",
    "# Check and see if the triplet images have been cropped and saved to your drive\n",
    "training_preprocessed_dir = dataset_root_dir + '\\\\triple_mnist\\\\train_preprocessed'\n",
    "validate_preprocessed_dir = dataset_root_dir + '\\\\triple_mnist\\\\val_preprocessed'\n",
    "test_preprocessed_dir = dataset_root_dir + '\\\\triple_mnist\\\\test_preprocessed'\n",
    "if os.path.exists(training_preprocessed_dir):\n",
    "    print('Training preprocessed images exist')\n",
    "else:\n",
    "    process_triplets(training_dir, training_preprocessed_dir)\n",
    "\n",
    "if os.path.exists(validate_preprocessed_dir):\n",
    "    print('Validation preprocessed images exist')\n",
    "else:\n",
    "    process_triplets(validate_dir, validate_preprocessed_dir)\n",
    "\n",
    "if os.path.exists(test_preprocessed_dir):\n",
    "    print('Test preprocessed images exist')\n",
    "else:\n",
    "    process_triplets(test_dir, test_preprocessed_dir)"
   ]
  },
  {
   "cell_type": "code",
   "execution_count": 6,
   "metadata": {},
   "outputs": [
    {
     "name": "stdout",
     "output_type": "stream",
     "text": [
      "generating training set\n",
      "Found 192000 images belonging to 10 classes.\n",
      "generating test set\n",
      "Found 60000 images belonging to 10 classes.\n",
      "generating validation set\n",
      "Found 48000 images belonging to 10 classes.\n",
      "label sanity peek on training set: [0 0 0 ... 9 9 9]\n"
     ]
    }
   ],
   "source": [
    "# Load the images from a locally mapped source (see README.md for details on setting up local drive mapping)\n",
    "# We've used the idg to load only the training images and preprocess them with the above parameters\n",
    "# Images are brought in as grayscale (single channel) as they are black and white images\n",
    "print('generating training set')\n",
    "training_generator = idg.flow_from_directory(\n",
    "    training_preprocessed_dir,\n",
    "    target_size=(image_height, image_width),\n",
    "    batch_size=batch_size,\n",
    "    class_mode=class_mode_default,\n",
    "    color_mode='grayscale'\n",
    ")\n",
    "\n",
    "print('generating test set')\n",
    "# Our test and validation data should not be augmented so their init is simpler and does not use our predefined idg parameters\n",
    "test_generator = ImageDataGenerator(rescale=1./255).flow_from_directory(\n",
    "    test_preprocessed_dir,\n",
    "    target_size=(image_height, image_width),\n",
    "    batch_size=batch_size,\n",
    "    class_mode=class_mode_default,\n",
    "    color_mode='grayscale'\n",
    ")\n",
    "\n",
    "print('generating validation set')\n",
    "# Note use of validation data but no augmentation\n",
    "validation_generator = ImageDataGenerator(rescale=1./255).flow_from_directory(\n",
    "    validate_preprocessed_dir,\n",
    "    target_size=(image_height, image_width),\n",
    "    batch_size=batch_size,\n",
    "    class_mode=class_mode_default,\n",
    "    color_mode='grayscale'\n",
    ")\n",
    "\n",
    "print(f'label sanity peek on training set: {training_generator.labels}')"
   ]
  },
  {
   "cell_type": "code",
   "execution_count": 7,
   "metadata": {},
   "outputs": [
    {
     "name": "stdout",
     "output_type": "stream",
     "text": [
      "training generator shape (84, 84, 1)\n",
      "validation generator shape (84, 84, 1)\n",
      "test generator shape (84, 84, 1)\n"
     ]
    }
   ],
   "source": [
    "# check and see if all the images are the same shape before feeding them into the model\n",
    "print(f'training generator shape {training_generator.image_shape}')\n",
    "print(f'validation generator shape {validation_generator.image_shape}')\n",
    "print(f'test generator shape {test_generator.image_shape}')\n"
   ]
  },
  {
   "cell_type": "markdown",
   "metadata": {},
   "source": [
    "# Task 7 - Build a convultional neural network (CNN) model for the multi-label image-based digit classification task"
   ]
  },
  {
   "cell_type": "code",
   "execution_count": 8,
   "metadata": {},
   "outputs": [
    {
     "data": {
      "text/html": [
       "<pre style=\"white-space:pre;overflow-x:auto;line-height:normal;font-family:Menlo,'DejaVu Sans Mono',consolas,'Courier New',monospace\"><span style=\"font-weight: bold\">Model: \"sequential\"</span>\n",
       "</pre>\n"
      ],
      "text/plain": [
       "\u001b[1mModel: \"sequential\"\u001b[0m\n"
      ]
     },
     "metadata": {},
     "output_type": "display_data"
    },
    {
     "data": {
      "text/html": [
       "<pre style=\"white-space:pre;overflow-x:auto;line-height:normal;font-family:Menlo,'DejaVu Sans Mono',consolas,'Courier New',monospace\">┏━━━━━━━━━━━━━━━━━━━━━━━━━━━━━━━━━┳━━━━━━━━━━━━━━━━━━━━━━━━┳━━━━━━━━━━━━━━━┓\n",
       "┃<span style=\"font-weight: bold\"> Layer (type)                    </span>┃<span style=\"font-weight: bold\"> Output Shape           </span>┃<span style=\"font-weight: bold\">       Param # </span>┃\n",
       "┡━━━━━━━━━━━━━━━━━━━━━━━━━━━━━━━━━╇━━━━━━━━━━━━━━━━━━━━━━━━╇━━━━━━━━━━━━━━━┩\n",
       "│ conv2d (<span style=\"color: #0087ff; text-decoration-color: #0087ff\">Conv2D</span>)                 │ (<span style=\"color: #00d7ff; text-decoration-color: #00d7ff\">None</span>, <span style=\"color: #00af00; text-decoration-color: #00af00\">82</span>, <span style=\"color: #00af00; text-decoration-color: #00af00\">82</span>, <span style=\"color: #00af00; text-decoration-color: #00af00\">32</span>)     │           <span style=\"color: #00af00; text-decoration-color: #00af00\">320</span> │\n",
       "├─────────────────────────────────┼────────────────────────┼───────────────┤\n",
       "│ max_pooling2d (<span style=\"color: #0087ff; text-decoration-color: #0087ff\">MaxPooling2D</span>)    │ (<span style=\"color: #00d7ff; text-decoration-color: #00d7ff\">None</span>, <span style=\"color: #00af00; text-decoration-color: #00af00\">41</span>, <span style=\"color: #00af00; text-decoration-color: #00af00\">41</span>, <span style=\"color: #00af00; text-decoration-color: #00af00\">32</span>)     │             <span style=\"color: #00af00; text-decoration-color: #00af00\">0</span> │\n",
       "├─────────────────────────────────┼────────────────────────┼───────────────┤\n",
       "│ conv2d_1 (<span style=\"color: #0087ff; text-decoration-color: #0087ff\">Conv2D</span>)               │ (<span style=\"color: #00d7ff; text-decoration-color: #00d7ff\">None</span>, <span style=\"color: #00af00; text-decoration-color: #00af00\">39</span>, <span style=\"color: #00af00; text-decoration-color: #00af00\">39</span>, <span style=\"color: #00af00; text-decoration-color: #00af00\">64</span>)     │        <span style=\"color: #00af00; text-decoration-color: #00af00\">18,496</span> │\n",
       "├─────────────────────────────────┼────────────────────────┼───────────────┤\n",
       "│ max_pooling2d_1 (<span style=\"color: #0087ff; text-decoration-color: #0087ff\">MaxPooling2D</span>)  │ (<span style=\"color: #00d7ff; text-decoration-color: #00d7ff\">None</span>, <span style=\"color: #00af00; text-decoration-color: #00af00\">19</span>, <span style=\"color: #00af00; text-decoration-color: #00af00\">19</span>, <span style=\"color: #00af00; text-decoration-color: #00af00\">64</span>)     │             <span style=\"color: #00af00; text-decoration-color: #00af00\">0</span> │\n",
       "├─────────────────────────────────┼────────────────────────┼───────────────┤\n",
       "│ dense (<span style=\"color: #0087ff; text-decoration-color: #0087ff\">Dense</span>)                   │ (<span style=\"color: #00d7ff; text-decoration-color: #00d7ff\">None</span>, <span style=\"color: #00af00; text-decoration-color: #00af00\">19</span>, <span style=\"color: #00af00; text-decoration-color: #00af00\">19</span>, <span style=\"color: #00af00; text-decoration-color: #00af00\">128</span>)    │         <span style=\"color: #00af00; text-decoration-color: #00af00\">8,320</span> │\n",
       "├─────────────────────────────────┼────────────────────────┼───────────────┤\n",
       "│ dropout (<span style=\"color: #0087ff; text-decoration-color: #0087ff\">Dropout</span>)               │ (<span style=\"color: #00d7ff; text-decoration-color: #00d7ff\">None</span>, <span style=\"color: #00af00; text-decoration-color: #00af00\">19</span>, <span style=\"color: #00af00; text-decoration-color: #00af00\">19</span>, <span style=\"color: #00af00; text-decoration-color: #00af00\">128</span>)    │             <span style=\"color: #00af00; text-decoration-color: #00af00\">0</span> │\n",
       "├─────────────────────────────────┼────────────────────────┼───────────────┤\n",
       "│ flatten (<span style=\"color: #0087ff; text-decoration-color: #0087ff\">Flatten</span>)               │ (<span style=\"color: #00d7ff; text-decoration-color: #00d7ff\">None</span>, <span style=\"color: #00af00; text-decoration-color: #00af00\">46208</span>)          │             <span style=\"color: #00af00; text-decoration-color: #00af00\">0</span> │\n",
       "├─────────────────────────────────┼────────────────────────┼───────────────┤\n",
       "│ dense_1 (<span style=\"color: #0087ff; text-decoration-color: #0087ff\">Dense</span>)                 │ (<span style=\"color: #00d7ff; text-decoration-color: #00d7ff\">None</span>, <span style=\"color: #00af00; text-decoration-color: #00af00\">128</span>)            │     <span style=\"color: #00af00; text-decoration-color: #00af00\">5,914,752</span> │\n",
       "├─────────────────────────────────┼────────────────────────┼───────────────┤\n",
       "│ dropout_1 (<span style=\"color: #0087ff; text-decoration-color: #0087ff\">Dropout</span>)             │ (<span style=\"color: #00d7ff; text-decoration-color: #00d7ff\">None</span>, <span style=\"color: #00af00; text-decoration-color: #00af00\">128</span>)            │             <span style=\"color: #00af00; text-decoration-color: #00af00\">0</span> │\n",
       "├─────────────────────────────────┼────────────────────────┼───────────────┤\n",
       "│ dense_2 (<span style=\"color: #0087ff; text-decoration-color: #0087ff\">Dense</span>)                 │ (<span style=\"color: #00d7ff; text-decoration-color: #00d7ff\">None</span>, <span style=\"color: #00af00; text-decoration-color: #00af00\">10</span>)             │         <span style=\"color: #00af00; text-decoration-color: #00af00\">1,290</span> │\n",
       "└─────────────────────────────────┴────────────────────────┴───────────────┘\n",
       "</pre>\n"
      ],
      "text/plain": [
       "┏━━━━━━━━━━━━━━━━━━━━━━━━━━━━━━━━━┳━━━━━━━━━━━━━━━━━━━━━━━━┳━━━━━━━━━━━━━━━┓\n",
       "┃\u001b[1m \u001b[0m\u001b[1mLayer (type)                   \u001b[0m\u001b[1m \u001b[0m┃\u001b[1m \u001b[0m\u001b[1mOutput Shape          \u001b[0m\u001b[1m \u001b[0m┃\u001b[1m \u001b[0m\u001b[1m      Param #\u001b[0m\u001b[1m \u001b[0m┃\n",
       "┡━━━━━━━━━━━━━━━━━━━━━━━━━━━━━━━━━╇━━━━━━━━━━━━━━━━━━━━━━━━╇━━━━━━━━━━━━━━━┩\n",
       "│ conv2d (\u001b[38;5;33mConv2D\u001b[0m)                 │ (\u001b[38;5;45mNone\u001b[0m, \u001b[38;5;34m82\u001b[0m, \u001b[38;5;34m82\u001b[0m, \u001b[38;5;34m32\u001b[0m)     │           \u001b[38;5;34m320\u001b[0m │\n",
       "├─────────────────────────────────┼────────────────────────┼───────────────┤\n",
       "│ max_pooling2d (\u001b[38;5;33mMaxPooling2D\u001b[0m)    │ (\u001b[38;5;45mNone\u001b[0m, \u001b[38;5;34m41\u001b[0m, \u001b[38;5;34m41\u001b[0m, \u001b[38;5;34m32\u001b[0m)     │             \u001b[38;5;34m0\u001b[0m │\n",
       "├─────────────────────────────────┼────────────────────────┼───────────────┤\n",
       "│ conv2d_1 (\u001b[38;5;33mConv2D\u001b[0m)               │ (\u001b[38;5;45mNone\u001b[0m, \u001b[38;5;34m39\u001b[0m, \u001b[38;5;34m39\u001b[0m, \u001b[38;5;34m64\u001b[0m)     │        \u001b[38;5;34m18,496\u001b[0m │\n",
       "├─────────────────────────────────┼────────────────────────┼───────────────┤\n",
       "│ max_pooling2d_1 (\u001b[38;5;33mMaxPooling2D\u001b[0m)  │ (\u001b[38;5;45mNone\u001b[0m, \u001b[38;5;34m19\u001b[0m, \u001b[38;5;34m19\u001b[0m, \u001b[38;5;34m64\u001b[0m)     │             \u001b[38;5;34m0\u001b[0m │\n",
       "├─────────────────────────────────┼────────────────────────┼───────────────┤\n",
       "│ dense (\u001b[38;5;33mDense\u001b[0m)                   │ (\u001b[38;5;45mNone\u001b[0m, \u001b[38;5;34m19\u001b[0m, \u001b[38;5;34m19\u001b[0m, \u001b[38;5;34m128\u001b[0m)    │         \u001b[38;5;34m8,320\u001b[0m │\n",
       "├─────────────────────────────────┼────────────────────────┼───────────────┤\n",
       "│ dropout (\u001b[38;5;33mDropout\u001b[0m)               │ (\u001b[38;5;45mNone\u001b[0m, \u001b[38;5;34m19\u001b[0m, \u001b[38;5;34m19\u001b[0m, \u001b[38;5;34m128\u001b[0m)    │             \u001b[38;5;34m0\u001b[0m │\n",
       "├─────────────────────────────────┼────────────────────────┼───────────────┤\n",
       "│ flatten (\u001b[38;5;33mFlatten\u001b[0m)               │ (\u001b[38;5;45mNone\u001b[0m, \u001b[38;5;34m46208\u001b[0m)          │             \u001b[38;5;34m0\u001b[0m │\n",
       "├─────────────────────────────────┼────────────────────────┼───────────────┤\n",
       "│ dense_1 (\u001b[38;5;33mDense\u001b[0m)                 │ (\u001b[38;5;45mNone\u001b[0m, \u001b[38;5;34m128\u001b[0m)            │     \u001b[38;5;34m5,914,752\u001b[0m │\n",
       "├─────────────────────────────────┼────────────────────────┼───────────────┤\n",
       "│ dropout_1 (\u001b[38;5;33mDropout\u001b[0m)             │ (\u001b[38;5;45mNone\u001b[0m, \u001b[38;5;34m128\u001b[0m)            │             \u001b[38;5;34m0\u001b[0m │\n",
       "├─────────────────────────────────┼────────────────────────┼───────────────┤\n",
       "│ dense_2 (\u001b[38;5;33mDense\u001b[0m)                 │ (\u001b[38;5;45mNone\u001b[0m, \u001b[38;5;34m10\u001b[0m)             │         \u001b[38;5;34m1,290\u001b[0m │\n",
       "└─────────────────────────────────┴────────────────────────┴───────────────┘\n"
      ]
     },
     "metadata": {},
     "output_type": "display_data"
    },
    {
     "data": {
      "text/html": [
       "<pre style=\"white-space:pre;overflow-x:auto;line-height:normal;font-family:Menlo,'DejaVu Sans Mono',consolas,'Courier New',monospace\"><span style=\"font-weight: bold\"> Total params: </span><span style=\"color: #00af00; text-decoration-color: #00af00\">5,943,178</span> (22.67 MB)\n",
       "</pre>\n"
      ],
      "text/plain": [
       "\u001b[1m Total params: \u001b[0m\u001b[38;5;34m5,943,178\u001b[0m (22.67 MB)\n"
      ]
     },
     "metadata": {},
     "output_type": "display_data"
    },
    {
     "data": {
      "text/html": [
       "<pre style=\"white-space:pre;overflow-x:auto;line-height:normal;font-family:Menlo,'DejaVu Sans Mono',consolas,'Courier New',monospace\"><span style=\"font-weight: bold\"> Trainable params: </span><span style=\"color: #00af00; text-decoration-color: #00af00\">5,943,178</span> (22.67 MB)\n",
       "</pre>\n"
      ],
      "text/plain": [
       "\u001b[1m Trainable params: \u001b[0m\u001b[38;5;34m5,943,178\u001b[0m (22.67 MB)\n"
      ]
     },
     "metadata": {},
     "output_type": "display_data"
    },
    {
     "data": {
      "text/html": [
       "<pre style=\"white-space:pre;overflow-x:auto;line-height:normal;font-family:Menlo,'DejaVu Sans Mono',consolas,'Courier New',monospace\"><span style=\"font-weight: bold\"> Non-trainable params: </span><span style=\"color: #00af00; text-decoration-color: #00af00\">0</span> (0.00 B)\n",
       "</pre>\n"
      ],
      "text/plain": [
       "\u001b[1m Non-trainable params: \u001b[0m\u001b[38;5;34m0\u001b[0m (0.00 B)\n"
      ]
     },
     "metadata": {},
     "output_type": "display_data"
    }
   ],
   "source": [
    "# --------------------------------------------------------------------------\n",
    "# this function keeps our baseline model reusable and easy to modify\n",
    "def create_model(dropout: float=0.25, dropout_2: float=0.5, density: int=128, optimizer='adam', loss=loss_mode_default, metrics=['accuracy']):\n",
    "    \"\"\"\n",
    "    Parameters:\n",
    "    dropout: the dropout rate to use in the model\n",
    "    dropout_2: the dropout rate to use in the second dropout of the model\n",
    "    density: the number of neurons in the dense layer\n",
    "    optimizer: the optimizer to use in the model\n",
    "    loss: the loss function to use in the model\n",
    "    metrics: the metrics to use in the model\n",
    "    Returns:\n",
    "    model: a compiled Keras model\n",
    "    \"\"\"\n",
    "    #TODO: Don't forget to use Dropout layers to prevent overfitting\n",
    "    # Model setup\n",
    "    model = Sequential()\n",
    "    model.add(Input(shape=(image_height, image_width, channels)))\n",
    "    model.add(Conv2D(32, (3, 3), activation='relu'))\n",
    "    model.add(MaxPooling2D((2, 2)))\n",
    "    if extreme_training:\n",
    "        model.add(Conv2D(64, (3, 3), activation='relu'))\n",
    "        model.add(MaxPooling2D((2, 2)))\n",
    "        model.add(Dense(density, activation='relu'))\n",
    "    model.add(Dropout(dropout))\n",
    "    model.add(Flatten())\n",
    "    model.add(Dense(density, activation='relu'))\n",
    "    model.add(Dropout(dropout_2))\n",
    "    # Adjust the final layer to match the target shape\n",
    "    model.add(Dense(10, activation='softmax'))\n",
    "    \n",
    "    # Compile the model using the parameters passed in\n",
    "    model.compile(optimizer=optimizer, loss=loss, metrics=metrics)\n",
    "    return model\n",
    "\n",
    "# Show the model summary and ensure the final layer count matches our desired output of 10 as defined in the final Dense layer.\n",
    "model = create_model()\n",
    "model.summary()"
   ]
  },
  {
   "cell_type": "code",
   "execution_count": 9,
   "metadata": {},
   "outputs": [
    {
     "data": {
      "image/png": "[encoded data removed]",
      "text/plain": [
       "<Figure size 1000x1000 with 10 Axes>"
      ]
     },
     "metadata": {},
     "output_type": "display_data"
    },
    {
     "data": {
      "image/png": "[encoded data removed]",
      "text/plain": [
       "<Figure size 1000x1000 with 10 Axes>"
      ]
     },
     "metadata": {},
     "output_type": "display_data"
    },
    {
     "data": {
      "image/png": "[encoded data removed]",
      "text/plain": [
       "<Figure size 1000x1000 with 10 Axes>"
      ]
     },
     "metadata": {},
     "output_type": "display_data"
    }
   ],
   "source": [
    "datset_peek(training_generator, 10)\n",
    "datset_peek(validation_generator, 10)\n",
    "datset_peek(test_generator, 10)"
   ]
  },
  {
   "cell_type": "code",
   "execution_count": 11,
   "metadata": {},
   "outputs": [
    {
     "name": "stdout",
     "output_type": "stream",
     "text": [
      "training samples: 192000\n",
      "validation samples: 48000\n",
      "batch_size: 32\n",
      "planned epochs: 20\n",
      "training steps per epoch: 120\n",
      "validation steps per epoch: 30\n",
      "test steps per epoch: 37\n",
      "Epoch 1/20\n",
      "\u001b[1m120/120\u001b[0m \u001b[32m━━━━━━━━━━━━━━━━━━━━\u001b[0m\u001b[37m\u001b[0m \u001b[1m8s\u001b[0m 62ms/step - accuracy: 0.7274 - loss: 0.8343 - val_accuracy: 0.8552 - val_loss: 0.4904\n",
      "Epoch 2/20\n",
      "\u001b[1m120/120\u001b[0m \u001b[32m━━━━━━━━━━━━━━━━━━━━\u001b[0m\u001b[37m\u001b[0m \u001b[1m7s\u001b[0m 61ms/step - accuracy: 0.7269 - loss: 0.7809 - val_accuracy: 0.8438 - val_loss: 0.4819\n",
      "Epoch 3/20\n",
      "\u001b[1m120/120\u001b[0m \u001b[32m━━━━━━━━━━━━━━━━━━━━\u001b[0m\u001b[37m\u001b[0m \u001b[1m8s\u001b[0m 63ms/step - accuracy: 0.7334 - loss: 0.7893 - val_accuracy: 0.8771 - val_loss: 0.4234\n",
      "Epoch 4/20\n",
      "\u001b[1m120/120\u001b[0m \u001b[32m━━━━━━━━━━━━━━━━━━━━\u001b[0m\u001b[37m\u001b[0m \u001b[1m8s\u001b[0m 65ms/step - accuracy: 0.7646 - loss: 0.7244 - val_accuracy: 0.8656 - val_loss: 0.4443\n",
      "Epoch 5/20\n",
      "\u001b[1m120/120\u001b[0m \u001b[32m━━━━━━━━━━━━━━━━━━━━\u001b[0m\u001b[37m\u001b[0m \u001b[1m8s\u001b[0m 65ms/step - accuracy: 0.7638 - loss: 0.7305 - val_accuracy: 0.8875 - val_loss: 0.3500\n",
      "Epoch 6/20\n",
      "\u001b[1m120/120\u001b[0m \u001b[32m━━━━━━━━━━━━━━━━━━━━\u001b[0m\u001b[37m\u001b[0m \u001b[1m8s\u001b[0m 65ms/step - accuracy: 0.7565 - loss: 0.7500 - val_accuracy: 0.9115 - val_loss: 0.3172\n",
      "Epoch 7/20\n",
      "\u001b[1m120/120\u001b[0m \u001b[32m━━━━━━━━━━━━━━━━━━━━\u001b[0m\u001b[37m\u001b[0m \u001b[1m8s\u001b[0m 65ms/step - accuracy: 0.7612 - loss: 0.7561 - val_accuracy: 0.8792 - val_loss: 0.4071\n",
      "Epoch 8/20\n",
      "\u001b[1m120/120\u001b[0m \u001b[32m━━━━━━━━━━━━━━━━━━━━\u001b[0m\u001b[37m\u001b[0m \u001b[1m8s\u001b[0m 65ms/step - accuracy: 0.7815 - loss: 0.6813 - val_accuracy: 0.9010 - val_loss: 0.3228\n",
      "Epoch 9/20\n",
      "\u001b[1m120/120\u001b[0m \u001b[32m━━━━━━━━━━━━━━━━━━━━\u001b[0m\u001b[37m\u001b[0m \u001b[1m8s\u001b[0m 65ms/step - accuracy: 0.7806 - loss: 0.7067 - val_accuracy: 0.9156 - val_loss: 0.2772\n",
      "Epoch 10/20\n",
      "\u001b[1m120/120\u001b[0m \u001b[32m━━━━━━━━━━━━━━━━━━━━\u001b[0m\u001b[37m\u001b[0m \u001b[1m8s\u001b[0m 66ms/step - accuracy: 0.7687 - loss: 0.7265 - val_accuracy: 0.8792 - val_loss: 0.3649\n",
      "Epoch 11/20\n",
      "\u001b[1m120/120\u001b[0m \u001b[32m━━━━━━━━━━━━━━━━━━━━\u001b[0m\u001b[37m\u001b[0m \u001b[1m8s\u001b[0m 66ms/step - accuracy: 0.7788 - loss: 0.6504 - val_accuracy: 0.9208 - val_loss: 0.3115\n",
      "Epoch 12/20\n",
      "\u001b[1m120/120\u001b[0m \u001b[32m━━━━━━━━━━━━━━━━━━━━\u001b[0m\u001b[37m\u001b[0m \u001b[1m8s\u001b[0m 66ms/step - accuracy: 0.7811 - loss: 0.6786 - val_accuracy: 0.8823 - val_loss: 0.4064\n",
      "Epoch 13/20\n",
      "\u001b[1m120/120\u001b[0m \u001b[32m━━━━━━━━━━━━━━━━━━━━\u001b[0m\u001b[37m\u001b[0m \u001b[1m8s\u001b[0m 65ms/step - accuracy: 0.7779 - loss: 0.6455 - val_accuracy: 0.9062 - val_loss: 0.3407\n",
      "Epoch 14/20\n",
      "\u001b[1m120/120\u001b[0m \u001b[32m━━━━━━━━━━━━━━━━━━━━\u001b[0m\u001b[37m\u001b[0m \u001b[1m8s\u001b[0m 65ms/step - accuracy: 0.7826 - loss: 0.6643 - val_accuracy: 0.8906 - val_loss: 0.4026\n",
      "Epoch 15/20\n",
      "\u001b[1m120/120\u001b[0m \u001b[32m━━━━━━━━━━━━━━━━━━━━\u001b[0m\u001b[37m\u001b[0m \u001b[1m8s\u001b[0m 66ms/step - accuracy: 0.7711 - loss: 0.6746 - val_accuracy: 0.8948 - val_loss: 0.3866\n",
      "Epoch 16/20\n",
      "\u001b[1m120/120\u001b[0m \u001b[32m━━━━━━━━━━━━━━━━━━━━\u001b[0m\u001b[37m\u001b[0m \u001b[1m8s\u001b[0m 66ms/step - accuracy: 0.7887 - loss: 0.6765 - val_accuracy: 0.8906 - val_loss: 0.3313\n",
      "Epoch 17/20\n",
      "\u001b[1m120/120\u001b[0m \u001b[32m━━━━━━━━━━━━━━━━━━━━\u001b[0m\u001b[37m\u001b[0m \u001b[1m8s\u001b[0m 65ms/step - accuracy: 0.7957 - loss: 0.6232 - val_accuracy: 0.9031 - val_loss: 0.3075\n",
      "Epoch 18/20\n",
      "\u001b[1m120/120\u001b[0m \u001b[32m━━━━━━━━━━━━━━━━━━━━\u001b[0m\u001b[37m\u001b[0m \u001b[1m8s\u001b[0m 66ms/step - accuracy: 0.7947 - loss: 0.6601 - val_accuracy: 0.8958 - val_loss: 0.3343\n",
      "Epoch 19/20\n",
      "\u001b[1m120/120\u001b[0m \u001b[32m━━━━━━━━━━━━━━━━━━━━\u001b[0m\u001b[37m\u001b[0m \u001b[1m8s\u001b[0m 65ms/step - accuracy: 0.8030 - loss: 0.6039 - val_accuracy: 0.9083 - val_loss: 0.2716\n",
      "Epoch 20/20\n",
      "\u001b[1m120/120\u001b[0m \u001b[32m━━━━━━━━━━━━━━━━━━━━\u001b[0m\u001b[37m\u001b[0m \u001b[1m8s\u001b[0m 65ms/step - accuracy: 0.8042 - loss: 0.6161 - val_accuracy: 0.9146 - val_loss: 0.2944\n",
      "\u001b[1m37/37\u001b[0m \u001b[32m━━━━━━━━━━━━━━━━━━━━\u001b[0m\u001b[37m\u001b[0m \u001b[1m1s\u001b[0m 15ms/step - accuracy: 0.9098 - loss: 0.3026\n",
      "Test accuracy on base model:  [0.2644582688808441, 0.9256756901741028]\n"
     ]
    }
   ],
   "source": [
    "# trying TensorBoard which will be a callback to an external callback that writes a log file for us to visualize\n",
    "# I'm not sure a directory check is needed here, but it's a good habit to get into\n",
    "if os.path.exists(log_dir) is not True:\n",
    "        os.makedirs(log_dir)\n",
    "tensorboard_callback = tf.keras.callbacks.TensorBoard(log_dir=log_dir)\n",
    "\n",
    "# make sure your generator can generate 'steps_per_epoch * epochs' batches\n",
    "\n",
    "# we will adjust the steps per epoch based on the extreme_training flag\n",
    "steps_per_epoch_bias = 100\n",
    "if extreme_training:\n",
    "        steps_per_epoch_bias = 50\n",
    "        \n",
    "training_steps_per_epoch = training_generator.samples // batch_size // steps_per_epoch_bias\n",
    "validation_steps_per_epoch = validation_generator.samples // batch_size // steps_per_epoch_bias\n",
    "test_steps_per_epoch = test_generator.samples // batch_size // steps_per_epoch_bias\n",
    "\n",
    "print('training samples:', training_generator.samples)\n",
    "print('validation samples:', validation_generator.samples)\n",
    "\n",
    "print('batch_size:', batch_size)\n",
    "\n",
    "print('planned epochs:', planned_epochs)\n",
    "print('training steps per epoch:', training_steps_per_epoch)\n",
    "print('validation steps per epoch:', validation_steps_per_epoch)\n",
    "print('test steps per epoch:', test_steps_per_epoch)\n",
    "\n",
    "\n",
    "# model training time and we'll hold on to history for visualization\n",
    "history = model.fit(\n",
    "        training_generator,\n",
    "        steps_per_epoch=training_steps_per_epoch,\n",
    "        validation_data=validation_generator,\n",
    "        validation_steps=validation_steps_per_epoch,\n",
    "        epochs=planned_epochs,\n",
    "        verbose=1,\n",
    "        callbacks=[tensorboard_callback])\n",
    "\n",
    "# Evaluate the model on the test data using `evaluate`\n",
    "accuracy = model.evaluate(validation_generator, steps=validation_steps_per_epoch, verbose=1)\n",
    "print('Test accuracy on base model: ', accuracy)\n"
   ]
  },
  {
   "cell_type": "markdown",
   "metadata": {},
   "source": [
    "# Task 8 - Fine-tune the CNN model using appropriate techniques like hyperparameter tuning, cross-validation, etc\n",
    "\n",
    "## <b>References</b>\n",
    "vibhu. (Dec 21, 2022). Optimizers in Tensorflow. Available online at: https://www.geeksforgeeks.org/optimizers-in-tensorflow/ [accessed Aug 19, 2024]"
   ]
  },
  {
   "cell_type": "code",
   "execution_count": 12,
   "metadata": {},
   "outputs": [
    {
     "name": "stdout",
     "output_type": "stream",
     "text": [
      "quick feel method for hyperparameter tuning\n",
      "------------------------------------------------------\n",
      "session count: 0, dropout 1: 0.1, dropout 2: 0.3, density: 32, optimizer: adam\n",
      "Epoch 1/20\n",
      "\u001b[1m120/120\u001b[0m \u001b[32m━━━━━━━━━━━━━━━━━━━━\u001b[0m\u001b[37m\u001b[0m \u001b[1m6s\u001b[0m 42ms/step - accuracy: 0.1122 - loss: 2.3015 - val_accuracy: 0.1865 - val_loss: 2.2689\n",
      "Epoch 2/20\n",
      "\u001b[1m120/120\u001b[0m \u001b[32m━━━━━━━━━━━━━━━━━━━━\u001b[0m\u001b[37m\u001b[0m \u001b[1m5s\u001b[0m 39ms/step - accuracy: 0.1408 - loss: 2.2612 - val_accuracy: 0.2865 - val_loss: 1.9777\n",
      "Epoch 3/20\n",
      "\u001b[1m120/120\u001b[0m \u001b[32m━━━━━━━━━━━━━━━━━━━━\u001b[0m\u001b[37m\u001b[0m \u001b[1m5s\u001b[0m 40ms/step - accuracy: 0.2724 - loss: 2.0134 - val_accuracy: 0.4625 - val_loss: 1.6456\n",
      "Epoch 4/20\n",
      "\u001b[1m120/120\u001b[0m \u001b[32m━━━━━━━━━━━━━━━━━━━━\u001b[0m\u001b[37m\u001b[0m \u001b[1m5s\u001b[0m 40ms/step - accuracy: 0.3205 - loss: 1.8386 - val_accuracy: 0.4323 - val_loss: 1.6393\n",
      "Epoch 5/20\n",
      "\u001b[1m120/120\u001b[0m \u001b[32m━━━━━━━━━━━━━━━━━━━━\u001b[0m\u001b[37m\u001b[0m \u001b[1m5s\u001b[0m 40ms/step - accuracy: 0.3550 - loss: 1.7840 - val_accuracy: 0.5646 - val_loss: 1.3348\n",
      "Epoch 6/20\n",
      "\u001b[1m120/120\u001b[0m \u001b[32m━━━━━━━━━━━━━━━━━━━━\u001b[0m\u001b[37m\u001b[0m \u001b[1m5s\u001b[0m 42ms/step - accuracy: 0.3907 - loss: 1.6792 - val_accuracy: 0.5708 - val_loss: 1.3402\n",
      "Epoch 7/20\n",
      "\u001b[1m120/120\u001b[0m \u001b[32m━━━━━━━━━━━━━━━━━━━━\u001b[0m\u001b[37m\u001b[0m \u001b[1m5s\u001b[0m 42ms/step - accuracy: 0.4274 - loss: 1.5912 - val_accuracy: 0.6115 - val_loss: 1.2250\n",
      "Epoch 8/20\n",
      "\u001b[1m120/120\u001b[0m \u001b[32m━━━━━━━━━━━━━━━━━━━━\u001b[0m\u001b[37m\u001b[0m \u001b[1m5s\u001b[0m 44ms/step - accuracy: 0.4624 - loss: 1.4715 - val_accuracy: 0.6875 - val_loss: 0.9841\n",
      "Epoch 9/20\n",
      "\u001b[1m120/120\u001b[0m \u001b[32m━━━━━━━━━━━━━━━━━━━━\u001b[0m\u001b[37m\u001b[0m \u001b[1m5s\u001b[0m 43ms/step - accuracy: 0.5139 - loss: 1.3858 - val_accuracy: 0.7365 - val_loss: 0.9008\n",
      "Epoch 10/20\n",
      "\u001b[1m120/120\u001b[0m \u001b[32m━━━━━━━━━━━━━━━━━━━━\u001b[0m\u001b[37m\u001b[0m \u001b[1m5s\u001b[0m 43ms/step - accuracy: 0.5263 - loss: 1.3219 - val_accuracy: 0.6802 - val_loss: 0.9894\n",
      "Epoch 11/20\n",
      "\u001b[1m120/120\u001b[0m \u001b[32m━━━━━━━━━━━━━━━━━━━━\u001b[0m\u001b[37m\u001b[0m \u001b[1m5s\u001b[0m 43ms/step - accuracy: 0.5403 - loss: 1.2946 - val_accuracy: 0.7406 - val_loss: 0.8192\n",
      "Epoch 12/20\n",
      "\u001b[1m120/120\u001b[0m \u001b[32m━━━━━━━━━━━━━━━━━━━━\u001b[0m\u001b[37m\u001b[0m \u001b[1m5s\u001b[0m 43ms/step - accuracy: 0.5566 - loss: 1.2348 - val_accuracy: 0.7698 - val_loss: 0.7575\n",
      "Epoch 13/20\n",
      "\u001b[1m120/120\u001b[0m \u001b[32m━━━━━━━━━━━━━━━━━━━━\u001b[0m\u001b[37m\u001b[0m \u001b[1m5s\u001b[0m 43ms/step - accuracy: 0.5861 - loss: 1.1960 - val_accuracy: 0.7833 - val_loss: 0.6602\n",
      "Epoch 14/20\n",
      "\u001b[1m120/120\u001b[0m \u001b[32m━━━━━━━━━━━━━━━━━━━━\u001b[0m\u001b[37m\u001b[0m \u001b[1m5s\u001b[0m 43ms/step - accuracy: 0.5872 - loss: 1.1624 - val_accuracy: 0.8156 - val_loss: 0.6246\n",
      "Epoch 15/20\n",
      "\u001b[1m120/120\u001b[0m \u001b[32m━━━━━━━━━━━━━━━━━━━━\u001b[0m\u001b[37m\u001b[0m \u001b[1m5s\u001b[0m 43ms/step - accuracy: 0.6154 - loss: 1.1251 - val_accuracy: 0.7479 - val_loss: 0.7593\n",
      "Epoch 16/20\n",
      "\u001b[1m120/120\u001b[0m \u001b[32m━━━━━━━━━━━━━━━━━━━━\u001b[0m\u001b[37m\u001b[0m \u001b[1m5s\u001b[0m 43ms/step - accuracy: 0.5982 - loss: 1.0866 - val_accuracy: 0.7146 - val_loss: 0.8570\n",
      "Epoch 17/20\n",
      "\u001b[1m120/120\u001b[0m \u001b[32m━━━━━━━━━━━━━━━━━━━━\u001b[0m\u001b[37m\u001b[0m \u001b[1m5s\u001b[0m 43ms/step - accuracy: 0.6174 - loss: 1.0847 - val_accuracy: 0.8031 - val_loss: 0.6585\n",
      "Epoch 18/20\n",
      "\u001b[1m120/120\u001b[0m \u001b[32m━━━━━━━━━━━━━━━━━━━━\u001b[0m\u001b[37m\u001b[0m \u001b[1m5s\u001b[0m 43ms/step - accuracy: 0.6311 - loss: 1.0508 - val_accuracy: 0.8427 - val_loss: 0.5232\n",
      "Epoch 19/20\n",
      "\u001b[1m120/120\u001b[0m \u001b[32m━━━━━━━━━━━━━━━━━━━━\u001b[0m\u001b[37m\u001b[0m \u001b[1m5s\u001b[0m 43ms/step - accuracy: 0.6617 - loss: 0.9515 - val_accuracy: 0.8198 - val_loss: 0.5967\n",
      "Epoch 20/20\n",
      "\u001b[1m120/120\u001b[0m \u001b[32m━━━━━━━━━━━━━━━━━━━━\u001b[0m\u001b[37m\u001b[0m \u001b[1m5s\u001b[0m 43ms/step - accuracy: 0.6491 - loss: 1.0423 - val_accuracy: 0.8448 - val_loss: 0.5645\n",
      "\u001b[1m37/37\u001b[0m \u001b[32m━━━━━━━━━━━━━━━━━━━━\u001b[0m\u001b[37m\u001b[0m \u001b[1m1s\u001b[0m 19ms/step - accuracy: 0.8355 - loss: 0.5066\n",
      "DONE!\n",
      "------------------------------------------------------\n",
      "session count: 1, dropout 1: 0.15, dropout 2: 0.4, density: 64, optimizer: rmsprop\n",
      "Epoch 1/20\n",
      "\u001b[1m120/120\u001b[0m \u001b[32m━━━━━━━━━━━━━━━━━━━━\u001b[0m\u001b[37m\u001b[0m \u001b[1m7s\u001b[0m 49ms/step - accuracy: 0.1136 - loss: 2.2917 - val_accuracy: 0.1813 - val_loss: 2.2615\n",
      "Epoch 2/20\n",
      "\u001b[1m120/120\u001b[0m \u001b[32m━━━━━━━━━━━━━━━━━━━━\u001b[0m\u001b[37m\u001b[0m \u001b[1m6s\u001b[0m 48ms/step - accuracy: 0.2156 - loss: 2.1292 - val_accuracy: 0.3135 - val_loss: 1.8153\n",
      "Epoch 3/20\n",
      "\u001b[1m120/120\u001b[0m \u001b[32m━━━━━━━━━━━━━━━━━━━━\u001b[0m\u001b[37m\u001b[0m \u001b[1m6s\u001b[0m 48ms/step - accuracy: 0.2685 - loss: 1.9965 - val_accuracy: 0.4167 - val_loss: 1.6848\n",
      "Epoch 4/20\n",
      "\u001b[1m120/120\u001b[0m \u001b[32m━━━━━━━━━━━━━━━━━━━━\u001b[0m\u001b[37m\u001b[0m \u001b[1m6s\u001b[0m 48ms/step - accuracy: 0.3167 - loss: 1.8861 - val_accuracy: 0.5312 - val_loss: 1.5265\n",
      "Epoch 5/20\n",
      "\u001b[1m120/120\u001b[0m \u001b[32m━━━━━━━━━━━━━━━━━━━━\u001b[0m\u001b[37m\u001b[0m \u001b[1m6s\u001b[0m 47ms/step - accuracy: 0.3478 - loss: 1.8099 - val_accuracy: 0.5083 - val_loss: 1.4912\n",
      "Epoch 6/20\n",
      "\u001b[1m120/120\u001b[0m \u001b[32m━━━━━━━━━━━━━━━━━━━━\u001b[0m\u001b[37m\u001b[0m \u001b[1m6s\u001b[0m 48ms/step - accuracy: 0.3588 - loss: 1.7641 - val_accuracy: 0.5979 - val_loss: 1.3110\n",
      "Epoch 7/20\n",
      "\u001b[1m120/120\u001b[0m \u001b[32m━━━━━━━━━━━━━━━━━━━━\u001b[0m\u001b[37m\u001b[0m \u001b[1m6s\u001b[0m 47ms/step - accuracy: 0.4191 - loss: 1.6688 - val_accuracy: 0.5302 - val_loss: 1.3723\n",
      "Epoch 8/20\n",
      "\u001b[1m120/120\u001b[0m \u001b[32m━━━━━━━━━━━━━━━━━━━━\u001b[0m\u001b[37m\u001b[0m \u001b[1m6s\u001b[0m 47ms/step - accuracy: 0.4357 - loss: 1.5633 - val_accuracy: 0.6469 - val_loss: 1.2050\n",
      "Epoch 9/20\n",
      "\u001b[1m120/120\u001b[0m \u001b[32m━━━━━━━━━━━━━━━━━━━━\u001b[0m\u001b[37m\u001b[0m \u001b[1m6s\u001b[0m 49ms/step - accuracy: 0.4652 - loss: 1.5322 - val_accuracy: 0.5865 - val_loss: 1.2414\n",
      "Epoch 10/20\n",
      "\u001b[1m120/120\u001b[0m \u001b[32m━━━━━━━━━━━━━━━━━━━━\u001b[0m\u001b[37m\u001b[0m \u001b[1m6s\u001b[0m 48ms/step - accuracy: 0.4810 - loss: 1.4693 - val_accuracy: 0.7031 - val_loss: 0.9988\n",
      "Epoch 11/20\n",
      "\u001b[1m120/120\u001b[0m \u001b[32m━━━━━━━━━━━━━━━━━━━━\u001b[0m\u001b[37m\u001b[0m \u001b[1m6s\u001b[0m 48ms/step - accuracy: 0.5260 - loss: 1.3732 - val_accuracy: 0.5844 - val_loss: 1.3141\n",
      "Epoch 12/20\n",
      "\u001b[1m120/120\u001b[0m \u001b[32m━━━━━━━━━━━━━━━━━━━━\u001b[0m\u001b[37m\u001b[0m \u001b[1m6s\u001b[0m 48ms/step - accuracy: 0.5320 - loss: 1.3530 - val_accuracy: 0.6552 - val_loss: 1.0010\n",
      "Epoch 13/20\n",
      "\u001b[1m120/120\u001b[0m \u001b[32m━━━━━━━━━━━━━━━━━━━━\u001b[0m\u001b[37m\u001b[0m \u001b[1m6s\u001b[0m 47ms/step - accuracy: 0.5379 - loss: 1.3073 - val_accuracy: 0.6656 - val_loss: 0.9971\n",
      "Epoch 14/20\n",
      "\u001b[1m120/120\u001b[0m \u001b[32m━━━━━━━━━━━━━━━━━━━━\u001b[0m\u001b[37m\u001b[0m \u001b[1m6s\u001b[0m 48ms/step - accuracy: 0.5731 - loss: 1.2617 - val_accuracy: 0.6500 - val_loss: 1.0532\n",
      "Epoch 15/20\n",
      "\u001b[1m120/120\u001b[0m \u001b[32m━━━━━━━━━━━━━━━━━━━━\u001b[0m\u001b[37m\u001b[0m \u001b[1m6s\u001b[0m 48ms/step - accuracy: 0.5603 - loss: 1.2572 - val_accuracy: 0.7344 - val_loss: 0.8982\n",
      "Epoch 16/20\n",
      "\u001b[1m120/120\u001b[0m \u001b[32m━━━━━━━━━━━━━━━━━━━━\u001b[0m\u001b[37m\u001b[0m \u001b[1m6s\u001b[0m 48ms/step - accuracy: 0.5931 - loss: 1.1826 - val_accuracy: 0.7823 - val_loss: 0.7218\n",
      "Epoch 17/20\n",
      "\u001b[1m120/120\u001b[0m \u001b[32m━━━━━━━━━━━━━━━━━━━━\u001b[0m\u001b[37m\u001b[0m \u001b[1m6s\u001b[0m 48ms/step - accuracy: 0.5836 - loss: 1.2233 - val_accuracy: 0.7802 - val_loss: 0.7572\n",
      "Epoch 18/20\n",
      "\u001b[1m120/120\u001b[0m \u001b[32m━━━━━━━━━━━━━━━━━━━━\u001b[0m\u001b[37m\u001b[0m \u001b[1m6s\u001b[0m 48ms/step - accuracy: 0.6107 - loss: 1.1109 - val_accuracy: 0.8052 - val_loss: 0.6691\n",
      "Epoch 19/20\n",
      "\u001b[1m120/120\u001b[0m \u001b[32m━━━━━━━━━━━━━━━━━━━━\u001b[0m\u001b[37m\u001b[0m \u001b[1m6s\u001b[0m 47ms/step - accuracy: 0.6402 - loss: 1.0857 - val_accuracy: 0.7365 - val_loss: 0.8818\n",
      "Epoch 20/20\n",
      "\u001b[1m120/120\u001b[0m \u001b[32m━━━━━━━━━━━━━━━━━━━━\u001b[0m\u001b[37m\u001b[0m \u001b[1m6s\u001b[0m 47ms/step - accuracy: 0.6273 - loss: 1.0957 - val_accuracy: 0.8062 - val_loss: 0.6123\n",
      "\u001b[1m37/37\u001b[0m \u001b[32m━━━━━━━━━━━━━━━━━━━━\u001b[0m\u001b[37m\u001b[0m \u001b[1m1s\u001b[0m 20ms/step - accuracy: 0.8310 - loss: 0.5864\n",
      "DONE!\n",
      "------------------------------------------------------\n",
      "session count: 2, dropout 1: 0.2, dropout 2: 0.5, density: 128, optimizer: adamax\n",
      "Epoch 1/20\n",
      "\u001b[1m120/120\u001b[0m \u001b[32m━━━━━━━━━━━━━━━━━━━━\u001b[0m\u001b[37m\u001b[0m \u001b[1m9s\u001b[0m 68ms/step - accuracy: 0.1157 - loss: 2.2949 - val_accuracy: 0.2635 - val_loss: 2.1510\n",
      "Epoch 2/20\n",
      "\u001b[1m120/120\u001b[0m \u001b[32m━━━━━━━━━━━━━━━━━━━━\u001b[0m\u001b[37m\u001b[0m \u001b[1m8s\u001b[0m 67ms/step - accuracy: 0.2052 - loss: 2.1612 - val_accuracy: 0.2583 - val_loss: 2.0283\n",
      "Epoch 3/20\n",
      "\u001b[1m120/120\u001b[0m \u001b[32m━━━━━━━━━━━━━━━━━━━━\u001b[0m\u001b[37m\u001b[0m \u001b[1m8s\u001b[0m 66ms/step - accuracy: 0.2253 - loss: 2.0534 - val_accuracy: 0.3802 - val_loss: 1.8000\n",
      "Epoch 4/20\n",
      "\u001b[1m120/120\u001b[0m \u001b[32m━━━━━━━━━━━━━━━━━━━━\u001b[0m\u001b[37m\u001b[0m \u001b[1m8s\u001b[0m 66ms/step - accuracy: 0.2961 - loss: 1.9520 - val_accuracy: 0.3708 - val_loss: 1.8148\n",
      "Epoch 5/20\n",
      "\u001b[1m120/120\u001b[0m \u001b[32m━━━━━━━━━━━━━━━━━━━━\u001b[0m\u001b[37m\u001b[0m \u001b[1m8s\u001b[0m 68ms/step - accuracy: 0.3105 - loss: 1.9140 - val_accuracy: 0.4771 - val_loss: 1.6328\n",
      "Epoch 6/20\n",
      "\u001b[1m120/120\u001b[0m \u001b[32m━━━━━━━━━━━━━━━━━━━━\u001b[0m\u001b[37m\u001b[0m \u001b[1m8s\u001b[0m 68ms/step - accuracy: 0.3539 - loss: 1.8233 - val_accuracy: 0.4875 - val_loss: 1.5505\n",
      "Epoch 7/20\n",
      "\u001b[1m120/120\u001b[0m \u001b[32m━━━━━━━━━━━━━━━━━━━━\u001b[0m\u001b[37m\u001b[0m \u001b[1m8s\u001b[0m 67ms/step - accuracy: 0.3782 - loss: 1.7441 - val_accuracy: 0.5198 - val_loss: 1.5130\n",
      "Epoch 8/20\n",
      "\u001b[1m120/120\u001b[0m \u001b[32m━━━━━━━━━━━━━━━━━━━━\u001b[0m\u001b[37m\u001b[0m \u001b[1m8s\u001b[0m 67ms/step - accuracy: 0.3868 - loss: 1.7017 - val_accuracy: 0.5333 - val_loss: 1.4589\n",
      "Epoch 9/20\n",
      "\u001b[1m120/120\u001b[0m \u001b[32m━━━━━━━━━━━━━━━━━━━━\u001b[0m\u001b[37m\u001b[0m \u001b[1m8s\u001b[0m 70ms/step - accuracy: 0.3967 - loss: 1.6762 - val_accuracy: 0.5688 - val_loss: 1.3184\n",
      "Epoch 10/20\n",
      "\u001b[1m120/120\u001b[0m \u001b[32m━━━━━━━━━━━━━━━━━━━━\u001b[0m\u001b[37m\u001b[0m \u001b[1m8s\u001b[0m 69ms/step - accuracy: 0.4464 - loss: 1.5792 - val_accuracy: 0.6604 - val_loss: 1.1571\n",
      "Epoch 11/20\n",
      "\u001b[1m120/120\u001b[0m \u001b[32m━━━━━━━━━━━━━━━━━━━━\u001b[0m\u001b[37m\u001b[0m \u001b[1m8s\u001b[0m 70ms/step - accuracy: 0.4431 - loss: 1.5719 - val_accuracy: 0.7094 - val_loss: 1.0777\n",
      "Epoch 12/20\n",
      "\u001b[1m120/120\u001b[0m \u001b[32m━━━━━━━━━━━━━━━━━━━━\u001b[0m\u001b[37m\u001b[0m \u001b[1m9s\u001b[0m 71ms/step - accuracy: 0.4617 - loss: 1.5392 - val_accuracy: 0.6521 - val_loss: 1.0851\n",
      "Epoch 13/20\n",
      "\u001b[1m120/120\u001b[0m \u001b[32m━━━━━━━━━━━━━━━━━━━━\u001b[0m\u001b[37m\u001b[0m \u001b[1m8s\u001b[0m 68ms/step - accuracy: 0.4927 - loss: 1.4676 - val_accuracy: 0.6760 - val_loss: 1.0472\n",
      "Epoch 14/20\n",
      "\u001b[1m120/120\u001b[0m \u001b[32m━━━━━━━━━━━━━━━━━━━━\u001b[0m\u001b[37m\u001b[0m \u001b[1m9s\u001b[0m 73ms/step - accuracy: 0.5219 - loss: 1.3900 - val_accuracy: 0.6844 - val_loss: 1.0107\n",
      "Epoch 15/20\n",
      "\u001b[1m120/120\u001b[0m \u001b[32m━━━━━━━━━━━━━━━━━━━━\u001b[0m\u001b[37m\u001b[0m \u001b[1m9s\u001b[0m 71ms/step - accuracy: 0.4979 - loss: 1.4055 - val_accuracy: 0.7271 - val_loss: 0.9733\n",
      "Epoch 16/20\n",
      "\u001b[1m120/120\u001b[0m \u001b[32m━━━━━━━━━━━━━━━━━━━━\u001b[0m\u001b[37m\u001b[0m \u001b[1m9s\u001b[0m 73ms/step - accuracy: 0.5152 - loss: 1.3887 - val_accuracy: 0.7229 - val_loss: 0.9462\n",
      "Epoch 17/20\n",
      "\u001b[1m120/120\u001b[0m \u001b[32m━━━━━━━━━━━━━━━━━━━━\u001b[0m\u001b[37m\u001b[0m \u001b[1m9s\u001b[0m 71ms/step - accuracy: 0.5192 - loss: 1.3621 - val_accuracy: 0.7219 - val_loss: 0.9190\n",
      "Epoch 18/20\n",
      "\u001b[1m120/120\u001b[0m \u001b[32m━━━━━━━━━━━━━━━━━━━━\u001b[0m\u001b[37m\u001b[0m \u001b[1m9s\u001b[0m 71ms/step - accuracy: 0.5667 - loss: 1.2670 - val_accuracy: 0.7417 - val_loss: 0.8726\n",
      "Epoch 19/20\n",
      "\u001b[1m120/120\u001b[0m \u001b[32m━━━━━━━━━━━━━━━━━━━━\u001b[0m\u001b[37m\u001b[0m \u001b[1m9s\u001b[0m 71ms/step - accuracy: 0.5604 - loss: 1.2820 - val_accuracy: 0.7479 - val_loss: 0.8184\n",
      "Epoch 20/20\n",
      "\u001b[1m120/120\u001b[0m \u001b[32m━━━━━━━━━━━━━━━━━━━━\u001b[0m\u001b[37m\u001b[0m \u001b[1m8s\u001b[0m 69ms/step - accuracy: 0.5783 - loss: 1.2347 - val_accuracy: 0.7375 - val_loss: 0.8444\n",
      "\u001b[1m37/37\u001b[0m \u001b[32m━━━━━━━━━━━━━━━━━━━━\u001b[0m\u001b[37m\u001b[0m \u001b[1m1s\u001b[0m 23ms/step - accuracy: 0.7559 - loss: 0.8242\n",
      "DONE!\n",
      "------------------------------------------------------\n",
      "session count: 3, dropout 1: 0.25, dropout 2: 0.5, density: 256, optimizer: adam\n",
      "Epoch 1/20\n",
      "\u001b[1m120/120\u001b[0m \u001b[32m━━━━━━━━━━━━━━━━━━━━\u001b[0m\u001b[37m\u001b[0m \u001b[1m18s\u001b[0m 136ms/step - accuracy: 0.1323 - loss: 2.2777 - val_accuracy: 0.2167 - val_loss: 2.0712\n",
      "Epoch 2/20\n",
      "\u001b[1m120/120\u001b[0m \u001b[32m━━━━━━━━━━━━━━━━━━━━\u001b[0m\u001b[37m\u001b[0m \u001b[1m16s\u001b[0m 133ms/step - accuracy: 0.2381 - loss: 2.0367 - val_accuracy: 0.3500 - val_loss: 1.8554\n",
      "Epoch 3/20\n",
      "\u001b[1m120/120\u001b[0m \u001b[32m━━━━━━━━━━━━━━━━━━━━\u001b[0m\u001b[37m\u001b[0m \u001b[1m16s\u001b[0m 132ms/step - accuracy: 0.2894 - loss: 1.8722 - val_accuracy: 0.5135 - val_loss: 1.5067\n",
      "Epoch 4/20\n",
      "\u001b[1m120/120\u001b[0m \u001b[32m━━━━━━━━━━━━━━━━━━━━\u001b[0m\u001b[37m\u001b[0m \u001b[1m16s\u001b[0m 131ms/step - accuracy: 0.3774 - loss: 1.7347 - val_accuracy: 0.4677 - val_loss: 1.5774\n",
      "Epoch 5/20\n",
      "\u001b[1m120/120\u001b[0m \u001b[32m━━━━━━━━━━━━━━━━━━━━\u001b[0m\u001b[37m\u001b[0m \u001b[1m16s\u001b[0m 131ms/step - accuracy: 0.4460 - loss: 1.5778 - val_accuracy: 0.6490 - val_loss: 1.0811\n",
      "Epoch 6/20\n",
      "\u001b[1m120/120\u001b[0m \u001b[32m━━━━━━━━━━━━━━━━━━━━\u001b[0m\u001b[37m\u001b[0m \u001b[1m16s\u001b[0m 131ms/step - accuracy: 0.4843 - loss: 1.4531 - val_accuracy: 0.6115 - val_loss: 1.0966\n",
      "Epoch 7/20\n",
      "\u001b[1m120/120\u001b[0m \u001b[32m━━━━━━━━━━━━━━━━━━━━\u001b[0m\u001b[37m\u001b[0m \u001b[1m16s\u001b[0m 132ms/step - accuracy: 0.5553 - loss: 1.2609 - val_accuracy: 0.5750 - val_loss: 1.2765\n",
      "Epoch 8/20\n",
      "\u001b[1m120/120\u001b[0m \u001b[32m━━━━━━━━━━━━━━━━━━━━\u001b[0m\u001b[37m\u001b[0m \u001b[1m16s\u001b[0m 133ms/step - accuracy: 0.5617 - loss: 1.2530 - val_accuracy: 0.7115 - val_loss: 0.8810\n",
      "Epoch 9/20\n",
      "\u001b[1m120/120\u001b[0m \u001b[32m━━━━━━━━━━━━━━━━━━━━\u001b[0m\u001b[37m\u001b[0m \u001b[1m16s\u001b[0m 131ms/step - accuracy: 0.5991 - loss: 1.1343 - val_accuracy: 0.7208 - val_loss: 0.8348\n",
      "Epoch 10/20\n",
      "\u001b[1m120/120\u001b[0m \u001b[32m━━━━━━━━━━━━━━━━━━━━\u001b[0m\u001b[37m\u001b[0m \u001b[1m16s\u001b[0m 130ms/step - accuracy: 0.6098 - loss: 1.1057 - val_accuracy: 0.7792 - val_loss: 0.7196\n",
      "Epoch 11/20\n",
      "\u001b[1m120/120\u001b[0m \u001b[32m━━━━━━━━━━━━━━━━━━━━\u001b[0m\u001b[37m\u001b[0m \u001b[1m16s\u001b[0m 131ms/step - accuracy: 0.6289 - loss: 1.0634 - val_accuracy: 0.8177 - val_loss: 0.5907\n",
      "Epoch 12/20\n",
      "\u001b[1m120/120\u001b[0m \u001b[32m━━━━━━━━━━━━━━━━━━━━\u001b[0m\u001b[37m\u001b[0m \u001b[1m16s\u001b[0m 130ms/step - accuracy: 0.6564 - loss: 0.9952 - val_accuracy: 0.8365 - val_loss: 0.5331\n",
      "Epoch 13/20\n",
      "\u001b[1m120/120\u001b[0m \u001b[32m━━━━━━━━━━━━━━━━━━━━\u001b[0m\u001b[37m\u001b[0m \u001b[1m16s\u001b[0m 133ms/step - accuracy: 0.6740 - loss: 0.9524 - val_accuracy: 0.8500 - val_loss: 0.5296\n",
      "Epoch 14/20\n",
      "\u001b[1m120/120\u001b[0m \u001b[32m━━━━━━━━━━━━━━━━━━━━\u001b[0m\u001b[37m\u001b[0m \u001b[1m16s\u001b[0m 131ms/step - accuracy: 0.6950 - loss: 0.9151 - val_accuracy: 0.8427 - val_loss: 0.4995\n",
      "Epoch 15/20\n",
      "\u001b[1m120/120\u001b[0m \u001b[32m━━━━━━━━━━━━━━━━━━━━\u001b[0m\u001b[37m\u001b[0m \u001b[1m16s\u001b[0m 131ms/step - accuracy: 0.6978 - loss: 0.9130 - val_accuracy: 0.8260 - val_loss: 0.5644\n",
      "Epoch 16/20\n",
      "\u001b[1m120/120\u001b[0m \u001b[32m━━━━━━━━━━━━━━━━━━━━\u001b[0m\u001b[37m\u001b[0m \u001b[1m16s\u001b[0m 132ms/step - accuracy: 0.7145 - loss: 0.8713 - val_accuracy: 0.8646 - val_loss: 0.4413\n",
      "Epoch 17/20\n",
      "\u001b[1m120/120\u001b[0m \u001b[32m━━━━━━━━━━━━━━━━━━━━\u001b[0m\u001b[37m\u001b[0m \u001b[1m16s\u001b[0m 130ms/step - accuracy: 0.7147 - loss: 0.8439 - val_accuracy: 0.8448 - val_loss: 0.4465\n",
      "Epoch 18/20\n",
      "\u001b[1m120/120\u001b[0m \u001b[32m━━━━━━━━━━━━━━━━━━━━\u001b[0m\u001b[37m\u001b[0m \u001b[1m16s\u001b[0m 130ms/step - accuracy: 0.7184 - loss: 0.8346 - val_accuracy: 0.8687 - val_loss: 0.4295\n",
      "Epoch 19/20\n",
      "\u001b[1m120/120\u001b[0m \u001b[32m━━━━━━━━━━━━━━━━━━━━\u001b[0m\u001b[37m\u001b[0m \u001b[1m16s\u001b[0m 131ms/step - accuracy: 0.7375 - loss: 0.7840 - val_accuracy: 0.8896 - val_loss: 0.3289\n",
      "Epoch 20/20\n",
      "\u001b[1m120/120\u001b[0m \u001b[32m━━━━━━━━━━━━━━━━━━━━\u001b[0m\u001b[37m\u001b[0m \u001b[1m16s\u001b[0m 131ms/step - accuracy: 0.7426 - loss: 0.7396 - val_accuracy: 0.8594 - val_loss: 0.5067\n",
      "\u001b[1m37/37\u001b[0m \u001b[32m━━━━━━━━━━━━━━━━━━━━\u001b[0m\u001b[37m\u001b[0m \u001b[1m1s\u001b[0m 29ms/step - accuracy: 0.8373 - loss: 0.5441\n",
      "DONE!\n"
     ]
    }
   ],
   "source": [
    "# This is a fairly manual, yet procedural iteration through the hyperparameters to find the best model\n",
    "\n",
    "overall_accuracy = []\n",
    "# --------------------------------------------------------------------------\n",
    "# this function will track the accuracy of the model and the hyperparameters used to achieve it\n",
    "def accuracy_tracker(iteration_num, accuracy, dropout_1, dropout_2, density, optimizer):\n",
    "    overall_accuracy.append(\n",
    "        [accuracy[1], accuracy[0], iteration_num, dropout_1, dropout_2, density, optimizer]\n",
    "    )\n",
    "\n",
    "\n",
    "# hyperparameter tuning - last variation is the base model which reached 87% accuracy on test / 96% on validation\n",
    "dropout_1_variations = [0.1, 0.15, 0.2, 0.25]\n",
    "dropout_2_variations = [0.3, 0.4, 0.5, 0.5]\n",
    "density_variations = [32, 64, 128, 256]\n",
    "optimizer_variations = ['adam', 'rmsprop', 'adamax', 'adam']\n",
    "iteration_sessions = 0\n",
    "\n",
    "if long_hyperp_training:\n",
    "    # loop through the variations and train the model - permutation approach of the hyperparameters\n",
    "    print('extreme training method for hyperparameter tuning')\n",
    "    print(f'session count: {iteration_sessions}, ')\n",
    "    for dropout_1 in dropout_1_variations:\n",
    "        for dropout_2 in dropout_2_variations:\n",
    "            for density in density_variations:\n",
    "                for optimizer in optimizer_variations:\n",
    "                    model = create_model(dropout=dropout_1, dropout_2=dropout_2, density=density, optimizer=optimizer)\n",
    "                    print('------------------------------------------------------')\n",
    "                    print(f'session count: {iteration_sessions}, dropout 1: {dropout_1}, dropout 2: {dropout_2}, density: {density}, optimizer: {optimizer}')\n",
    "                    history = model.fit(\n",
    "                        training_generator,\n",
    "                        steps_per_epoch=training_steps_per_epoch,\n",
    "                        validation_data=validation_generator,\n",
    "                        validation_steps=validation_steps_per_epoch,\n",
    "                        epochs=planned_epochs,\n",
    "                        verbose=1,\n",
    "                        callbacks=[tensorboard_callback])\n",
    "                    iteration_sessions += 1\n",
    "                    accuracy = model.evaluate(test_generator, steps=test_steps_per_epoch, verbose=1)\n",
    "                    accuracy_tracker(iteration_sessions, accuracy, dropout_1, dropout_2, density, optimizer)\n",
    "else:\n",
    "    # iterate once through variations to get a feel for the best model\n",
    "    print('quick feel method for hyperparameter tuning')\n",
    "    for index, dropout_1 in enumerate(dropout_1_variations):\n",
    "        model = create_model(dropout=dropout_1_variations[index], dropout_2=dropout_2_variations[index], density=density_variations[index], optimizer=optimizer_variations[index])\n",
    "        print('------------------------------------------------------')\n",
    "        print(f'session count: {iteration_sessions}, dropout 1: {dropout_1_variations[index]}, dropout 2: {dropout_2_variations[index]}, density: {density_variations[index]}, optimizer: {optimizer_variations[index]}')\n",
    "        history = model.fit(\n",
    "            training_generator,\n",
    "            steps_per_epoch=training_steps_per_epoch,\n",
    "            validation_data=validation_generator,\n",
    "            validation_steps=validation_steps_per_epoch,\n",
    "            epochs=planned_epochs,\n",
    "            verbose=1,\n",
    "            callbacks=[tensorboard_callback])\n",
    "        iteration_sessions += 1\n",
    "        accuracy = model.evaluate(test_generator, steps=test_steps_per_epoch, verbose=1)\n",
    "        accuracy_tracker(iteration_sessions, accuracy, dropout_1_variations[index], dropout_2_variations[index], density_variations[index], optimizer=optimizer_variations[index])\n",
    "\n",
    "        print('DONE!')\n"
   ]
  },
  {
   "cell_type": "code",
   "execution_count": 13,
   "metadata": {},
   "outputs": [
    {
     "name": "stdout",
     "output_type": "stream",
     "text": [
      "Top models:\n",
      "Accuracy: 0.849662 | Loss: 0.492943 - Iteration: 4 - Dropout 1: 0.25 - Dropout 2: 0.5 - Density: 256 - Optimizer: adam\n",
      "Accuracy: 0.823480 | Loss: 0.551041 - Iteration: 1 - Dropout 1: 0.1 - Dropout 2: 0.3 - Density: 32 - Optimizer: adam\n",
      "Accuracy: 0.822635 | Loss: 0.591209 - Iteration: 2 - Dropout 1: 0.15 - Dropout 2: 0.4 - Density: 64 - Optimizer: rmsprop\n",
      "Accuracy: 0.764358 | Loss: 0.815234 - Iteration: 3 - Dropout 1: 0.2 - Dropout 2: 0.5 - Density: 128 - Optimizer: adamax\n"
     ]
    }
   ],
   "source": [
    "# now find the optimal hyperparameters by looking through the accuracy list\n",
    "# sort the accuracy list and print the top 5\n",
    "overall_accuracy.sort(reverse=True)\n",
    "print('Top models:')\n",
    "for i in range(4):\n",
    "    print(f'Accuracy: {overall_accuracy[i][0]:2f} | Loss: {overall_accuracy[i][1]:2f} - Iteration: {overall_accuracy[i][2]} - Dropout 1: {overall_accuracy[i][3]} - Dropout 2: {overall_accuracy[i][4]} - Density: {overall_accuracy[i][5]} - Optimizer: {overall_accuracy[i][6]}')\n"
   ]
  },
  {
   "cell_type": "markdown",
   "metadata": {},
   "source": [
    "# Task 9 - Visualize the dataset and the CNN model's results where applicable with feature maps, learning curves, etc\n",
    "\n",
    "## <b>References</b>\n",
    "TensorFlow. (Oct 25, 2023). Get started with TensorBoard | TensorFlow. Available online at: https://www.tensorflow.org/tensorboard/get_started. [Accessed Aug 20, 2024] "
   ]
  },
  {
   "cell_type": "code",
   "execution_count": 14,
   "metadata": {},
   "outputs": [
    {
     "name": "stdout",
     "output_type": "stream",
     "text": [
      "Epoch 1/20\n",
      "\u001b[1m120/120\u001b[0m \u001b[32m━━━━━━━━━━━━━━━━━━━━\u001b[0m\u001b[37m\u001b[0m \u001b[1m16s\u001b[0m 123ms/step - accuracy: 0.1505 - loss: 2.2683 - val_accuracy: 0.3021 - val_loss: 1.8853\n",
      "Epoch 2/20\n",
      "\u001b[1m120/120\u001b[0m \u001b[32m━━━━━━━━━━━━━━━━━━━━\u001b[0m\u001b[37m\u001b[0m \u001b[1m15s\u001b[0m 123ms/step - accuracy: 0.2621 - loss: 1.9627 - val_accuracy: 0.5771 - val_loss: 1.3110\n",
      "Epoch 3/20\n",
      "\u001b[1m120/120\u001b[0m \u001b[32m━━━━━━━━━━━━━━━━━━━━\u001b[0m\u001b[37m\u001b[0m \u001b[1m16s\u001b[0m 130ms/step - accuracy: 0.4070 - loss: 1.6883 - val_accuracy: 0.6198 - val_loss: 1.2007\n",
      "Epoch 4/20\n",
      "\u001b[1m120/120\u001b[0m \u001b[32m━━━━━━━━━━━━━━━━━━━━\u001b[0m\u001b[37m\u001b[0m \u001b[1m16s\u001b[0m 130ms/step - accuracy: 0.4909 - loss: 1.4246 - val_accuracy: 0.6833 - val_loss: 0.9388\n",
      "Epoch 5/20\n",
      "\u001b[1m120/120\u001b[0m \u001b[32m━━━━━━━━━━━━━━━━━━━━\u001b[0m\u001b[37m\u001b[0m \u001b[1m16s\u001b[0m 132ms/step - accuracy: 0.5629 - loss: 1.2471 - val_accuracy: 0.7312 - val_loss: 0.8496\n",
      "Epoch 6/20\n",
      "\u001b[1m120/120\u001b[0m \u001b[32m━━━━━━━━━━━━━━━━━━━━\u001b[0m\u001b[37m\u001b[0m \u001b[1m16s\u001b[0m 131ms/step - accuracy: 0.5936 - loss: 1.2015 - val_accuracy: 0.7333 - val_loss: 0.7962\n",
      "Epoch 7/20\n",
      "\u001b[1m120/120\u001b[0m \u001b[32m━━━━━━━━━━━━━━━━━━━━\u001b[0m\u001b[37m\u001b[0m \u001b[1m16s\u001b[0m 131ms/step - accuracy: 0.6342 - loss: 1.0445 - val_accuracy: 0.7740 - val_loss: 0.6884\n",
      "Epoch 8/20\n",
      "\u001b[1m120/120\u001b[0m \u001b[32m━━━━━━━━━━━━━━━━━━━━\u001b[0m\u001b[37m\u001b[0m \u001b[1m16s\u001b[0m 132ms/step - accuracy: 0.6393 - loss: 1.0519 - val_accuracy: 0.7698 - val_loss: 0.7553\n",
      "Epoch 9/20\n",
      "\u001b[1m120/120\u001b[0m \u001b[32m━━━━━━━━━━━━━━━━━━━━\u001b[0m\u001b[37m\u001b[0m \u001b[1m16s\u001b[0m 134ms/step - accuracy: 0.6651 - loss: 0.9652 - val_accuracy: 0.8031 - val_loss: 0.6180\n",
      "Epoch 10/20\n",
      "\u001b[1m120/120\u001b[0m \u001b[32m━━━━━━━━━━━━━━━━━━━━\u001b[0m\u001b[37m\u001b[0m \u001b[1m16s\u001b[0m 132ms/step - accuracy: 0.7042 - loss: 0.8925 - val_accuracy: 0.8458 - val_loss: 0.4880\n",
      "Epoch 11/20\n",
      "\u001b[1m120/120\u001b[0m \u001b[32m━━━━━━━━━━━━━━━━━━━━\u001b[0m\u001b[37m\u001b[0m \u001b[1m16s\u001b[0m 132ms/step - accuracy: 0.7049 - loss: 0.8743 - val_accuracy: 0.8583 - val_loss: 0.4489\n",
      "Epoch 12/20\n",
      "\u001b[1m120/120\u001b[0m \u001b[32m━━━━━━━━━━━━━━━━━━━━\u001b[0m\u001b[37m\u001b[0m \u001b[1m16s\u001b[0m 132ms/step - accuracy: 0.7095 - loss: 0.8513 - val_accuracy: 0.7948 - val_loss: 0.6328\n",
      "Epoch 13/20\n",
      "\u001b[1m120/120\u001b[0m \u001b[32m━━━━━━━━━━━━━━━━━━━━\u001b[0m\u001b[37m\u001b[0m \u001b[1m16s\u001b[0m 132ms/step - accuracy: 0.7331 - loss: 0.8019 - val_accuracy: 0.8510 - val_loss: 0.4541\n",
      "Epoch 14/20\n",
      "\u001b[1m120/120\u001b[0m \u001b[32m━━━━━━━━━━━━━━━━━━━━\u001b[0m\u001b[37m\u001b[0m \u001b[1m16s\u001b[0m 132ms/step - accuracy: 0.7399 - loss: 0.8176 - val_accuracy: 0.8573 - val_loss: 0.4725\n",
      "Epoch 15/20\n",
      "\u001b[1m120/120\u001b[0m \u001b[32m━━━━━━━━━━━━━━━━━━━━\u001b[0m\u001b[37m\u001b[0m \u001b[1m16s\u001b[0m 133ms/step - accuracy: 0.7495 - loss: 0.7482 - val_accuracy: 0.8760 - val_loss: 0.3981\n",
      "Epoch 16/20\n",
      "\u001b[1m120/120\u001b[0m \u001b[32m━━━━━━━━━━━━━━━━━━━━\u001b[0m\u001b[37m\u001b[0m \u001b[1m16s\u001b[0m 133ms/step - accuracy: 0.7595 - loss: 0.7239 - val_accuracy: 0.8510 - val_loss: 0.5076\n",
      "Epoch 17/20\n",
      "\u001b[1m120/120\u001b[0m \u001b[32m━━━━━━━━━━━━━━━━━━━━\u001b[0m\u001b[37m\u001b[0m \u001b[1m16s\u001b[0m 136ms/step - accuracy: 0.7832 - loss: 0.6608 - val_accuracy: 0.8938 - val_loss: 0.3927\n",
      "Epoch 18/20\n",
      "\u001b[1m120/120\u001b[0m \u001b[32m━━━━━━━━━━━━━━━━━━━━\u001b[0m\u001b[37m\u001b[0m \u001b[1m16s\u001b[0m 135ms/step - accuracy: 0.7690 - loss: 0.6983 - val_accuracy: 0.8948 - val_loss: 0.3628\n",
      "Epoch 19/20\n",
      "\u001b[1m120/120\u001b[0m \u001b[32m━━━━━━━━━━━━━━━━━━━━\u001b[0m\u001b[37m\u001b[0m \u001b[1m16s\u001b[0m 131ms/step - accuracy: 0.7713 - loss: 0.6741 - val_accuracy: 0.8833 - val_loss: 0.3722\n",
      "Epoch 20/20\n",
      "\u001b[1m120/120\u001b[0m \u001b[32m━━━━━━━━━━━━━━━━━━━━\u001b[0m\u001b[37m\u001b[0m \u001b[1m16s\u001b[0m 132ms/step - accuracy: 0.7845 - loss: 0.6645 - val_accuracy: 0.8979 - val_loss: 0.3631\n"
     ]
    },
    {
     "data": {
      "image/png": "[encoded data removed]",
      "text/plain": [
       "<Figure size 640x480 with 1 Axes>"
      ]
     },
     "metadata": {},
     "output_type": "display_data"
    }
   ],
   "source": [
    "# NOTE: TensorBoard epoch data can be viewed by running the following command in the terminal: tensorboard --logdir=logs\n",
    "# where the logs directory is written at dataset_root_dir + '\\\\logs'\n",
    "# a browser window will open with the TensorBoard data to show how training is proceeding but final model results are also available below\n",
    "\n",
    "# REFIT & SAVE THE FINAL MODEL\n",
    "# refit the model with the best possible hyperparameters as determined by the overall_accuracy list\n",
    "model = create_model(dropout=overall_accuracy[0][3], dropout_2=overall_accuracy[0][4], density=overall_accuracy[0][5], optimizer=overall_accuracy[0][6])\n",
    "history = model.fit(\n",
    "    training_generator,\n",
    "    steps_per_epoch=training_steps_per_epoch,\n",
    "    validation_data=validation_generator,\n",
    "    validation_steps=validation_steps_per_epoch,\n",
    "    epochs=planned_epochs,\n",
    "    verbose=1,\n",
    "    callbacks=[tensorboard_callback])\n",
    "\n",
    "# --------------------------------------------------------------------------\n",
    "# this function will plot the training and validation accuracy\n",
    "def plot_history(history):\n",
    "    plt.plot(history.history['accuracy'], label='accuracy')\n",
    "    plt.plot(history.history['val_accuracy'], label = 'validation')\n",
    "    plt.xlabel('Epoch')\n",
    "    plt.ylabel('Accuracy')\n",
    "    plt.ylim([0, 1])\n",
    "    plt.legend(loc='lower right')\n",
    "    plt.show()\n",
    "\n",
    "# look at our validation accuracy and loss\n",
    "plot_history(history)\n",
    "\n",
    "# we're going to save this beautiful model for later use\n",
    "model.save(dataset_root_dir + '\\\\models\\\\mnist_model.keras')"
   ]
  },
  {
   "cell_type": "code",
   "execution_count": null,
   "metadata": {},
   "outputs": [],
   "source": [
    "# NOTE: unfortunately a bug in the current version of TensorFlow/Keras prevents us from using the feature map visualization code below\n",
    "# Despite the fact the the model was fitted with eager execution it still reports that the sequence has never been called. \n",
    "# We even tried doing another fit() and predict() right before the feature_map_model creation but it still says sequence has never been called.\n",
    "# https://github.com/serengil/deepface/issues/1085\n",
    "\n",
    "from keras._tf_keras.keras.models import Model\n",
    "\n",
    "# load the trained model\n",
    "model_kf = tf.keras.models.load_model(dataset_root_dir + '\\\\models\\\\mnist_model.keras')\n",
    "\n",
    "# load the layers from model\n",
    "layers = [layer.output for layer in model_kf.layers] \n",
    "\n",
    "# setup a feature map model for my layers\n",
    "feature_map_model = Model(inputs=model_kf.input, outputs=layers)\n",
    "\n",
    "# Prepare an input image\n",
    "img_path = dataset_root_dir + '\\\\triple_mnist\\\\test\\\\065\\\\87_065.png'\n",
    "feature_maps = feature_map_model.predict(img_path)\n",
    "\n",
    "# We'll just visualize the feature map of the first layer\n",
    "first_layer_feature_maps = feature_maps[0]\n",
    "\n",
    "# Determine the number of feature maps\n",
    "num_feature_maps = first_layer_feature_maps.shape[-1]\n",
    "\n",
    "# Set up the figure size\n",
    "plt.figure(figsize=(20,20))\n",
    "\n",
    "# Plot each feature map\n",
    "for i in range(num_feature_maps):\n",
    "    plt.subplot(8, 8, i+1) # Adjust the grid size according needs\n",
    "    plt.imshow(first_layer_feature_maps[0, :, :, i], cmap='viridis')\n",
    "    plt.axis('off')\n",
    "\n",
    "# Display the feature maps\n",
    "plt.show()"
   ]
  },
  {
   "cell_type": "markdown",
   "metadata": {},
   "source": [
    "# Task 10 - Report the final performance of the CNN model using appropriate performance metrics like accuracy, F1-score, etc"
   ]
  },
  {
   "cell_type": "code",
   "execution_count": 17,
   "metadata": {},
   "outputs": [
    {
     "name": "stdout",
     "output_type": "stream",
     "text": [
      "\u001b[1m1875/1875\u001b[0m \u001b[32m━━━━━━━━━━━━━━━━━━━━\u001b[0m\u001b[37m\u001b[0m \u001b[1m46s\u001b[0m 24ms/step\n",
      "              precision    recall  f1-score   support\n",
      "\n",
      "           0       0.10      0.11      0.11      6300\n",
      "           1       0.10      0.10      0.10      5800\n",
      "           2       0.09      0.09      0.09      4900\n",
      "           3       0.10      0.09      0.10      5800\n",
      "           4       0.11      0.14      0.13      6600\n",
      "           5       0.11      0.10      0.10      6700\n",
      "           6       0.12      0.12      0.12      6500\n",
      "           7       0.08      0.10      0.09      5000\n",
      "           8       0.11      0.08      0.09      6700\n",
      "           9       0.09      0.09      0.09      5700\n",
      "\n",
      "    accuracy                           0.10     60000\n",
      "   macro avg       0.10      0.10      0.10     60000\n",
      "weighted avg       0.10      0.10      0.10     60000\n",
      "\n"
     ]
    }
   ],
   "source": [
    "from sklearn.metrics import classification_report\n",
    "\n",
    "# let's setup our true labels and predicted labels\n",
    "true_labels = test_generator.labels\n",
    "predicted = model.predict(test_generator, batch_size=batch_size, verbose=1)\n",
    "predicted_labels = np.argmax(predicted, axis=1)\n",
    "\n",
    "# Calculate the F1 score\n",
    "f1_score = classification_report(true_labels, predicted_labels)\n",
    "\n",
    "# Print the F1 score\n",
    "print(f1_score)"
   ]
  },
  {
   "cell_type": "markdown",
   "metadata": {},
   "source": [
    "# Task 11 -Decide on the best model for classification and CNN architecture for digital recognition"
   ]
  },
  {
   "cell_type": "code",
   "execution_count": 22,
   "metadata": {},
   "outputs": [
    {
     "name": "stdout",
     "output_type": "stream",
     "text": [
      "Our final best model was a TensorFlow model with the following hyperparameters:\n",
      "Accuracy: 0.849662 | Loss: 0.492943 - Dropout 1: 0.25 - Dropout 2: 0.5 - Density: 256 - Optimizer: adam\n",
      "------------------------------------------------------\n"
     ]
    },
    {
     "data": {
      "text/html": [
       "<pre style=\"white-space:pre;overflow-x:auto;line-height:normal;font-family:Menlo,'DejaVu Sans Mono',consolas,'Courier New',monospace\"><span style=\"font-weight: bold\">Model: \"sequential_5\"</span>\n",
       "</pre>\n"
      ],
      "text/plain": [
       "\u001b[1mModel: \"sequential_5\"\u001b[0m\n"
      ]
     },
     "metadata": {},
     "output_type": "display_data"
    },
    {
     "data": {
      "text/html": [
       "<pre style=\"white-space:pre;overflow-x:auto;line-height:normal;font-family:Menlo,'DejaVu Sans Mono',consolas,'Courier New',monospace\">┏━━━━━━━━━━━━━━━━━━━━━━━━━━━━━━━━━┳━━━━━━━━━━━━━━━━━━━━━━━━┳━━━━━━━━━━━━━━━┓\n",
       "┃<span style=\"font-weight: bold\"> Layer (type)                    </span>┃<span style=\"font-weight: bold\"> Output Shape           </span>┃<span style=\"font-weight: bold\">       Param # </span>┃\n",
       "┡━━━━━━━━━━━━━━━━━━━━━━━━━━━━━━━━━╇━━━━━━━━━━━━━━━━━━━━━━━━╇━━━━━━━━━━━━━━━┩\n",
       "│ conv2d_10 (<span style=\"color: #0087ff; text-decoration-color: #0087ff\">Conv2D</span>)              │ (<span style=\"color: #00d7ff; text-decoration-color: #00d7ff\">None</span>, <span style=\"color: #00af00; text-decoration-color: #00af00\">82</span>, <span style=\"color: #00af00; text-decoration-color: #00af00\">82</span>, <span style=\"color: #00af00; text-decoration-color: #00af00\">32</span>)     │           <span style=\"color: #00af00; text-decoration-color: #00af00\">320</span> │\n",
       "├─────────────────────────────────┼────────────────────────┼───────────────┤\n",
       "│ max_pooling2d_10 (<span style=\"color: #0087ff; text-decoration-color: #0087ff\">MaxPooling2D</span>) │ (<span style=\"color: #00d7ff; text-decoration-color: #00d7ff\">None</span>, <span style=\"color: #00af00; text-decoration-color: #00af00\">41</span>, <span style=\"color: #00af00; text-decoration-color: #00af00\">41</span>, <span style=\"color: #00af00; text-decoration-color: #00af00\">32</span>)     │             <span style=\"color: #00af00; text-decoration-color: #00af00\">0</span> │\n",
       "├─────────────────────────────────┼────────────────────────┼───────────────┤\n",
       "│ conv2d_11 (<span style=\"color: #0087ff; text-decoration-color: #0087ff\">Conv2D</span>)              │ (<span style=\"color: #00d7ff; text-decoration-color: #00d7ff\">None</span>, <span style=\"color: #00af00; text-decoration-color: #00af00\">39</span>, <span style=\"color: #00af00; text-decoration-color: #00af00\">39</span>, <span style=\"color: #00af00; text-decoration-color: #00af00\">64</span>)     │        <span style=\"color: #00af00; text-decoration-color: #00af00\">18,496</span> │\n",
       "├─────────────────────────────────┼────────────────────────┼───────────────┤\n",
       "│ max_pooling2d_11 (<span style=\"color: #0087ff; text-decoration-color: #0087ff\">MaxPooling2D</span>) │ (<span style=\"color: #00d7ff; text-decoration-color: #00d7ff\">None</span>, <span style=\"color: #00af00; text-decoration-color: #00af00\">19</span>, <span style=\"color: #00af00; text-decoration-color: #00af00\">19</span>, <span style=\"color: #00af00; text-decoration-color: #00af00\">64</span>)     │             <span style=\"color: #00af00; text-decoration-color: #00af00\">0</span> │\n",
       "├─────────────────────────────────┼────────────────────────┼───────────────┤\n",
       "│ dense_15 (<span style=\"color: #0087ff; text-decoration-color: #0087ff\">Dense</span>)                │ (<span style=\"color: #00d7ff; text-decoration-color: #00d7ff\">None</span>, <span style=\"color: #00af00; text-decoration-color: #00af00\">19</span>, <span style=\"color: #00af00; text-decoration-color: #00af00\">19</span>, <span style=\"color: #00af00; text-decoration-color: #00af00\">256</span>)    │        <span style=\"color: #00af00; text-decoration-color: #00af00\">16,640</span> │\n",
       "├─────────────────────────────────┼────────────────────────┼───────────────┤\n",
       "│ dropout_10 (<span style=\"color: #0087ff; text-decoration-color: #0087ff\">Dropout</span>)            │ (<span style=\"color: #00d7ff; text-decoration-color: #00d7ff\">None</span>, <span style=\"color: #00af00; text-decoration-color: #00af00\">19</span>, <span style=\"color: #00af00; text-decoration-color: #00af00\">19</span>, <span style=\"color: #00af00; text-decoration-color: #00af00\">256</span>)    │             <span style=\"color: #00af00; text-decoration-color: #00af00\">0</span> │\n",
       "├─────────────────────────────────┼────────────────────────┼───────────────┤\n",
       "│ flatten_5 (<span style=\"color: #0087ff; text-decoration-color: #0087ff\">Flatten</span>)             │ (<span style=\"color: #00d7ff; text-decoration-color: #00d7ff\">None</span>, <span style=\"color: #00af00; text-decoration-color: #00af00\">92416</span>)          │             <span style=\"color: #00af00; text-decoration-color: #00af00\">0</span> │\n",
       "├─────────────────────────────────┼────────────────────────┼───────────────┤\n",
       "│ dense_16 (<span style=\"color: #0087ff; text-decoration-color: #0087ff\">Dense</span>)                │ (<span style=\"color: #00d7ff; text-decoration-color: #00d7ff\">None</span>, <span style=\"color: #00af00; text-decoration-color: #00af00\">256</span>)            │    <span style=\"color: #00af00; text-decoration-color: #00af00\">23,658,752</span> │\n",
       "├─────────────────────────────────┼────────────────────────┼───────────────┤\n",
       "│ dropout_11 (<span style=\"color: #0087ff; text-decoration-color: #0087ff\">Dropout</span>)            │ (<span style=\"color: #00d7ff; text-decoration-color: #00d7ff\">None</span>, <span style=\"color: #00af00; text-decoration-color: #00af00\">256</span>)            │             <span style=\"color: #00af00; text-decoration-color: #00af00\">0</span> │\n",
       "├─────────────────────────────────┼────────────────────────┼───────────────┤\n",
       "│ dense_17 (<span style=\"color: #0087ff; text-decoration-color: #0087ff\">Dense</span>)                │ (<span style=\"color: #00d7ff; text-decoration-color: #00d7ff\">None</span>, <span style=\"color: #00af00; text-decoration-color: #00af00\">10</span>)             │         <span style=\"color: #00af00; text-decoration-color: #00af00\">2,570</span> │\n",
       "└─────────────────────────────────┴────────────────────────┴───────────────┘\n",
       "</pre>\n"
      ],
      "text/plain": [
       "┏━━━━━━━━━━━━━━━━━━━━━━━━━━━━━━━━━┳━━━━━━━━━━━━━━━━━━━━━━━━┳━━━━━━━━━━━━━━━┓\n",
       "┃\u001b[1m \u001b[0m\u001b[1mLayer (type)                   \u001b[0m\u001b[1m \u001b[0m┃\u001b[1m \u001b[0m\u001b[1mOutput Shape          \u001b[0m\u001b[1m \u001b[0m┃\u001b[1m \u001b[0m\u001b[1m      Param #\u001b[0m\u001b[1m \u001b[0m┃\n",
       "┡━━━━━━━━━━━━━━━━━━━━━━━━━━━━━━━━━╇━━━━━━━━━━━━━━━━━━━━━━━━╇━━━━━━━━━━━━━━━┩\n",
       "│ conv2d_10 (\u001b[38;5;33mConv2D\u001b[0m)              │ (\u001b[38;5;45mNone\u001b[0m, \u001b[38;5;34m82\u001b[0m, \u001b[38;5;34m82\u001b[0m, \u001b[38;5;34m32\u001b[0m)     │           \u001b[38;5;34m320\u001b[0m │\n",
       "├─────────────────────────────────┼────────────────────────┼───────────────┤\n",
       "│ max_pooling2d_10 (\u001b[38;5;33mMaxPooling2D\u001b[0m) │ (\u001b[38;5;45mNone\u001b[0m, \u001b[38;5;34m41\u001b[0m, \u001b[38;5;34m41\u001b[0m, \u001b[38;5;34m32\u001b[0m)     │             \u001b[38;5;34m0\u001b[0m │\n",
       "├─────────────────────────────────┼────────────────────────┼───────────────┤\n",
       "│ conv2d_11 (\u001b[38;5;33mConv2D\u001b[0m)              │ (\u001b[38;5;45mNone\u001b[0m, \u001b[38;5;34m39\u001b[0m, \u001b[38;5;34m39\u001b[0m, \u001b[38;5;34m64\u001b[0m)     │        \u001b[38;5;34m18,496\u001b[0m │\n",
       "├─────────────────────────────────┼────────────────────────┼───────────────┤\n",
       "│ max_pooling2d_11 (\u001b[38;5;33mMaxPooling2D\u001b[0m) │ (\u001b[38;5;45mNone\u001b[0m, \u001b[38;5;34m19\u001b[0m, \u001b[38;5;34m19\u001b[0m, \u001b[38;5;34m64\u001b[0m)     │             \u001b[38;5;34m0\u001b[0m │\n",
       "├─────────────────────────────────┼────────────────────────┼───────────────┤\n",
       "│ dense_15 (\u001b[38;5;33mDense\u001b[0m)                │ (\u001b[38;5;45mNone\u001b[0m, \u001b[38;5;34m19\u001b[0m, \u001b[38;5;34m19\u001b[0m, \u001b[38;5;34m256\u001b[0m)    │        \u001b[38;5;34m16,640\u001b[0m │\n",
       "├─────────────────────────────────┼────────────────────────┼───────────────┤\n",
       "│ dropout_10 (\u001b[38;5;33mDropout\u001b[0m)            │ (\u001b[38;5;45mNone\u001b[0m, \u001b[38;5;34m19\u001b[0m, \u001b[38;5;34m19\u001b[0m, \u001b[38;5;34m256\u001b[0m)    │             \u001b[38;5;34m0\u001b[0m │\n",
       "├─────────────────────────────────┼────────────────────────┼───────────────┤\n",
       "│ flatten_5 (\u001b[38;5;33mFlatten\u001b[0m)             │ (\u001b[38;5;45mNone\u001b[0m, \u001b[38;5;34m92416\u001b[0m)          │             \u001b[38;5;34m0\u001b[0m │\n",
       "├─────────────────────────────────┼────────────────────────┼───────────────┤\n",
       "│ dense_16 (\u001b[38;5;33mDense\u001b[0m)                │ (\u001b[38;5;45mNone\u001b[0m, \u001b[38;5;34m256\u001b[0m)            │    \u001b[38;5;34m23,658,752\u001b[0m │\n",
       "├─────────────────────────────────┼────────────────────────┼───────────────┤\n",
       "│ dropout_11 (\u001b[38;5;33mDropout\u001b[0m)            │ (\u001b[38;5;45mNone\u001b[0m, \u001b[38;5;34m256\u001b[0m)            │             \u001b[38;5;34m0\u001b[0m │\n",
       "├─────────────────────────────────┼────────────────────────┼───────────────┤\n",
       "│ dense_17 (\u001b[38;5;33mDense\u001b[0m)                │ (\u001b[38;5;45mNone\u001b[0m, \u001b[38;5;34m10\u001b[0m)             │         \u001b[38;5;34m2,570\u001b[0m │\n",
       "└─────────────────────────────────┴────────────────────────┴───────────────┘\n"
      ]
     },
     "metadata": {},
     "output_type": "display_data"
    },
    {
     "data": {
      "text/html": [
       "<pre style=\"white-space:pre;overflow-x:auto;line-height:normal;font-family:Menlo,'DejaVu Sans Mono',consolas,'Courier New',monospace\"><span style=\"font-weight: bold\"> Total params: </span><span style=\"color: #00af00; text-decoration-color: #00af00\">71,090,336</span> (271.19 MB)\n",
       "</pre>\n"
      ],
      "text/plain": [
       "\u001b[1m Total params: \u001b[0m\u001b[38;5;34m71,090,336\u001b[0m (271.19 MB)\n"
      ]
     },
     "metadata": {},
     "output_type": "display_data"
    },
    {
     "data": {
      "text/html": [
       "<pre style=\"white-space:pre;overflow-x:auto;line-height:normal;font-family:Menlo,'DejaVu Sans Mono',consolas,'Courier New',monospace\"><span style=\"font-weight: bold\"> Trainable params: </span><span style=\"color: #00af00; text-decoration-color: #00af00\">23,696,778</span> (90.40 MB)\n",
       "</pre>\n"
      ],
      "text/plain": [
       "\u001b[1m Trainable params: \u001b[0m\u001b[38;5;34m23,696,778\u001b[0m (90.40 MB)\n"
      ]
     },
     "metadata": {},
     "output_type": "display_data"
    },
    {
     "data": {
      "text/html": [
       "<pre style=\"white-space:pre;overflow-x:auto;line-height:normal;font-family:Menlo,'DejaVu Sans Mono',consolas,'Courier New',monospace\"><span style=\"font-weight: bold\"> Non-trainable params: </span><span style=\"color: #00af00; text-decoration-color: #00af00\">0</span> (0.00 B)\n",
       "</pre>\n"
      ],
      "text/plain": [
       "\u001b[1m Non-trainable params: \u001b[0m\u001b[38;5;34m0\u001b[0m (0.00 B)\n"
      ]
     },
     "metadata": {},
     "output_type": "display_data"
    },
    {
     "data": {
      "text/html": [
       "<pre style=\"white-space:pre;overflow-x:auto;line-height:normal;font-family:Menlo,'DejaVu Sans Mono',consolas,'Courier New',monospace\"><span style=\"font-weight: bold\"> Optimizer params: </span><span style=\"color: #00af00; text-decoration-color: #00af00\">47,393,558</span> (180.79 MB)\n",
       "</pre>\n"
      ],
      "text/plain": [
       "\u001b[1m Optimizer params: \u001b[0m\u001b[38;5;34m47,393,558\u001b[0m (180.79 MB)\n"
      ]
     },
     "metadata": {},
     "output_type": "display_data"
    },
    {
     "name": "stdout",
     "output_type": "stream",
     "text": [
      "None\n",
      "------------------------------------------------------\n",
      "The F1 score for the model is:\n",
      "              precision    recall  f1-score   support\n",
      "\n",
      "           0       0.10      0.11      0.11      6300\n",
      "           1       0.10      0.10      0.10      5800\n",
      "           2       0.09      0.09      0.09      4900\n",
      "           3       0.10      0.09      0.10      5800\n",
      "           4       0.11      0.14      0.13      6600\n",
      "           5       0.11      0.10      0.10      6700\n",
      "           6       0.12      0.12      0.12      6500\n",
      "           7       0.08      0.10      0.09      5000\n",
      "           8       0.11      0.08      0.09      6700\n",
      "           9       0.09      0.09      0.09      5700\n",
      "\n",
      "    accuracy                           0.10     60000\n",
      "   macro avg       0.10      0.10      0.10     60000\n",
      "weighted avg       0.10      0.10      0.10     60000\n",
      "\n"
     ]
    }
   ],
   "source": [
    "i=0 # best index\n",
    "print('Our final best model was a TensorFlow model with the following hyperparameters:')\n",
    "print(f'Accuracy: {overall_accuracy[i][0]:2f} | Loss: {overall_accuracy[i][1]:2f} - Dropout 1: {overall_accuracy[i][3]} - Dropout 2: {overall_accuracy[i][4]} - Density: {overall_accuracy[i][5]} - Optimizer: {overall_accuracy[i][6]}')\n",
    "print('------------------------------------------------------')\n",
    "print(model.summary())\n",
    "print('------------------------------------------------------')\n",
    "print('The F1 score for the model is:')\n",
    "print(f1_score)\n",
    "\n"
   ]
  }
 ],
 "metadata": {
  "kernelspec": {
   "display_name": "Python 3",
   "language": "python",
   "name": "python3"
  },
  "language_info": {
   "codemirror_mode": {
    "name": "ipython",
    "version": 3
   },
   "file_extension": ".py",
   "mimetype": "text/x-python",
   "name": "python",
   "nbconvert_exporter": "python",
   "pygments_lexer": "ipython3",
   "version": "3.12.5"
  }
 },
 "nbformat": 4,
 "nbformat_minor": 2
}
