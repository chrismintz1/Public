{
 "cells": [
  {
   "cell_type": "code",
   "execution_count": null,
   "metadata": {},
   "outputs": [],
   "source": [
    "# Apply GridSearchCV to find the best hyperparameters in a more automated approach\n",
    "from scikeras.wrappers import KerasClassifier\n",
    "from sklearn.model_selection import GridSearchCV\n",
    "from sklearn.model_selection import train_test_split\n",
    "from sklearn.model_selection import cross_val_score\n",
    "from sklearn.metrics import accuracy_score\n",
    "from sklearn.metrics import classification_report\n",
    "\n",
    "\n",
    "# define the model\n",
    "model_k = KerasClassifier(build_fn=create_model, epochs=planned_epochs, batch_size=batch_size, verbose=1)\n",
    "\n",
    "# define the grid search parameters\n",
    "dropout_1_variations = [0.1, 0.15, 0.2]\n",
    "dropout_2_variations = [0.3, 0.4, 0.5]\n",
    "density_variations = [32, 64, 128]\n",
    "optimizer_variations = ['adam', 'adadelta', 'adamax']\n",
    "param_grid = dict(dropout=dropout_1_variations, dropout_2=dropout_2_variations, density=density_variations, optimizer=optimizer_variations)\n",
    "param_grid = dict(dropout=dropout_1_variations)\n",
    "grid = GridSearchCV(estimator=model_k, param_grid=param_grid, n_jobs=-1, cv=3, verbose=1)\n",
    "\n",
    "training_generator_list = train_test_split(training_generator, train_size=500)\n",
    "\n",
    "# Convert training and test data\n",
    "training_generator_list = list(training_generator)\n",
    "test_generator_list = list(test_generator)\n",
    "# Split the training data for grid search\n",
    "training_generator_list = train_test_split(training_generator_list, train_size=938)\n",
    "\n",
    "# Perform grid search\n",
    "grid = GridSearchCV(estimator=model_k, param_grid=param_grid, n_jobs=-1, cv=3, verbose=1)\n",
    "grid_result = grid.fit(training_generator_list, test_generator_list)\n",
    "\n",
    "# summarize results\n",
    "print(\"Best: %f using %s\" % (grid_result.best_score_, grid_result.best_params_))\n",
    "means = grid_result.cv_results_['mean_test_score']\n",
    "stds = grid_result.cv_results_['std_test_score']\n",
    "params = grid_result.cv_results_['params']\n",
    "for mean, stdev, param in zip(means, stds, params):\n",
    "    print(\"%f (%f) with: %r\" % (mean, stdev, param))"
   ]
  }
 ],
 "metadata": {
  "language_info": {
   "name": "python"
  }
 },
 "nbformat": 4,
 "nbformat_minor": 2
}
