{
 "cells": [
  {
   "cell_type": "markdown",
   "id": "b808d525",
   "metadata": {},
   "source": [
    "## Graduate admissions linear regression exercise\n",
    "Chris Mintz"
   ]
  },
  {
   "cell_type": "code",
   "execution_count": 1,
   "id": "f60e942c",
   "metadata": {},
   "outputs": [],
   "source": [
    "import numpy as np\n",
    "import pandas as pd\n",
    "import matplotlib.pyplot as plt\n",
    "from matplotlib.pyplot import figure\n",
    "import math"
   ]
  },
  {
   "cell_type": "markdown",
   "id": "fe7c932f",
   "metadata": {},
   "source": [
    "### Step 1:\n",
    "\n",
    "As dataset, we will use:\n",
    "https://www.kaggle.com/mohansacharya/graduate-admissions\n",
    "\n",
    "The CSV of the dataset (Admission_Predict.csv) is loaded from local then brought in through a pandas data frame"
   ]
  },
  {
   "cell_type": "code",
   "execution_count": 2,
   "id": "8a7a2876",
   "metadata": {},
   "outputs": [],
   "source": [
    "# step 1 - load the data\n",
    "df = pd.read_csv('Admission_Predict.csv')"
   ]
  },
  {
   "cell_type": "markdown",
   "id": "3b0f78e8",
   "metadata": {},
   "source": [
    "Have a look at the dataset."
   ]
  },
  {
   "cell_type": "code",
   "execution_count": 3,
   "id": "a431229b",
   "metadata": {},
   "outputs": [
    {
     "data": {
      "text/html": [
       "<div>\n",
       "<style scoped>\n",
       "    .dataframe tbody tr th:only-of-type {\n",
       "        vertical-align: middle;\n",
       "    }\n",
       "\n",
       "    .dataframe tbody tr th {\n",
       "        vertical-align: top;\n",
       "    }\n",
       "\n",
       "    .dataframe thead th {\n",
       "        text-align: right;\n",
       "    }\n",
       "</style>\n",
       "<table border=\"1\" class=\"dataframe\">\n",
       "  <thead>\n",
       "    <tr style=\"text-align: right;\">\n",
       "      <th></th>\n",
       "      <th>Serial No.</th>\n",
       "      <th>GRE Score</th>\n",
       "      <th>TOEFL Score</th>\n",
       "      <th>University Rating</th>\n",
       "      <th>SOP</th>\n",
       "      <th>LOR</th>\n",
       "      <th>CGPA</th>\n",
       "      <th>Research</th>\n",
       "      <th>Chance of Admit</th>\n",
       "    </tr>\n",
       "  </thead>\n",
       "  <tbody>\n",
       "    <tr>\n",
       "      <th>0</th>\n",
       "      <td>1</td>\n",
       "      <td>337</td>\n",
       "      <td>118</td>\n",
       "      <td>4</td>\n",
       "      <td>4.5</td>\n",
       "      <td>4.5</td>\n",
       "      <td>9.65</td>\n",
       "      <td>1</td>\n",
       "      <td>0.92</td>\n",
       "    </tr>\n",
       "    <tr>\n",
       "      <th>1</th>\n",
       "      <td>2</td>\n",
       "      <td>324</td>\n",
       "      <td>107</td>\n",
       "      <td>4</td>\n",
       "      <td>4.0</td>\n",
       "      <td>4.5</td>\n",
       "      <td>8.87</td>\n",
       "      <td>1</td>\n",
       "      <td>0.76</td>\n",
       "    </tr>\n",
       "    <tr>\n",
       "      <th>2</th>\n",
       "      <td>3</td>\n",
       "      <td>316</td>\n",
       "      <td>104</td>\n",
       "      <td>3</td>\n",
       "      <td>3.0</td>\n",
       "      <td>3.5</td>\n",
       "      <td>8.00</td>\n",
       "      <td>1</td>\n",
       "      <td>0.72</td>\n",
       "    </tr>\n",
       "    <tr>\n",
       "      <th>3</th>\n",
       "      <td>4</td>\n",
       "      <td>322</td>\n",
       "      <td>110</td>\n",
       "      <td>3</td>\n",
       "      <td>3.5</td>\n",
       "      <td>2.5</td>\n",
       "      <td>8.67</td>\n",
       "      <td>1</td>\n",
       "      <td>0.80</td>\n",
       "    </tr>\n",
       "    <tr>\n",
       "      <th>4</th>\n",
       "      <td>5</td>\n",
       "      <td>314</td>\n",
       "      <td>103</td>\n",
       "      <td>2</td>\n",
       "      <td>2.0</td>\n",
       "      <td>3.0</td>\n",
       "      <td>8.21</td>\n",
       "      <td>0</td>\n",
       "      <td>0.65</td>\n",
       "    </tr>\n",
       "  </tbody>\n",
       "</table>\n",
       "</div>"
      ],
      "text/plain": [
       "   Serial No.  GRE Score  TOEFL Score  University Rating  SOP  LOR   CGPA  \\\n",
       "0           1        337          118                  4  4.5   4.5  9.65   \n",
       "1           2        324          107                  4  4.0   4.5  8.87   \n",
       "2           3        316          104                  3  3.0   3.5  8.00   \n",
       "3           4        322          110                  3  3.5   2.5  8.67   \n",
       "4           5        314          103                  2  2.0   3.0  8.21   \n",
       "\n",
       "   Research  Chance of Admit   \n",
       "0         1              0.92  \n",
       "1         1              0.76  \n",
       "2         1              0.72  \n",
       "3         1              0.80  \n",
       "4         0              0.65  "
      ]
     },
     "execution_count": 3,
     "metadata": {},
     "output_type": "execute_result"
    }
   ],
   "source": [
    "df.head()"
   ]
  },
  {
   "cell_type": "code",
   "execution_count": 4,
   "id": "d42c0f2b",
   "metadata": {
    "scrolled": true
   },
   "outputs": [
    {
     "name": "stdout",
     "output_type": "stream",
     "text": [
      "<class 'pandas.core.frame.DataFrame'>\n",
      "RangeIndex: 400 entries, 0 to 399\n",
      "Data columns (total 9 columns):\n",
      " #   Column             Non-Null Count  Dtype  \n",
      "---  ------             --------------  -----  \n",
      " 0   Serial No.         400 non-null    int64  \n",
      " 1   GRE Score          400 non-null    int64  \n",
      " 2   TOEFL Score        400 non-null    int64  \n",
      " 3   University Rating  400 non-null    int64  \n",
      " 4   SOP                400 non-null    float64\n",
      " 5   LOR                400 non-null    float64\n",
      " 6   CGPA               400 non-null    float64\n",
      " 7   Research           400 non-null    int64  \n",
      " 8   Chance of Admit    400 non-null    float64\n",
      "dtypes: float64(4), int64(5)\n",
      "memory usage: 28.2 KB\n"
     ]
    }
   ],
   "source": [
    "df.info()"
   ]
  },
  {
   "cell_type": "markdown",
   "id": "d8c0cd35",
   "metadata": {},
   "source": [
    "### Step 2:\n",
    "Separate the features into X and labels into Y."
   ]
  },
  {
   "cell_type": "code",
   "execution_count": 5,
   "id": "52cadaca",
   "metadata": {},
   "outputs": [],
   "source": [
    "# features are columns 1 to 7\n",
    "x = df.iloc[:, 1:8].values\n",
    "\n",
    "#labels are in column 8\n",
    "y = df.iloc[:, 8].values"
   ]
  },
  {
   "cell_type": "markdown",
   "id": "c012b6ac",
   "metadata": {},
   "source": [
    "### Step 3:\n",
    "Perform data normalization"
   ]
  },
  {
   "cell_type": "code",
   "execution_count": 6,
   "id": "15992e08",
   "metadata": {},
   "outputs": [
    {
     "name": "stdout",
     "output_type": "stream",
     "text": [
      "   GRE Score  TOEFL Score  University Rating    SOP   LOR       CGPA  Research\n",
      "0       0.94     0.928571               0.75  0.875  0.875  0.913462       1.0\n",
      "1       0.68     0.535714               0.75  0.750  0.875  0.663462       1.0\n",
      "2       0.52     0.428571               0.50  0.500  0.625  0.384615       1.0\n",
      "3       0.64     0.642857               0.50  0.625  0.375  0.599359       1.0\n",
      "4       0.48     0.392857               0.25  0.250  0.500  0.451923       0.0\n",
      "5       0.80     0.821429               1.00  0.875  0.500  0.814103       1.0\n",
      "6       0.62     0.607143               0.50  0.500  0.750  0.448718       1.0\n",
      "7       0.36     0.321429               0.25  0.500  0.750  0.352564       0.0\n",
      "8       0.24     0.357143               0.00  0.250  0.125  0.384615       0.0\n",
      "9       0.66     0.571429               0.50  0.625  0.500  0.576923       0.0\n"
     ]
    }
   ],
   "source": [
    "# min-max scaling of the features is the approach we will use\n",
    "from sklearn.preprocessing import MinMaxScaler\n",
    "scaler = MinMaxScaler()\n",
    "x_scaled = scaler.fit_transform(x)\n",
    "\n",
    "#peek at the first 10 records\n",
    "p_x_scaled = pd.DataFrame(x_scaled, columns = df.columns[1:8])\n",
    "print(p_x_scaled.head(10))"
   ]
  },
  {
   "cell_type": "markdown",
   "id": "7cd2a7c4",
   "metadata": {},
   "source": [
    "### Step 4:\n",
    "Split the data into train (80%) and test (20%) sets"
   ]
  },
  {
   "cell_type": "code",
   "execution_count": 7,
   "id": "6608fe5a",
   "metadata": {},
   "outputs": [],
   "source": [
    "# creating our test and training datasets using the scaled features\n",
    "from sklearn.model_selection import train_test_split\n",
    "x_train, x_test, y_train, y_test = train_test_split(x_scaled, y, test_size=0.2)"
   ]
  },
  {
   "cell_type": "markdown",
   "id": "2322c820",
   "metadata": {},
   "source": [
    "### Step 5:\n",
    "Fit a linear regression model to your data, and print the intercept and coefficients"
   ]
  },
  {
   "cell_type": "code",
   "execution_count": 8,
   "id": "d375f517",
   "metadata": {},
   "outputs": [
    {
     "name": "stdout",
     "output_type": "stream",
     "text": [
      "intercept:  0.36049027054232624\n",
      "coefficients:  [ 0.12075217  0.08374359  0.02003062 -0.01008298  0.06458722  0.34329923\n",
      "  0.02439593]\n"
     ]
    }
   ],
   "source": [
    "# init the linear regression model\n",
    "from sklearn.linear_model import LinearRegression\n",
    "regressor = LinearRegression()\n",
    "regressor.fit(x_train, y_train)\n",
    "\n",
    "# now find the intercept and coefficients\n",
    "print(\"intercept: \", regressor.intercept_)\n",
    "print(\"coefficients: \", regressor.coef_)"
   ]
  },
  {
   "cell_type": "markdown",
   "id": "696748e8",
   "metadata": {},
   "source": [
    "### Step 6:\n",
    "Make predictions on the test data and assess the performance of your model using MAE, MSE, and RMSE"
   ]
  },
  {
   "cell_type": "code",
   "execution_count": 9,
   "id": "f7e56fb4",
   "metadata": {},
   "outputs": [
    {
     "name": "stdout",
     "output_type": "stream",
     "text": [
      "Mean Absolute Error: 0.04926483862036202\n",
      "Mean Squared Error: 0.005083702273705035\n",
      "Root Mean Squared Error: 0.07130008607081084\n"
     ]
    }
   ],
   "source": [
    "# generate predictions from model\n",
    "y_pred = regressor.predict(x_test)\n",
    "\n",
    "# compare the actual and predicted values and get MAE, MSE and RMSE\n",
    "from sklearn import metrics\n",
    "print('Mean Absolute Error:', metrics.mean_absolute_error(y_test, y_pred))\n",
    "print('Mean Squared Error:', metrics.mean_squared_error(y_test, y_pred))\n",
    "print('Root Mean Squared Error:', np.sqrt(metrics.mean_squared_error(y_test, y_pred)))"
   ]
  },
  {
   "cell_type": "code",
   "execution_count": 10,
   "id": "4f8d4315",
   "metadata": {},
   "outputs": [
    {
     "data": {
      "image/png": "[encoded data removed]",
      "text/plain": [
       "<Figure size 640x480 with 1 Axes>"
      ]
     },
     "metadata": {},
     "output_type": "display_data"
    }
   ],
   "source": [
    "# plot the actual vs predicted values and add the diagonal line\n",
    "plt.scatter(y_test, y_pred)\n",
    "\n",
    "z = np.polyfit(y_test, y_pred, 1)\n",
    "p = np.poly1d(z)\n",
    "plt.plot(y_test,p(y_test),\"m--\")\n",
    "\n",
    "plt.xlabel('Actual')\n",
    "plt.ylabel('Predicted')\n",
    "plt.show()\n"
   ]
  },
  {
   "cell_type": "code",
   "execution_count": 11,
   "id": "d8e6609e",
   "metadata": {},
   "outputs": [
    {
     "data": {
      "text/plain": [
       "[('CGPA', 0.3432992317190579),\n",
       " ('GRE Score', 0.12075216858432121),\n",
       " ('TOEFL Score', 0.08374359328164174),\n",
       " ('LOR ', 0.06458721538928021),\n",
       " ('Research', 0.02439592506133563),\n",
       " ('University Rating', 0.020030623158817512),\n",
       " ('SOP', -0.010082983639274623)]"
      ]
     },
     "execution_count": 11,
     "metadata": {},
     "output_type": "execute_result"
    }
   ],
   "source": [
    "# evaluate the weight of the features\n",
    "\n",
    "# dictionary to hold the features and their weights\n",
    "feature_weights = {}\n",
    "\n",
    "weights = regressor.coef_\n",
    "features = df.columns[1:8]\n",
    "for i in range(len(features)):\n",
    "    # add to a dictionary\n",
    "    feature_weights[features[i]] = weights[i]\n",
    "\n",
    "# order the features by their weights\n",
    "sorted_feature_weights = sorted(feature_weights.items(), key=lambda x: x[1], reverse=True)\n",
    "\n",
    "# check out the weight sorted features\n",
    "sorted_feature_weights\n"
   ]
  }
 ],
 "metadata": {
  "kernelspec": {
   "display_name": "Python 3",
   "language": "python",
   "name": "python3"
  },
  "language_info": {
   "codemirror_mode": {
    "name": "ipython",
    "version": 3
   },
   "file_extension": ".py",
   "mimetype": "text/x-python",
   "name": "python",
   "nbconvert_exporter": "python",
   "pygments_lexer": "ipython3",
   "version": "3.10.4"
  },
  "vscode": {
   "interpreter": {
    "hash": "6df0ddd77085922c773681b1c23afa6ec355a7eb5a25c833f534ec75c0111436"
   }
  }
 },
 "nbformat": 4,
 "nbformat_minor": 5
}
